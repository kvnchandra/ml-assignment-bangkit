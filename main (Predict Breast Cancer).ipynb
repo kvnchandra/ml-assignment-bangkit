{
  "nbformat": 4,
  "nbformat_minor": 0,
  "metadata": {
    "colab": {
      "name": "main.ipynb",
      "provenance": [],
      "collapsed_sections": [],
      "include_colab_link": true
    },
    "kernelspec": {
      "name": "python3",
      "display_name": "Python 3"
    }
  },
  "cells": [
    {
      "cell_type": "markdown",
      "metadata": {
        "id": "view-in-github",
        "colab_type": "text"
      },
      "source": [
        "<a href=\"https://colab.research.google.com/github/kvnchandra/ml-assignment-bangkit/blob/master/main%20(Predict%20Breast%20Cancer).ipynb\" target=\"_parent\"><img src=\"https://colab.research.google.com/assets/colab-badge.svg\" alt=\"Open In Colab\"/></a>"
      ]
    },
    {
      "cell_type": "markdown",
      "metadata": {
        "id": "0X85ZBYzGAm3",
        "colab_type": "text"
      },
      "source": [
        "# **Predicting Breast Cancer Diagnostic**\n",
        "\n",
        "\n",
        "---\n",
        "\n",
        "\n",
        "*Bangkit Academy 2020 : DPS-1 #05-W05-First Machine Learning Project - MLCC*\n",
        "\n",
        "Team members :\n",
        "1.   Kevin Chandra\n",
        "2.   Oktavia Citra\n",
        "3.   Gani Nur Fadli\n",
        "\n",
        "We use data from [kaggle.com ](https://https://www.kaggle.com/) with the title \"Breast Cancer Wisconsin (Diagnostic) Data Set\". We want to predict whether the cancer is benign or malignant of breast cancer patients. We can build this program because we've learned a lot from [Machine Learning Crash Course](https://developers.google.com/machine-learning/crash-course) and [TensorFlow Website](https://www.tensorflow.org/tutorials/)\n",
        "\n",
        "***Here the step by step and code bellow!***\n"
      ]
    },
    {
      "cell_type": "markdown",
      "metadata": {
        "id": "98SN36rVJWJS",
        "colab_type": "text"
      },
      "source": [
        "# **Setup**"
      ]
    },
    {
      "cell_type": "markdown",
      "metadata": {
        "id": "7bWhxa4YCXjK",
        "colab_type": "text"
      },
      "source": [
        "identification tensorflow newest version, so there is no error with the caption \"tensorflow is already loaded. please restart the runtime to change versions.\""
      ]
    },
    {
      "cell_type": "code",
      "metadata": {
        "id": "NA5H98LMJx6W",
        "colab_type": "code",
        "colab": {}
      },
      "source": [
        "try:\n",
        "  # %tensorflow_version only exists in Colab.\n",
        "  %tensorflow_version 2.x\n",
        "except Exception:\n",
        "  pass"
      ],
      "execution_count": 0,
      "outputs": []
    },
    {
      "cell_type": "markdown",
      "metadata": {
        "id": "IDP3oI8-CTku",
        "colab_type": "text"
      },
      "source": [
        "Import all modules and library that you need in the top"
      ]
    },
    {
      "cell_type": "code",
      "metadata": {
        "id": "bxPJYuj8CLne",
        "colab_type": "code",
        "colab": {}
      },
      "source": [
        "# Import relevant modules\n",
        "from __future__ import absolute_import, division, print_function, unicode_literals\n",
        "import functools\n",
        "import numpy as np\n",
        "import pandas as pd\n",
        "import tensorflow as tf\n",
        "import matplotlib.pyplot as plt\n",
        "import seaborn as sns\n",
        "\n",
        "from tensorflow import keras\n",
        "from tensorflow.keras import layers\n",
        "from sklearn.model_selection import train_test_split"
      ],
      "execution_count": 0,
      "outputs": []
    },
    {
      "cell_type": "markdown",
      "metadata": {
        "id": "JKza2PuZ_3Zq",
        "colab_type": "text"
      },
      "source": [
        "# **Initial Data**"
      ]
    },
    {
      "cell_type": "markdown",
      "metadata": {
        "id": "depUMkhu7ibb",
        "colab_type": "text"
      },
      "source": [
        "If you have data.csv and you want to publish on web, you can use feature Google Spreadsheet. You just need to copy the link that had been generated"
      ]
    },
    {
      "cell_type": "code",
      "metadata": {
        "id": "pAzlaEJD7Qhn",
        "colab_type": "code",
        "outputId": "1e208b7e-294b-43bc-8b71-50cc1db2fa2e",
        "colab": {
          "base_uri": "https://localhost:8080/",
          "height": 51
        }
      },
      "source": [
        "# Download data using URL then save as \"data.csv\"\n",
        "URL = \"https://docs.google.com/spreadsheets/d/e/2PACX-1vQwPxotnLsgXuZt6tIXlAANttT3pxhP4ph0FhSjwvGUXfGKcnFRiqJORQg_9lBC77AH7QaxYypQ24nX/pub?output=csv\"\n",
        "dataset_path = keras.utils.get_file(\"data.csv\", URL)\n",
        "dataset_path"
      ],
      "execution_count": 0,
      "outputs": [
        {
          "output_type": "stream",
          "text": [
            "Downloading data from https://docs.google.com/spreadsheets/d/e/2PACX-1vQwPxotnLsgXuZt6tIXlAANttT3pxhP4ph0FhSjwvGUXfGKcnFRiqJORQg_9lBC77AH7QaxYypQ24nX/pub?output=csv\n",
            "   8192/Unknown - 0s 0us/step"
          ],
          "name": "stdout"
        },
        {
          "output_type": "execute_result",
          "data": {
            "text/plain": [
              "'/root/.keras/datasets/data.csv'"
            ]
          },
          "metadata": {
            "tags": []
          },
          "execution_count": 3
        }
      ]
    },
    {
      "cell_type": "markdown",
      "metadata": {
        "id": "0QHdNMCC8hbT",
        "colab_type": "text"
      },
      "source": [
        "This is using funcation read data csv from pandas. It's so simple"
      ]
    },
    {
      "cell_type": "code",
      "metadata": {
        "id": "5nU8hbjE7bjO",
        "colab_type": "code",
        "outputId": "dc8edece-e8b0-4608-f777-3386e69cb9e0",
        "colab": {
          "base_uri": "https://localhost:8080/",
          "height": 241
        }
      },
      "source": [
        "# Read data that had been dowloaded\n",
        "dataframe = pd.read_csv(dataset_path)\n",
        "dataframe.head()"
      ],
      "execution_count": 0,
      "outputs": [
        {
          "output_type": "execute_result",
          "data": {
            "text/html": [
              "<div>\n",
              "<style scoped>\n",
              "    .dataframe tbody tr th:only-of-type {\n",
              "        vertical-align: middle;\n",
              "    }\n",
              "\n",
              "    .dataframe tbody tr th {\n",
              "        vertical-align: top;\n",
              "    }\n",
              "\n",
              "    .dataframe thead th {\n",
              "        text-align: right;\n",
              "    }\n",
              "</style>\n",
              "<table border=\"1\" class=\"dataframe\">\n",
              "  <thead>\n",
              "    <tr style=\"text-align: right;\">\n",
              "      <th></th>\n",
              "      <th>id</th>\n",
              "      <th>diagnosis</th>\n",
              "      <th>radius_mean</th>\n",
              "      <th>texture_mean</th>\n",
              "      <th>perimeter_mean</th>\n",
              "      <th>area_mean</th>\n",
              "      <th>smoothness_mean</th>\n",
              "      <th>compactness_mean</th>\n",
              "      <th>concavity_mean</th>\n",
              "      <th>concave points_mean</th>\n",
              "      <th>symmetry_mean</th>\n",
              "      <th>fractal_dimension_mean</th>\n",
              "      <th>radius_se</th>\n",
              "      <th>texture_se</th>\n",
              "      <th>perimeter_se</th>\n",
              "      <th>area_se</th>\n",
              "      <th>smoothness_se</th>\n",
              "      <th>compactness_se</th>\n",
              "      <th>concavity_se</th>\n",
              "      <th>concave points_se</th>\n",
              "      <th>symmetry_se</th>\n",
              "      <th>fractal_dimension_se</th>\n",
              "      <th>radius_worst</th>\n",
              "      <th>texture_worst</th>\n",
              "      <th>perimeter_worst</th>\n",
              "      <th>area_worst</th>\n",
              "      <th>smoothness_worst</th>\n",
              "      <th>compactness_worst</th>\n",
              "      <th>concavity_worst</th>\n",
              "      <th>concave points_worst</th>\n",
              "      <th>symmetry_worst</th>\n",
              "      <th>fractal_dimension_worst</th>\n",
              "    </tr>\n",
              "  </thead>\n",
              "  <tbody>\n",
              "    <tr>\n",
              "      <th>0</th>\n",
              "      <td>842302</td>\n",
              "      <td>M</td>\n",
              "      <td>17.99</td>\n",
              "      <td>10.38</td>\n",
              "      <td>122.80</td>\n",
              "      <td>1001.0</td>\n",
              "      <td>1.184</td>\n",
              "      <td>2.776</td>\n",
              "      <td>3.001</td>\n",
              "      <td>1.471</td>\n",
              "      <td>2.419</td>\n",
              "      <td>7.871</td>\n",
              "      <td>1.095</td>\n",
              "      <td>9.053</td>\n",
              "      <td>8.589</td>\n",
              "      <td>153.40</td>\n",
              "      <td>6.399</td>\n",
              "      <td>4.904</td>\n",
              "      <td>5.373</td>\n",
              "      <td>1.587</td>\n",
              "      <td>3.003</td>\n",
              "      <td>6.193</td>\n",
              "      <td>25.38</td>\n",
              "      <td>17.33</td>\n",
              "      <td>184.60</td>\n",
              "      <td>2019.0</td>\n",
              "      <td>1.622</td>\n",
              "      <td>6.656</td>\n",
              "      <td>7.119</td>\n",
              "      <td>2.654</td>\n",
              "      <td>4.601</td>\n",
              "      <td>1.189</td>\n",
              "    </tr>\n",
              "    <tr>\n",
              "      <th>1</th>\n",
              "      <td>842517</td>\n",
              "      <td>M</td>\n",
              "      <td>20.57</td>\n",
              "      <td>17.77</td>\n",
              "      <td>132.90</td>\n",
              "      <td>1326.0</td>\n",
              "      <td>8.474</td>\n",
              "      <td>7.864</td>\n",
              "      <td>869.000</td>\n",
              "      <td>7.017</td>\n",
              "      <td>1.812</td>\n",
              "      <td>5.667</td>\n",
              "      <td>5.435</td>\n",
              "      <td>7.339</td>\n",
              "      <td>3.398</td>\n",
              "      <td>74.08</td>\n",
              "      <td>5.225</td>\n",
              "      <td>1.308</td>\n",
              "      <td>186.000</td>\n",
              "      <td>134.000</td>\n",
              "      <td>1.389</td>\n",
              "      <td>3.532</td>\n",
              "      <td>24.99</td>\n",
              "      <td>23.41</td>\n",
              "      <td>158.80</td>\n",
              "      <td>1956.0</td>\n",
              "      <td>1.238</td>\n",
              "      <td>1.866</td>\n",
              "      <td>2.416</td>\n",
              "      <td>186.000</td>\n",
              "      <td>275.000</td>\n",
              "      <td>8.902</td>\n",
              "    </tr>\n",
              "    <tr>\n",
              "      <th>2</th>\n",
              "      <td>84300903</td>\n",
              "      <td>M</td>\n",
              "      <td>19.69</td>\n",
              "      <td>21.25</td>\n",
              "      <td>130.00</td>\n",
              "      <td>1203.0</td>\n",
              "      <td>1.096</td>\n",
              "      <td>1.599</td>\n",
              "      <td>1.974</td>\n",
              "      <td>1.279</td>\n",
              "      <td>2.069</td>\n",
              "      <td>5.999</td>\n",
              "      <td>7.456</td>\n",
              "      <td>7.869</td>\n",
              "      <td>4.585</td>\n",
              "      <td>94.03</td>\n",
              "      <td>615.000</td>\n",
              "      <td>4.006</td>\n",
              "      <td>3.832</td>\n",
              "      <td>2.058</td>\n",
              "      <td>225.000</td>\n",
              "      <td>4.571</td>\n",
              "      <td>23.57</td>\n",
              "      <td>25.53</td>\n",
              "      <td>152.50</td>\n",
              "      <td>1709.0</td>\n",
              "      <td>1.444</td>\n",
              "      <td>4.245</td>\n",
              "      <td>4.504</td>\n",
              "      <td>243.000</td>\n",
              "      <td>3.613</td>\n",
              "      <td>8.758</td>\n",
              "    </tr>\n",
              "    <tr>\n",
              "      <th>3</th>\n",
              "      <td>84348301</td>\n",
              "      <td>M</td>\n",
              "      <td>11.42</td>\n",
              "      <td>20.38</td>\n",
              "      <td>77.58</td>\n",
              "      <td>386.1</td>\n",
              "      <td>1.425</td>\n",
              "      <td>2.839</td>\n",
              "      <td>2.414</td>\n",
              "      <td>1.052</td>\n",
              "      <td>2.597</td>\n",
              "      <td>9.744</td>\n",
              "      <td>4.956</td>\n",
              "      <td>1.156</td>\n",
              "      <td>3.445</td>\n",
              "      <td>27.23</td>\n",
              "      <td>911.000</td>\n",
              "      <td>7.458</td>\n",
              "      <td>5.661</td>\n",
              "      <td>1.867</td>\n",
              "      <td>5.963</td>\n",
              "      <td>9.208</td>\n",
              "      <td>14.91</td>\n",
              "      <td>26.50</td>\n",
              "      <td>98.87</td>\n",
              "      <td>567.7</td>\n",
              "      <td>2.098</td>\n",
              "      <td>8.663</td>\n",
              "      <td>6.869</td>\n",
              "      <td>2.575</td>\n",
              "      <td>6.638</td>\n",
              "      <td>173.000</td>\n",
              "    </tr>\n",
              "    <tr>\n",
              "      <th>4</th>\n",
              "      <td>84358402</td>\n",
              "      <td>M</td>\n",
              "      <td>20.29</td>\n",
              "      <td>14.34</td>\n",
              "      <td>135.10</td>\n",
              "      <td>1297.0</td>\n",
              "      <td>1.003</td>\n",
              "      <td>1.328</td>\n",
              "      <td>198.000</td>\n",
              "      <td>1.043</td>\n",
              "      <td>1.809</td>\n",
              "      <td>5.883</td>\n",
              "      <td>7.572</td>\n",
              "      <td>7.813</td>\n",
              "      <td>5.438</td>\n",
              "      <td>94.44</td>\n",
              "      <td>1.149</td>\n",
              "      <td>2.461</td>\n",
              "      <td>5.688</td>\n",
              "      <td>1.885</td>\n",
              "      <td>1.756</td>\n",
              "      <td>5.115</td>\n",
              "      <td>22.54</td>\n",
              "      <td>16.67</td>\n",
              "      <td>152.20</td>\n",
              "      <td>1575.0</td>\n",
              "      <td>1.374</td>\n",
              "      <td>205.000</td>\n",
              "      <td>0.400</td>\n",
              "      <td>1.625</td>\n",
              "      <td>2.364</td>\n",
              "      <td>7.678</td>\n",
              "    </tr>\n",
              "  </tbody>\n",
              "</table>\n",
              "</div>"
            ],
            "text/plain": [
              "         id diagnosis  ...  symmetry_worst  fractal_dimension_worst\n",
              "0    842302         M  ...           4.601                    1.189\n",
              "1    842517         M  ...         275.000                    8.902\n",
              "2  84300903         M  ...           3.613                    8.758\n",
              "3  84348301         M  ...           6.638                  173.000\n",
              "4  84358402         M  ...           2.364                    7.678\n",
              "\n",
              "[5 rows x 32 columns]"
            ]
          },
          "metadata": {
            "tags": []
          },
          "execution_count": 4
        }
      ]
    },
    {
      "cell_type": "markdown",
      "metadata": {
        "id": "9iV_m0W57_wy",
        "colab_type": "text"
      },
      "source": [
        "Get all the columns in dataset"
      ]
    },
    {
      "cell_type": "code",
      "metadata": {
        "id": "6gFt12Yn8ED_",
        "colab_type": "code",
        "outputId": "c5525c18-f940-4640-a039-7f4df2d62a04",
        "colab": {
          "base_uri": "https://localhost:8080/",
          "height": 187
        }
      },
      "source": [
        "dataframe.columns"
      ],
      "execution_count": 0,
      "outputs": [
        {
          "output_type": "execute_result",
          "data": {
            "text/plain": [
              "Index(['id', 'diagnosis', 'radius_mean', 'texture_mean', 'perimeter_mean',\n",
              "       'area_mean', 'smoothness_mean', 'compactness_mean', 'concavity_mean',\n",
              "       'concave points_mean', 'symmetry_mean', 'fractal_dimension_mean',\n",
              "       'radius_se', 'texture_se', 'perimeter_se', 'area_se', 'smoothness_se',\n",
              "       'compactness_se', 'concavity_se', 'concave points_se', 'symmetry_se',\n",
              "       'fractal_dimension_se', 'radius_worst', 'texture_worst',\n",
              "       'perimeter_worst', 'area_worst', 'smoothness_worst',\n",
              "       'compactness_worst', 'concavity_worst', 'concave points_worst',\n",
              "       'symmetry_worst', 'fractal_dimension_worst'],\n",
              "      dtype='object')"
            ]
          },
          "metadata": {
            "tags": []
          },
          "execution_count": 5
        }
      ]
    },
    {
      "cell_type": "markdown",
      "metadata": {
        "id": "yYTlsMcR8ExL",
        "colab_type": "text"
      },
      "source": [
        "There are some columns that have space in their name. So we rename that columns' name so there is no space in the name"
      ]
    },
    {
      "cell_type": "code",
      "metadata": {
        "id": "kEOil3Aw8QtF",
        "colab_type": "code",
        "colab": {}
      },
      "source": [
        "dataframe.rename(columns={'concave points_mean': 'concave_points_mean',\n",
        "                          'concave points_se' : 'concave_points_se',\n",
        "                          'concave points_worst' : 'concave_points_worst'},\n",
        "                 inplace=True)"
      ],
      "execution_count": 0,
      "outputs": []
    },
    {
      "cell_type": "markdown",
      "metadata": {
        "id": "SbnA0ffDyzKY",
        "colab_type": "text"
      },
      "source": [
        "Based on the table above, **id** won't be used as feature for classification problem. So we remove the **id**"
      ]
    },
    {
      "cell_type": "code",
      "metadata": {
        "id": "iu7PN7rqywz_",
        "colab_type": "code",
        "outputId": "6713973c-c22d-4bed-8b2f-b08deb3a6c2b",
        "colab": {
          "base_uri": "https://localhost:8080/",
          "height": 34
        }
      },
      "source": [
        "dataframe.drop('id', axis=1, inplace=True)  # dropping the 'id' column\n",
        "\n",
        "print(\"Row, Col\", dataframe.shape)          # (row,col)"
      ],
      "execution_count": 0,
      "outputs": [
        {
          "output_type": "stream",
          "text": [
            "Row, Col (569, 31)\n"
          ],
          "name": "stdout"
        }
      ]
    },
    {
      "cell_type": "markdown",
      "metadata": {
        "id": "0QFP6j2PzVmF",
        "colab_type": "text"
      },
      "source": [
        "For diagnosis, we change the label as 1 and 0 :\n",
        "- Benign : 0\n",
        "- Malignant : 1"
      ]
    },
    {
      "cell_type": "code",
      "metadata": {
        "id": "2GpLZKypzV9z",
        "colab_type": "code",
        "outputId": "cffb7778-13de-4092-9779-49eded4719a4",
        "colab": {
          "base_uri": "https://localhost:8080/",
          "height": 224
        }
      },
      "source": [
        "dataframe['diagnosis'] = dataframe['diagnosis'].map({'M':1, 'B':0})\n",
        "\n",
        "dataframe.head()"
      ],
      "execution_count": 0,
      "outputs": [
        {
          "output_type": "execute_result",
          "data": {
            "text/html": [
              "<div>\n",
              "<style scoped>\n",
              "    .dataframe tbody tr th:only-of-type {\n",
              "        vertical-align: middle;\n",
              "    }\n",
              "\n",
              "    .dataframe tbody tr th {\n",
              "        vertical-align: top;\n",
              "    }\n",
              "\n",
              "    .dataframe thead th {\n",
              "        text-align: right;\n",
              "    }\n",
              "</style>\n",
              "<table border=\"1\" class=\"dataframe\">\n",
              "  <thead>\n",
              "    <tr style=\"text-align: right;\">\n",
              "      <th></th>\n",
              "      <th>diagnosis</th>\n",
              "      <th>radius_mean</th>\n",
              "      <th>texture_mean</th>\n",
              "      <th>perimeter_mean</th>\n",
              "      <th>area_mean</th>\n",
              "      <th>smoothness_mean</th>\n",
              "      <th>compactness_mean</th>\n",
              "      <th>concavity_mean</th>\n",
              "      <th>concave_points_mean</th>\n",
              "      <th>symmetry_mean</th>\n",
              "      <th>fractal_dimension_mean</th>\n",
              "      <th>radius_se</th>\n",
              "      <th>texture_se</th>\n",
              "      <th>perimeter_se</th>\n",
              "      <th>area_se</th>\n",
              "      <th>smoothness_se</th>\n",
              "      <th>compactness_se</th>\n",
              "      <th>concavity_se</th>\n",
              "      <th>concave_points_se</th>\n",
              "      <th>symmetry_se</th>\n",
              "      <th>fractal_dimension_se</th>\n",
              "      <th>radius_worst</th>\n",
              "      <th>texture_worst</th>\n",
              "      <th>perimeter_worst</th>\n",
              "      <th>area_worst</th>\n",
              "      <th>smoothness_worst</th>\n",
              "      <th>compactness_worst</th>\n",
              "      <th>concavity_worst</th>\n",
              "      <th>concave_points_worst</th>\n",
              "      <th>symmetry_worst</th>\n",
              "      <th>fractal_dimension_worst</th>\n",
              "    </tr>\n",
              "  </thead>\n",
              "  <tbody>\n",
              "    <tr>\n",
              "      <th>0</th>\n",
              "      <td>1</td>\n",
              "      <td>17.99</td>\n",
              "      <td>10.38</td>\n",
              "      <td>122.80</td>\n",
              "      <td>1001.0</td>\n",
              "      <td>1.184</td>\n",
              "      <td>2.776</td>\n",
              "      <td>3.001</td>\n",
              "      <td>1.471</td>\n",
              "      <td>2.419</td>\n",
              "      <td>7.871</td>\n",
              "      <td>1.095</td>\n",
              "      <td>9.053</td>\n",
              "      <td>8.589</td>\n",
              "      <td>153.40</td>\n",
              "      <td>6.399</td>\n",
              "      <td>4.904</td>\n",
              "      <td>5.373</td>\n",
              "      <td>1.587</td>\n",
              "      <td>3.003</td>\n",
              "      <td>6.193</td>\n",
              "      <td>25.38</td>\n",
              "      <td>17.33</td>\n",
              "      <td>184.60</td>\n",
              "      <td>2019.0</td>\n",
              "      <td>1.622</td>\n",
              "      <td>6.656</td>\n",
              "      <td>7.119</td>\n",
              "      <td>2.654</td>\n",
              "      <td>4.601</td>\n",
              "      <td>1.189</td>\n",
              "    </tr>\n",
              "    <tr>\n",
              "      <th>1</th>\n",
              "      <td>1</td>\n",
              "      <td>20.57</td>\n",
              "      <td>17.77</td>\n",
              "      <td>132.90</td>\n",
              "      <td>1326.0</td>\n",
              "      <td>8.474</td>\n",
              "      <td>7.864</td>\n",
              "      <td>869.000</td>\n",
              "      <td>7.017</td>\n",
              "      <td>1.812</td>\n",
              "      <td>5.667</td>\n",
              "      <td>5.435</td>\n",
              "      <td>7.339</td>\n",
              "      <td>3.398</td>\n",
              "      <td>74.08</td>\n",
              "      <td>5.225</td>\n",
              "      <td>1.308</td>\n",
              "      <td>186.000</td>\n",
              "      <td>134.000</td>\n",
              "      <td>1.389</td>\n",
              "      <td>3.532</td>\n",
              "      <td>24.99</td>\n",
              "      <td>23.41</td>\n",
              "      <td>158.80</td>\n",
              "      <td>1956.0</td>\n",
              "      <td>1.238</td>\n",
              "      <td>1.866</td>\n",
              "      <td>2.416</td>\n",
              "      <td>186.000</td>\n",
              "      <td>275.000</td>\n",
              "      <td>8.902</td>\n",
              "    </tr>\n",
              "    <tr>\n",
              "      <th>2</th>\n",
              "      <td>1</td>\n",
              "      <td>19.69</td>\n",
              "      <td>21.25</td>\n",
              "      <td>130.00</td>\n",
              "      <td>1203.0</td>\n",
              "      <td>1.096</td>\n",
              "      <td>1.599</td>\n",
              "      <td>1.974</td>\n",
              "      <td>1.279</td>\n",
              "      <td>2.069</td>\n",
              "      <td>5.999</td>\n",
              "      <td>7.456</td>\n",
              "      <td>7.869</td>\n",
              "      <td>4.585</td>\n",
              "      <td>94.03</td>\n",
              "      <td>615.000</td>\n",
              "      <td>4.006</td>\n",
              "      <td>3.832</td>\n",
              "      <td>2.058</td>\n",
              "      <td>225.000</td>\n",
              "      <td>4.571</td>\n",
              "      <td>23.57</td>\n",
              "      <td>25.53</td>\n",
              "      <td>152.50</td>\n",
              "      <td>1709.0</td>\n",
              "      <td>1.444</td>\n",
              "      <td>4.245</td>\n",
              "      <td>4.504</td>\n",
              "      <td>243.000</td>\n",
              "      <td>3.613</td>\n",
              "      <td>8.758</td>\n",
              "    </tr>\n",
              "    <tr>\n",
              "      <th>3</th>\n",
              "      <td>1</td>\n",
              "      <td>11.42</td>\n",
              "      <td>20.38</td>\n",
              "      <td>77.58</td>\n",
              "      <td>386.1</td>\n",
              "      <td>1.425</td>\n",
              "      <td>2.839</td>\n",
              "      <td>2.414</td>\n",
              "      <td>1.052</td>\n",
              "      <td>2.597</td>\n",
              "      <td>9.744</td>\n",
              "      <td>4.956</td>\n",
              "      <td>1.156</td>\n",
              "      <td>3.445</td>\n",
              "      <td>27.23</td>\n",
              "      <td>911.000</td>\n",
              "      <td>7.458</td>\n",
              "      <td>5.661</td>\n",
              "      <td>1.867</td>\n",
              "      <td>5.963</td>\n",
              "      <td>9.208</td>\n",
              "      <td>14.91</td>\n",
              "      <td>26.50</td>\n",
              "      <td>98.87</td>\n",
              "      <td>567.7</td>\n",
              "      <td>2.098</td>\n",
              "      <td>8.663</td>\n",
              "      <td>6.869</td>\n",
              "      <td>2.575</td>\n",
              "      <td>6.638</td>\n",
              "      <td>173.000</td>\n",
              "    </tr>\n",
              "    <tr>\n",
              "      <th>4</th>\n",
              "      <td>1</td>\n",
              "      <td>20.29</td>\n",
              "      <td>14.34</td>\n",
              "      <td>135.10</td>\n",
              "      <td>1297.0</td>\n",
              "      <td>1.003</td>\n",
              "      <td>1.328</td>\n",
              "      <td>198.000</td>\n",
              "      <td>1.043</td>\n",
              "      <td>1.809</td>\n",
              "      <td>5.883</td>\n",
              "      <td>7.572</td>\n",
              "      <td>7.813</td>\n",
              "      <td>5.438</td>\n",
              "      <td>94.44</td>\n",
              "      <td>1.149</td>\n",
              "      <td>2.461</td>\n",
              "      <td>5.688</td>\n",
              "      <td>1.885</td>\n",
              "      <td>1.756</td>\n",
              "      <td>5.115</td>\n",
              "      <td>22.54</td>\n",
              "      <td>16.67</td>\n",
              "      <td>152.20</td>\n",
              "      <td>1575.0</td>\n",
              "      <td>1.374</td>\n",
              "      <td>205.000</td>\n",
              "      <td>0.400</td>\n",
              "      <td>1.625</td>\n",
              "      <td>2.364</td>\n",
              "      <td>7.678</td>\n",
              "    </tr>\n",
              "  </tbody>\n",
              "</table>\n",
              "</div>"
            ],
            "text/plain": [
              "   diagnosis  radius_mean  ...  symmetry_worst  fractal_dimension_worst\n",
              "0          1        17.99  ...           4.601                    1.189\n",
              "1          1        20.57  ...         275.000                    8.902\n",
              "2          1        19.69  ...           3.613                    8.758\n",
              "3          1        11.42  ...           6.638                  173.000\n",
              "4          1        20.29  ...           2.364                    7.678\n",
              "\n",
              "[5 rows x 31 columns]"
            ]
          },
          "metadata": {
            "tags": []
          },
          "execution_count": 8
        }
      ]
    },
    {
      "cell_type": "markdown",
      "metadata": {
        "id": "4EGVs5AM8nWH",
        "colab_type": "text"
      },
      "source": [
        "In classification, you must have 3 types of data. Those are train data, validation data, and test data."
      ]
    },
    {
      "cell_type": "code",
      "metadata": {
        "id": "XXeNHsC77e-a",
        "colab_type": "code",
        "outputId": "7d76128b-c095-42c3-9a71-5c8317c30f0b",
        "colab": {
          "base_uri": "https://localhost:8080/",
          "height": 68
        }
      },
      "source": [
        "# First, separate data into 2 types\n",
        "train, test = train_test_split(dataframe, \n",
        "                               test_size=0.2,\n",
        "                               stratify=dataframe['diagnosis'])     # split data into same ratio based on diagnosis\n",
        "\n",
        "print('Length of\\n\\tTrain Data\\t: ', len(train),\n",
        "      '\\n\\tTest Data\\t: ', len(test))"
      ],
      "execution_count": 0,
      "outputs": [
        {
          "output_type": "stream",
          "text": [
            "Length of\n",
            "\tTrain Data\t:  455 \n",
            "\tTest Data\t:  114\n"
          ],
          "name": "stdout"
        }
      ]
    },
    {
      "cell_type": "markdown",
      "metadata": {
        "id": "DAYfDgeMD-eK",
        "colab_type": "text"
      },
      "source": [
        "# **Inspect Data**\n",
        "To find out each data type of the columns in the dataset."
      ]
    },
    {
      "cell_type": "code",
      "metadata": {
        "id": "RF017YCBfchz",
        "colab_type": "code",
        "outputId": "4c93a67d-07ec-493b-952b-281df5386298",
        "colab": {
          "base_uri": "https://localhost:8080/",
          "height": 629
        }
      },
      "source": [
        "train.info()"
      ],
      "execution_count": 0,
      "outputs": [
        {
          "output_type": "stream",
          "text": [
            "<class 'pandas.core.frame.DataFrame'>\n",
            "Int64Index: 455 entries, 360 to 146\n",
            "Data columns (total 31 columns):\n",
            "diagnosis                  455 non-null int64\n",
            "radius_mean                455 non-null float64\n",
            "texture_mean               455 non-null float64\n",
            "perimeter_mean             455 non-null float64\n",
            "area_mean                  455 non-null float64\n",
            "smoothness_mean            455 non-null float64\n",
            "compactness_mean           455 non-null float64\n",
            "concavity_mean             455 non-null float64\n",
            "concave_points_mean        455 non-null float64\n",
            "symmetry_mean              455 non-null float64\n",
            "fractal_dimension_mean     455 non-null float64\n",
            "radius_se                  455 non-null float64\n",
            "texture_se                 455 non-null float64\n",
            "perimeter_se               455 non-null float64\n",
            "area_se                    455 non-null float64\n",
            "smoothness_se              455 non-null float64\n",
            "compactness_se             455 non-null float64\n",
            "concavity_se               455 non-null float64\n",
            "concave_points_se          455 non-null float64\n",
            "symmetry_se                455 non-null float64\n",
            "fractal_dimension_se       455 non-null float64\n",
            "radius_worst               455 non-null float64\n",
            "texture_worst              455 non-null float64\n",
            "perimeter_worst            455 non-null float64\n",
            "area_worst                 455 non-null float64\n",
            "smoothness_worst           455 non-null float64\n",
            "compactness_worst          455 non-null float64\n",
            "concavity_worst            455 non-null float64\n",
            "concave_points_worst       455 non-null float64\n",
            "symmetry_worst             455 non-null float64\n",
            "fractal_dimension_worst    455 non-null float64\n",
            "dtypes: float64(30), int64(1)\n",
            "memory usage: 113.8 KB\n"
          ],
          "name": "stdout"
        }
      ]
    },
    {
      "cell_type": "markdown",
      "metadata": {
        "id": "x2HH-gOkSKg8",
        "colab_type": "text"
      },
      "source": [
        "To summarize all the columns in the dataset."
      ]
    },
    {
      "cell_type": "code",
      "metadata": {
        "id": "3uTwl2V9esKE",
        "colab_type": "code",
        "outputId": "3d262eee-f836-400d-a119-6aa6d1765774",
        "colab": {
          "base_uri": "https://localhost:8080/",
          "height": 317
        }
      },
      "source": [
        "train.describe()"
      ],
      "execution_count": 0,
      "outputs": [
        {
          "output_type": "execute_result",
          "data": {
            "text/html": [
              "<div>\n",
              "<style scoped>\n",
              "    .dataframe tbody tr th:only-of-type {\n",
              "        vertical-align: middle;\n",
              "    }\n",
              "\n",
              "    .dataframe tbody tr th {\n",
              "        vertical-align: top;\n",
              "    }\n",
              "\n",
              "    .dataframe thead th {\n",
              "        text-align: right;\n",
              "    }\n",
              "</style>\n",
              "<table border=\"1\" class=\"dataframe\">\n",
              "  <thead>\n",
              "    <tr style=\"text-align: right;\">\n",
              "      <th></th>\n",
              "      <th>diagnosis</th>\n",
              "      <th>radius_mean</th>\n",
              "      <th>texture_mean</th>\n",
              "      <th>perimeter_mean</th>\n",
              "      <th>area_mean</th>\n",
              "      <th>smoothness_mean</th>\n",
              "      <th>compactness_mean</th>\n",
              "      <th>concavity_mean</th>\n",
              "      <th>concave_points_mean</th>\n",
              "      <th>symmetry_mean</th>\n",
              "      <th>fractal_dimension_mean</th>\n",
              "      <th>radius_se</th>\n",
              "      <th>texture_se</th>\n",
              "      <th>perimeter_se</th>\n",
              "      <th>area_se</th>\n",
              "      <th>smoothness_se</th>\n",
              "      <th>compactness_se</th>\n",
              "      <th>concavity_se</th>\n",
              "      <th>concave_points_se</th>\n",
              "      <th>symmetry_se</th>\n",
              "      <th>fractal_dimension_se</th>\n",
              "      <th>radius_worst</th>\n",
              "      <th>texture_worst</th>\n",
              "      <th>perimeter_worst</th>\n",
              "      <th>area_worst</th>\n",
              "      <th>smoothness_worst</th>\n",
              "      <th>compactness_worst</th>\n",
              "      <th>concavity_worst</th>\n",
              "      <th>concave_points_worst</th>\n",
              "      <th>symmetry_worst</th>\n",
              "      <th>fractal_dimension_worst</th>\n",
              "    </tr>\n",
              "  </thead>\n",
              "  <tbody>\n",
              "    <tr>\n",
              "      <th>count</th>\n",
              "      <td>455.000000</td>\n",
              "      <td>455.000000</td>\n",
              "      <td>455.000000</td>\n",
              "      <td>455.000000</td>\n",
              "      <td>455.000000</td>\n",
              "      <td>455.000000</td>\n",
              "      <td>455.000000</td>\n",
              "      <td>455.000000</td>\n",
              "      <td>455.000000</td>\n",
              "      <td>455.000000</td>\n",
              "      <td>455.000000</td>\n",
              "      <td>455.000000</td>\n",
              "      <td>455.000000</td>\n",
              "      <td>455.000000</td>\n",
              "      <td>455.000000</td>\n",
              "      <td>455.000000</td>\n",
              "      <td>455.000000</td>\n",
              "      <td>455.000000</td>\n",
              "      <td>455.000000</td>\n",
              "      <td>455.000000</td>\n",
              "      <td>455.000000</td>\n",
              "      <td>455.000000</td>\n",
              "      <td>455.000000</td>\n",
              "      <td>455.000000</td>\n",
              "      <td>455.000000</td>\n",
              "      <td>455.000000</td>\n",
              "      <td>455.000000</td>\n",
              "      <td>455.000000</td>\n",
              "      <td>455.000000</td>\n",
              "      <td>455.000000</td>\n",
              "      <td>455.000000</td>\n",
              "    </tr>\n",
              "    <tr>\n",
              "      <th>mean</th>\n",
              "      <td>0.373626</td>\n",
              "      <td>14.189884</td>\n",
              "      <td>19.438857</td>\n",
              "      <td>92.384857</td>\n",
              "      <td>659.689890</td>\n",
              "      <td>51.164312</td>\n",
              "      <td>25.697160</td>\n",
              "      <td>39.492400</td>\n",
              "      <td>34.653409</td>\n",
              "      <td>18.774204</td>\n",
              "      <td>64.703141</td>\n",
              "      <td>33.216402</td>\n",
              "      <td>29.080620</td>\n",
              "      <td>8.653070</td>\n",
              "      <td>40.287921</td>\n",
              "      <td>55.000659</td>\n",
              "      <td>28.019099</td>\n",
              "      <td>28.602954</td>\n",
              "      <td>43.658365</td>\n",
              "      <td>22.108626</td>\n",
              "      <td>25.351323</td>\n",
              "      <td>16.357862</td>\n",
              "      <td>25.835429</td>\n",
              "      <td>107.889934</td>\n",
              "      <td>889.801319</td>\n",
              "      <td>14.211574</td>\n",
              "      <td>34.795985</td>\n",
              "      <td>45.132782</td>\n",
              "      <td>42.192057</td>\n",
              "      <td>31.967862</td>\n",
              "      <td>59.603134</td>\n",
              "    </tr>\n",
              "    <tr>\n",
              "      <th>std</th>\n",
              "      <td>0.484299</td>\n",
              "      <td>3.486683</td>\n",
              "      <td>4.327643</td>\n",
              "      <td>24.074105</td>\n",
              "      <td>345.586433</td>\n",
              "      <td>187.239651</td>\n",
              "      <td>106.764626</td>\n",
              "      <td>141.028855</td>\n",
              "      <td>121.302324</td>\n",
              "      <td>53.499703</td>\n",
              "      <td>182.365911</td>\n",
              "      <td>104.037274</td>\n",
              "      <td>140.674891</td>\n",
              "      <td>70.303161</td>\n",
              "      <td>42.624063</td>\n",
              "      <td>174.362179</td>\n",
              "      <td>101.753570</td>\n",
              "      <td>111.704885</td>\n",
              "      <td>153.924249</td>\n",
              "      <td>62.313565</td>\n",
              "      <td>90.627830</td>\n",
              "      <td>4.844394</td>\n",
              "      <td>6.144524</td>\n",
              "      <td>33.756435</td>\n",
              "      <td>574.536591</td>\n",
              "      <td>58.898874</td>\n",
              "      <td>117.075694</td>\n",
              "      <td>142.932947</td>\n",
              "      <td>149.822922</td>\n",
              "      <td>90.197017</td>\n",
              "      <td>196.916464</td>\n",
              "    </tr>\n",
              "    <tr>\n",
              "      <th>min</th>\n",
              "      <td>0.000000</td>\n",
              "      <td>6.981000</td>\n",
              "      <td>10.380000</td>\n",
              "      <td>43.790000</td>\n",
              "      <td>143.500000</td>\n",
              "      <td>0.100000</td>\n",
              "      <td>0.060000</td>\n",
              "      <td>0.000000</td>\n",
              "      <td>0.000000</td>\n",
              "      <td>0.180000</td>\n",
              "      <td>0.060000</td>\n",
              "      <td>0.210000</td>\n",
              "      <td>0.780000</td>\n",
              "      <td>1.035000</td>\n",
              "      <td>7.228000</td>\n",
              "      <td>0.010000</td>\n",
              "      <td>1.003000</td>\n",
              "      <td>0.000000</td>\n",
              "      <td>0.000000</td>\n",
              "      <td>1.029000</td>\n",
              "      <td>1.002000</td>\n",
              "      <td>7.930000</td>\n",
              "      <td>12.490000</td>\n",
              "      <td>50.410000</td>\n",
              "      <td>185.200000</td>\n",
              "      <td>0.130000</td>\n",
              "      <td>0.120000</td>\n",
              "      <td>0.000000</td>\n",
              "      <td>0.000000</td>\n",
              "      <td>0.210000</td>\n",
              "      <td>0.120000</td>\n",
              "    </tr>\n",
              "    <tr>\n",
              "      <th>25%</th>\n",
              "      <td>0.000000</td>\n",
              "      <td>11.745000</td>\n",
              "      <td>16.335000</td>\n",
              "      <td>75.625000</td>\n",
              "      <td>423.500000</td>\n",
              "      <td>1.141000</td>\n",
              "      <td>1.450500</td>\n",
              "      <td>1.657000</td>\n",
              "      <td>1.942000</td>\n",
              "      <td>1.634500</td>\n",
              "      <td>5.804500</td>\n",
              "      <td>2.201500</td>\n",
              "      <td>1.305500</td>\n",
              "      <td>1.667000</td>\n",
              "      <td>17.965000</td>\n",
              "      <td>4.475500</td>\n",
              "      <td>1.716500</td>\n",
              "      <td>1.863000</td>\n",
              "      <td>1.349000</td>\n",
              "      <td>1.566000</td>\n",
              "      <td>2.231000</td>\n",
              "      <td>13.060000</td>\n",
              "      <td>21.325000</td>\n",
              "      <td>84.255000</td>\n",
              "      <td>517.950000</td>\n",
              "      <td>1.224500</td>\n",
              "      <td>1.817000</td>\n",
              "      <td>1.902500</td>\n",
              "      <td>1.619500</td>\n",
              "      <td>2.538000</td>\n",
              "      <td>6.640000</td>\n",
              "    </tr>\n",
              "    <tr>\n",
              "      <th>50%</th>\n",
              "      <td>0.000000</td>\n",
              "      <td>13.480000</td>\n",
              "      <td>18.900000</td>\n",
              "      <td>87.210000</td>\n",
              "      <td>559.200000</td>\n",
              "      <td>8.302000</td>\n",
              "      <td>4.626000</td>\n",
              "      <td>3.001000</td>\n",
              "      <td>3.562000</td>\n",
              "      <td>1.828000</td>\n",
              "      <td>6.218000</td>\n",
              "      <td>3.276000</td>\n",
              "      <td>1.885000</td>\n",
              "      <td>2.344000</td>\n",
              "      <td>25.030000</td>\n",
              "      <td>5.884000</td>\n",
              "      <td>2.768000</td>\n",
              "      <td>3.185000</td>\n",
              "      <td>2.404000</td>\n",
              "      <td>1.977000</td>\n",
              "      <td>3.288000</td>\n",
              "      <td>15.050000</td>\n",
              "      <td>25.480000</td>\n",
              "      <td>98.270000</td>\n",
              "      <td>697.700000</td>\n",
              "      <td>1.374000</td>\n",
              "      <td>2.878000</td>\n",
              "      <td>3.582000</td>\n",
              "      <td>2.778000</td>\n",
              "      <td>2.894000</td>\n",
              "      <td>7.623000</td>\n",
              "    </tr>\n",
              "    <tr>\n",
              "      <th>75%</th>\n",
              "      <td>1.000000</td>\n",
              "      <td>16.025000</td>\n",
              "      <td>21.875000</td>\n",
              "      <td>105.400000</td>\n",
              "      <td>795.500000</td>\n",
              "      <td>9.360000</td>\n",
              "      <td>7.523000</td>\n",
              "      <td>5.958500</td>\n",
              "      <td>7.741500</td>\n",
              "      <td>2.036500</td>\n",
              "      <td>6.885000</td>\n",
              "      <td>5.279000</td>\n",
              "      <td>6.972500</td>\n",
              "      <td>3.478000</td>\n",
              "      <td>45.410000</td>\n",
              "      <td>7.595000</td>\n",
              "      <td>5.121500</td>\n",
              "      <td>5.314500</td>\n",
              "      <td>7.971500</td>\n",
              "      <td>2.749000</td>\n",
              "      <td>4.732000</td>\n",
              "      <td>19.025000</td>\n",
              "      <td>30.080000</td>\n",
              "      <td>126.500000</td>\n",
              "      <td>1098.500000</td>\n",
              "      <td>1.557500</td>\n",
              "      <td>5.290500</td>\n",
              "      <td>6.387500</td>\n",
              "      <td>7.469000</td>\n",
              "      <td>3.321500</td>\n",
              "      <td>8.545000</td>\n",
              "    </tr>\n",
              "    <tr>\n",
              "      <th>max</th>\n",
              "      <td>1.000000</td>\n",
              "      <td>27.420000</td>\n",
              "      <td>39.280000</td>\n",
              "      <td>186.900000</td>\n",
              "      <td>2501.000000</td>\n",
              "      <td>988.000000</td>\n",
              "      <td>889.000000</td>\n",
              "      <td>905.000000</td>\n",
              "      <td>974.000000</td>\n",
              "      <td>304.000000</td>\n",
              "      <td>898.000000</td>\n",
              "      <td>726.000000</td>\n",
              "      <td>976.000000</td>\n",
              "      <td>968.000000</td>\n",
              "      <td>542.200000</td>\n",
              "      <td>968.000000</td>\n",
              "      <td>911.000000</td>\n",
              "      <td>996.000000</td>\n",
              "      <td>956.000000</td>\n",
              "      <td>388.000000</td>\n",
              "      <td>733.000000</td>\n",
              "      <td>36.040000</td>\n",
              "      <td>49.540000</td>\n",
              "      <td>251.200000</td>\n",
              "      <td>4254.000000</td>\n",
              "      <td>997.000000</td>\n",
              "      <td>872.000000</td>\n",
              "      <td>942.000000</td>\n",
              "      <td>991.000000</td>\n",
              "      <td>544.000000</td>\n",
              "      <td>987.000000</td>\n",
              "    </tr>\n",
              "  </tbody>\n",
              "</table>\n",
              "</div>"
            ],
            "text/plain": [
              "        diagnosis  radius_mean  ...  symmetry_worst  fractal_dimension_worst\n",
              "count  455.000000   455.000000  ...      455.000000               455.000000\n",
              "mean     0.373626    14.189884  ...       31.967862                59.603134\n",
              "std      0.484299     3.486683  ...       90.197017               196.916464\n",
              "min      0.000000     6.981000  ...        0.210000                 0.120000\n",
              "25%      0.000000    11.745000  ...        2.538000                 6.640000\n",
              "50%      0.000000    13.480000  ...        2.894000                 7.623000\n",
              "75%      1.000000    16.025000  ...        3.321500                 8.545000\n",
              "max      1.000000    27.420000  ...      544.000000               987.000000\n",
              "\n",
              "[8 rows x 31 columns]"
            ]
          },
          "metadata": {
            "tags": []
          },
          "execution_count": 11
        }
      ]
    },
    {
      "cell_type": "markdown",
      "metadata": {
        "id": "njBInQFgSaWl",
        "colab_type": "text"
      },
      "source": [
        "To find out the percentage of breast cancer patients"
      ]
    },
    {
      "cell_type": "code",
      "metadata": {
        "id": "MmVdhLR-YfFs",
        "colab_type": "code",
        "outputId": "2847b2e4-e0d9-401f-d0dd-9aaf27ac3247",
        "colab": {
          "base_uri": "https://localhost:8080/",
          "height": 389
        }
      },
      "source": [
        "colors_list = ['lightgreen', 'crimson']\n",
        "explode_list = [0.1, 0]     # ratio for each class with which to offset each wedge.\n",
        "\n",
        "train['diagnosis'].value_counts().plot(kind='pie',\n",
        "                                       figsize=(6, 6),\n",
        "                                       autopct='%1.1f%%', \n",
        "                                       startangle=90,    \n",
        "                                       shadow=True,       \n",
        "                                       labels=None,         # turn off labels on pie chart\n",
        "                                       pctdistance=0.5,     # the ratio between the center of each pie slice and the start of the text generated by autopct \n",
        "                                       fontsize=15,\n",
        "                                       colors=colors_list,  # add custom colors\n",
        "                                       explode=explode_list \n",
        "                                       )\n",
        "\n",
        "# scale the title up by 5% to match pctdistance\n",
        "plt.title('Percentage of Malignant and Benign Case in Train Set', y = 1.05) \n",
        "# add legend\n",
        "plt.legend(labels=train['diagnosis'].value_counts().index, loc='upper left') \n",
        "plt.show()"
      ],
      "execution_count": 0,
      "outputs": [
        {
          "output_type": "display_data",
          "data": {
            "image/png": "[encoded data removed]",
            "text/plain": [
              "<Figure size 432x432 with 1 Axes>"
            ]
          },
          "metadata": {
            "tags": []
          }
        }
      ]
    },
    {
      "cell_type": "markdown",
      "metadata": {
        "id": "aMZjzPk8ERjl",
        "colab_type": "text"
      },
      "source": [
        "Have a quick look at the joint distribution of a few pairs of columns from the dataset."
      ]
    },
    {
      "cell_type": "code",
      "metadata": {
        "id": "PmdoB9UjEDVf",
        "colab_type": "code",
        "outputId": "0fe9a205-3979-4b09-a364-5aa453de9015",
        "colab": {
          "base_uri": "https://localhost:8080/",
          "height": 584
        }
      },
      "source": [
        "# Choose one criteria column from the data\n",
        "sns.pairplot(train[[\"diagnosis\", \"radius_mean\",\t\"radius_se\", \"radius_worst\"]],\n",
        "             hue = 'diagnosis', \n",
        "             diag_kind=\"kde\")"
      ],
      "execution_count": 0,
      "outputs": [
        {
          "output_type": "execute_result",
          "data": {
            "text/plain": [
              "<seaborn.axisgrid.PairGrid at 0x7f0094e499b0>"
            ]
          },
          "metadata": {
            "tags": []
          },
          "execution_count": 13
        },
        {
          "output_type": "display_data",
          "data": {
            "image/png": "[encoded data removed]",
            "text/plain": [
              "<Figure size 595.5x540 with 12 Axes>"
            ]
          },
          "metadata": {
            "tags": []
          }
        }
      ]
    },
    {
      "cell_type": "markdown",
      "metadata": {
        "id": "G6VZ_8QS8rIY",
        "colab_type": "text"
      },
      "source": [
        "In classification, you must have 3 types of data. Those are train data, validation data, and test data."
      ]
    },
    {
      "cell_type": "code",
      "metadata": {
        "id": "_6NhoXOB5POH",
        "colab_type": "code",
        "outputId": "0f83bd1a-4e04-450d-fddd-ce8bc9ba2d2e",
        "colab": {
          "base_uri": "https://localhost:8080/",
          "height": 68
        }
      },
      "source": [
        "# Second, separate data into 2 types\n",
        "train, val = train_test_split(train, \n",
        "                              test_size=0.2, \n",
        "                              stratify=train['diagnosis'])\n",
        "\n",
        "print('Length of\\n\\tTrain Data\\t: ', len(train),\n",
        "      '\\n\\tValidation Data\\t: ', len(val))"
      ],
      "execution_count": 0,
      "outputs": [
        {
          "output_type": "stream",
          "text": [
            "Length of\n",
            "\tTrain Data\t:  364 \n",
            "\tValidation Data\t:  91\n"
          ],
          "name": "stdout"
        }
      ]
    },
    {
      "cell_type": "markdown",
      "metadata": {
        "id": "qTnboTY8O8yO",
        "colab_type": "text"
      },
      "source": [
        "# Create an input pipeline using tf.data\n",
        "This will enable to use feature columns as a bridge to map from the columns in the Pandas dataframe to features used to train the model."
      ]
    },
    {
      "cell_type": "code",
      "metadata": {
        "id": "XU1hP-vQ_kyC",
        "colab_type": "code",
        "colab": {}
      },
      "source": [
        "# A utility method to create a tf.data dataset from a Pandas Dataframe\n",
        "def df_to_dataset(dataframe, shuffle=True, batch_size=32):\n",
        "    dataframe = dataframe.copy()\n",
        "    labels = dataframe.pop('diagnosis')\n",
        "\n",
        "    ds = tf.data.Dataset.from_tensor_slices((dict(dataframe), labels))\n",
        "\n",
        "    if shuffle:\n",
        "        ds = ds.shuffle(buffer_size=len(dataframe))\n",
        "        \n",
        "    return ds.batch(batch_size)"
      ],
      "execution_count": 0,
      "outputs": []
    },
    {
      "cell_type": "markdown",
      "metadata": {
        "id": "M_dkwf3pPwTo",
        "colab_type": "text"
      },
      "source": [
        "# Choose which columns to use\n",
        "Pick the features are the most meaningful to include, and how they should be represented."
      ]
    },
    {
      "cell_type": "code",
      "metadata": {
        "id": "pYRrFRdr_5F2",
        "colab_type": "code",
        "colab": {}
      },
      "source": [
        "train_cols = list(train.columns)\n",
        "train_cols.remove('diagnosis')\n",
        "feature_columns = []\n",
        "\n",
        "# numeric cols\n",
        "for header in train_cols:\n",
        "    feature_columns.append(tf.feature_column.numeric_column(header))"
      ],
      "execution_count": 0,
      "outputs": []
    },
    {
      "cell_type": "markdown",
      "metadata": {
        "id": "EH9fGmGqPedk",
        "colab_type": "text"
      },
      "source": [
        "# Create a feature layer\n",
        "define the feature columns, "
      ]
    },
    {
      "cell_type": "code",
      "metadata": {
        "id": "Wy4F4egaACzV",
        "colab_type": "code",
        "colab": {}
      },
      "source": [
        "feature_layer = tf.keras.layers.DenseFeatures(feature_columns)"
      ],
      "execution_count": 0,
      "outputs": []
    },
    {
      "cell_type": "code",
      "metadata": {
        "id": "UaAeaZyaAFmF",
        "colab_type": "code",
        "colab": {}
      },
      "source": [
        "batch_size = 32\n",
        "\n",
        "train_ds = df_to_dataset(train, batch_size=batch_size)\n",
        "val_ds = df_to_dataset(val, shuffle=False, batch_size=batch_size)\n",
        "test_ds = df_to_dataset(test, shuffle=False, batch_size=batch_size)"
      ],
      "execution_count": 0,
      "outputs": []
    },
    {
      "cell_type": "markdown",
      "metadata": {
        "id": "MdbjsCbfT80-",
        "colab_type": "text"
      },
      "source": [
        "# Understand the input pipeline\n",
        "Check the data structure of train data set, so that we will know how the model will be worked"
      ]
    },
    {
      "cell_type": "code",
      "metadata": {
        "id": "O0V45FhgT_AU",
        "colab_type": "code",
        "outputId": "fc08da4e-0b16-46ed-d8e3-2dd5a26ca91c",
        "colab": {
          "base_uri": "https://localhost:8080/",
          "height": 71
        }
      },
      "source": [
        "for feature_batch, label_batch in train_ds.take(1):\n",
        "  print('Every feature:', list(feature_batch.keys()))\n",
        "  print('A batch of targets:', label_batch )"
      ],
      "execution_count": 0,
      "outputs": [
        {
          "output_type": "stream",
          "text": [
            "Every feature: ['radius_mean', 'texture_mean', 'perimeter_mean', 'area_mean', 'smoothness_mean', 'compactness_mean', 'concavity_mean', 'concave_points_mean', 'symmetry_mean', 'fractal_dimension_mean', 'radius_se', 'texture_se', 'perimeter_se', 'area_se', 'smoothness_se', 'compactness_se', 'concavity_se', 'concave_points_se', 'symmetry_se', 'fractal_dimension_se', 'radius_worst', 'texture_worst', 'perimeter_worst', 'area_worst', 'smoothness_worst', 'compactness_worst', 'concavity_worst', 'concave_points_worst', 'symmetry_worst', 'fractal_dimension_worst']\n",
            "A batch of targets: tf.Tensor([0 0 1 0 0 0 1 0 1 1 0 1 0 1 0 1 1 0 0 0 0 0 1 0 1 1 1 1 1 1 0 0], shape=(32,), dtype=int64)\n"
          ],
          "name": "stdout"
        }
      ]
    },
    {
      "cell_type": "markdown",
      "metadata": {
        "id": "oYgLCVPXPM3y",
        "colab_type": "text"
      },
      "source": [
        "# Create, compile, and train the model\n",
        "This is classification's process"
      ]
    },
    {
      "cell_type": "code",
      "metadata": {
        "id": "69nWKrJIAUCF",
        "colab_type": "code",
        "outputId": "7d5ee99d-d6fa-426e-c295-dfb327a4f35f",
        "colab": {
          "base_uri": "https://localhost:8080/",
          "height": 819
        }
      },
      "source": [
        "model = tf.keras.Sequential([\n",
        "    feature_layer,\n",
        "    layers.Dense(128, activation='relu'),\n",
        "    layers.Dense(128, activation='relu'),\n",
        "    layers.Dense(1)\n",
        "])\n",
        "\n",
        "model.compile(optimizer='adam',\n",
        "              loss=tf.keras.losses.BinaryCrossentropy(from_logits=True),\n",
        "              metrics=['accuracy'])\n",
        "\n",
        "history = model.fit(train_ds,\n",
        "          validation_data=val_ds,\n",
        "          epochs=20)"
      ],
      "execution_count": 0,
      "outputs": [
        {
          "output_type": "stream",
          "text": [
            "Epoch 1/20\n",
            "WARNING:tensorflow:Layer dense_features is casting an input tensor from dtype float64 to the layer's dtype of float32, which is new behavior in TensorFlow 2.  The layer has dtype float32 because it's dtype defaults to floatx.\n",
            "\n",
            "If you intended to run this layer in float32, you can safely ignore this warning. If in doubt, this warning is likely only an issue if you are porting a TensorFlow 1.X model to TensorFlow 2.\n",
            "\n",
            "To change all layers to have dtype float64 by default, call `tf.keras.backend.set_floatx('float64')`. To change just this layer, pass dtype='float64' to the layer constructor. If you are the author of this layer, you can disable autocasting by passing autocast=False to the base Layer constructor.\n",
            "\n",
            "12/12 [==============================] - 0s 39ms/step - loss: 13.2837 - accuracy: 0.5934 - val_loss: 6.9206 - val_accuracy: 0.5934\n",
            "Epoch 2/20\n",
            "12/12 [==============================] - 0s 5ms/step - loss: 3.8233 - accuracy: 0.7308 - val_loss: 4.0945 - val_accuracy: 0.7582\n",
            "Epoch 3/20\n",
            "12/12 [==============================] - 0s 5ms/step - loss: 1.7662 - accuracy: 0.8242 - val_loss: 2.3997 - val_accuracy: 0.8242\n",
            "Epoch 4/20\n",
            "12/12 [==============================] - 0s 5ms/step - loss: 1.0376 - accuracy: 0.8516 - val_loss: 2.1945 - val_accuracy: 0.7912\n",
            "Epoch 5/20\n",
            "12/12 [==============================] - 0s 5ms/step - loss: 0.6745 - accuracy: 0.8874 - val_loss: 1.9974 - val_accuracy: 0.8681\n",
            "Epoch 6/20\n",
            "12/12 [==============================] - 0s 5ms/step - loss: 0.4515 - accuracy: 0.9066 - val_loss: 1.9181 - val_accuracy: 0.8681\n",
            "Epoch 7/20\n",
            "12/12 [==============================] - 0s 5ms/step - loss: 0.3294 - accuracy: 0.9258 - val_loss: 2.0135 - val_accuracy: 0.8681\n",
            "Epoch 8/20\n",
            "12/12 [==============================] - 0s 5ms/step - loss: 0.3164 - accuracy: 0.9203 - val_loss: 3.1076 - val_accuracy: 0.8462\n",
            "Epoch 9/20\n",
            "12/12 [==============================] - 0s 6ms/step - loss: 1.3418 - accuracy: 0.8407 - val_loss: 2.4519 - val_accuracy: 0.8571\n",
            "Epoch 10/20\n",
            "12/12 [==============================] - 0s 5ms/step - loss: 0.8894 - accuracy: 0.8736 - val_loss: 2.2990 - val_accuracy: 0.8462\n",
            "Epoch 11/20\n",
            "12/12 [==============================] - 0s 6ms/step - loss: 0.9773 - accuracy: 0.8599 - val_loss: 2.3489 - val_accuracy: 0.8132\n",
            "Epoch 12/20\n",
            "12/12 [==============================] - 0s 5ms/step - loss: 0.5955 - accuracy: 0.9258 - val_loss: 2.2942 - val_accuracy: 0.8791\n",
            "Epoch 13/20\n",
            "12/12 [==============================] - 0s 5ms/step - loss: 0.3622 - accuracy: 0.9478 - val_loss: 2.3095 - val_accuracy: 0.8791\n",
            "Epoch 14/20\n",
            "12/12 [==============================] - 0s 5ms/step - loss: 0.2631 - accuracy: 0.9423 - val_loss: 2.1100 - val_accuracy: 0.8352\n",
            "Epoch 15/20\n",
            "12/12 [==============================] - 0s 5ms/step - loss: 0.6626 - accuracy: 0.8929 - val_loss: 2.3062 - val_accuracy: 0.8132\n",
            "Epoch 16/20\n",
            "12/12 [==============================] - 0s 5ms/step - loss: 0.3561 - accuracy: 0.9396 - val_loss: 2.1652 - val_accuracy: 0.9121\n",
            "Epoch 17/20\n",
            "12/12 [==============================] - 0s 5ms/step - loss: 0.2720 - accuracy: 0.9560 - val_loss: 2.1628 - val_accuracy: 0.9231\n",
            "Epoch 18/20\n",
            "12/12 [==============================] - 0s 5ms/step - loss: 0.1912 - accuracy: 0.9478 - val_loss: 2.0073 - val_accuracy: 0.9011\n",
            "Epoch 19/20\n",
            "12/12 [==============================] - 0s 5ms/step - loss: 0.2088 - accuracy: 0.9505 - val_loss: 2.0220 - val_accuracy: 0.8791\n",
            "Epoch 20/20\n",
            "12/12 [==============================] - 0s 5ms/step - loss: 0.1602 - accuracy: 0.9451 - val_loss: 4.0102 - val_accuracy: 0.7912\n"
          ],
          "name": "stdout"
        }
      ]
    },
    {
      "cell_type": "markdown",
      "metadata": {
        "id": "uEaz8RxEQ_Pn",
        "colab_type": "text"
      },
      "source": [
        "It records training metrics for each epoch."
      ]
    },
    {
      "cell_type": "code",
      "metadata": {
        "id": "QBOzLPH_Ni3R",
        "colab_type": "code",
        "outputId": "430efdb6-d77c-457b-bad6-4ef5bcc5894f",
        "colab": {
          "base_uri": "https://localhost:8080/",
          "height": 541
        }
      },
      "source": [
        "def plot_graphs(history, metric):\n",
        "  plt.plot(history.history[metric])\n",
        "  plt.plot(history.history['val_'+metric], '')\n",
        "  plt.xlabel(\"Epochs\")\n",
        "  plt.ylabel(metric)\n",
        "  plt.legend([metric, 'val_'+metric])\n",
        "  plt.show()\n",
        "  \n",
        "plot_graphs(history, 'accuracy')\n",
        "plot_graphs(history, 'loss')"
      ],
      "execution_count": 0,
      "outputs": [
        {
          "output_type": "display_data",
          "data": {
            "image/png": "[encoded data removed]",
            "text/plain": [
              "<Figure size 432x288 with 1 Axes>"
            ]
          },
          "metadata": {
            "tags": []
          }
        },
        {
          "output_type": "display_data",
          "data": {
            "image/png": "[encoded data removed]",
            "text/plain": [
              "<Figure size 432x288 with 1 Axes>"
            ]
          },
          "metadata": {
            "tags": []
          }
        }
      ]
    },
    {
      "cell_type": "code",
      "metadata": {
        "id": "CNyRPPpNAY7Q",
        "colab_type": "code",
        "outputId": "a4b72ba1-3565-4a23-d09b-5d36b142aa9b",
        "colab": {
          "base_uri": "https://localhost:8080/",
          "height": 68
        }
      },
      "source": [
        "loss, acc = model.evaluate(test_ds)\n",
        "print('Loss\\t\\t:', loss, \n",
        "      '\\nAccuracy\\t:', acc)"
      ],
      "execution_count": 0,
      "outputs": [
        {
          "output_type": "stream",
          "text": [
            "4/4 [==============================] - 0s 3ms/step - loss: 2.7889 - accuracy: 0.8333\n",
            "Loss\t\t: 2.788862705230713 \n",
            "Accuracy\t: 0.8333333134651184\n"
          ],
          "name": "stdout"
        }
      ]
    },
    {
      "cell_type": "markdown",
      "metadata": {
        "id": "BjNQuGMrQTXk",
        "colab_type": "text"
      },
      "source": [
        "# Prediction\n",
        "Use tf.keras.Model.predict to infer labels on a batch or a dataset of batches."
      ]
    },
    {
      "cell_type": "code",
      "metadata": {
        "id": "ciNta2ZCKDS3",
        "colab_type": "code",
        "outputId": "b032e1e9-bf33-473c-c57c-4dd90900f559",
        "colab": {
          "base_uri": "https://localhost:8080/",
          "height": 187
        }
      },
      "source": [
        "predictions = model.predict(test_ds)\n",
        "# Show some results\n",
        "for prediction, survived in zip(predictions[:10], list(test_ds)[0][1][:10]):\n",
        "  print(\"Predicted survival\\t: {:.2%}\\t\".format(prediction[0]),\n",
        "        \" | Actual outcome\\t: \",\n",
        "        (\"Malignant\" if bool(survived) else \"Benign\"))"
      ],
      "execution_count": 0,
      "outputs": [
        {
          "output_type": "stream",
          "text": [
            "Predicted survival\t: 532.46%\t  | Actual outcome\t:  Malignant\n",
            "Predicted survival\t: -1119.45%\t  | Actual outcome\t:  Benign\n",
            "Predicted survival\t: -2224.65%\t  | Actual outcome\t:  Benign\n",
            "Predicted survival\t: -5492.41%\t  | Actual outcome\t:  Benign\n",
            "Predicted survival\t: 1537.36%\t  | Actual outcome\t:  Malignant\n",
            "Predicted survival\t: -1910.19%\t  | Actual outcome\t:  Benign\n",
            "Predicted survival\t: 638.29%\t  | Actual outcome\t:  Malignant\n",
            "Predicted survival\t: -1358.51%\t  | Actual outcome\t:  Benign\n",
            "Predicted survival\t: -1160.88%\t  | Actual outcome\t:  Malignant\n",
            "Predicted survival\t: -1291.69%\t  | Actual outcome\t:  Benign\n"
          ],
          "name": "stdout"
        }
      ]
    }
  ]
}