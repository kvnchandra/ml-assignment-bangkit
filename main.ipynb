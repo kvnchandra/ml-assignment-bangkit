{
  "nbformat": 4,
  "nbformat_minor": 0,
  "metadata": {
    "colab": {
      "name": "main.ipynb",
      "provenance": [],
      "collapsed_sections": [],
      "include_colab_link": true
    },
    "kernelspec": {
      "name": "python3",
      "display_name": "Python 3"
    }
  },
  "cells": [
    {
      "cell_type": "markdown",
      "metadata": {
        "id": "view-in-github",
        "colab_type": "text"
      },
      "source": [
        "<a href=\"https://colab.research.google.com/github/kvnchandra/ml-assignment-bangkit/blob/citra/main.ipynb\" target=\"_parent\"><img src=\"https://colab.research.google.com/assets/colab-badge.svg\" alt=\"Open In Colab\"/></a>"
      ]
    },
    {
      "cell_type": "markdown",
      "metadata": {
        "id": "0X85ZBYzGAm3",
        "colab_type": "text"
      },
      "source": [
        "# **Predicting Breast Cancer Diagnostic**\n",
        "\n",
        "\n",
        "---\n",
        "\n",
        "\n",
        "*Bangkit Academy 2020 : DPS-1 #05-W05-First Machine Learning Project - MLCC*\n",
        "\n",
        "Team members :\n",
        "1.   Kevin Chandra\n",
        "2.   Oktavia Citra\n",
        "3.   Gani Nur Fadli\n",
        "\n",
        "We use data from [kaggle.com ](https://https://www.kaggle.com/) with the title \"Breast Cancer Wisconsin (Diagnostic) Data Set\". We want to predict whether the cancer is benign or malignant of breast cancer patients. We can build this program because we've learned a lot from [Machine Learning Crash Course](https://developers.google.com/machine-learning/crash-course) and [TensorFlow Website](https://www.tensorflow.org/tutorials/)\n",
        "\n",
        "***Here the step by step and code bellow!***\n"
      ]
    },
    {
      "cell_type": "markdown",
      "metadata": {
        "id": "98SN36rVJWJS",
        "colab_type": "text"
      },
      "source": [
        "# **Setup**"
      ]
    },
    {
      "cell_type": "markdown",
      "metadata": {
        "id": "7bWhxa4YCXjK",
        "colab_type": "text"
      },
      "source": [
        "identification tensorflow newest version, so there is no error with the caption \"tensorflow is already loaded. please restart the runtime to change versions.\""
      ]
    },
    {
      "cell_type": "code",
      "metadata": {
        "id": "NA5H98LMJx6W",
        "colab_type": "code",
        "colab": {}
      },
      "source": [
        "try:\n",
        "  # %tensorflow_version only exists in Colab.\n",
        "  %tensorflow_version 2.x\n",
        "except Exception:\n",
        "  pass"
      ],
      "execution_count": 0,
      "outputs": []
    },
    {
      "cell_type": "markdown",
      "metadata": {
        "id": "IDP3oI8-CTku",
        "colab_type": "text"
      },
      "source": [
        "Import all modules and library that you need in the top"
      ]
    },
    {
      "cell_type": "code",
      "metadata": {
        "id": "bxPJYuj8CLne",
        "colab_type": "code",
        "colab": {}
      },
      "source": [
        "# Import relevant modules\n",
        "from __future__ import absolute_import, division, print_function, unicode_literals\n",
        "import functools\n",
        "import numpy as np\n",
        "import pandas as pd\n",
        "import tensorflow as tf\n",
        "import matplotlib.pyplot as plt\n",
        "import seaborn as sns\n",
        "\n",
        "from tensorflow import keras\n",
        "from tensorflow.keras import layers\n",
        "from sklearn.model_selection import train_test_split"
      ],
      "execution_count": 0,
      "outputs": []
    },
    {
      "cell_type": "markdown",
      "metadata": {
        "id": "JKza2PuZ_3Zq",
        "colab_type": "text"
      },
      "source": [
        "# **Initial Data**"
      ]
    },
    {
      "cell_type": "markdown",
      "metadata": {
        "id": "depUMkhu7ibb",
        "colab_type": "text"
      },
      "source": [
        "If you have data.csv and you want to publish on web, you can use feature Google Spreadsheet. You just need to copy the link that had been generated"
      ]
    },
    {
      "cell_type": "code",
      "metadata": {
        "id": "pAzlaEJD7Qhn",
        "colab_type": "code",
        "outputId": "3ceb03e2-1ab1-4058-981a-9cedd91803f7",
        "colab": {
          "base_uri": "https://localhost:8080/",
          "height": 51
        }
      },
      "source": [
        "# Download data using URL then save as \"data.csv\"\n",
        "URL = \"https://docs.google.com/spreadsheets/d/e/2PACX-1vQwPxotnLsgXuZt6tIXlAANttT3pxhP4ph0FhSjwvGUXfGKcnFRiqJORQg_9lBC77AH7QaxYypQ24nX/pub?output=csv\"\n",
        "dataset_path = keras.utils.get_file(\"data.csv\", URL)\n",
        "dataset_path"
      ],
      "execution_count": 3,
      "outputs": [
        {
          "output_type": "stream",
          "text": [
            "Downloading data from https://docs.google.com/spreadsheets/d/e/2PACX-1vQwPxotnLsgXuZt6tIXlAANttT3pxhP4ph0FhSjwvGUXfGKcnFRiqJORQg_9lBC77AH7QaxYypQ24nX/pub?output=csv\n",
            "   8192/Unknown - 0s 0us/step"
          ],
          "name": "stdout"
        },
        {
          "output_type": "execute_result",
          "data": {
            "text/plain": [
              "'/root/.keras/datasets/data.csv'"
            ]
          },
          "metadata": {
            "tags": []
          },
          "execution_count": 3
        }
      ]
    },
    {
      "cell_type": "markdown",
      "metadata": {
        "id": "0QHdNMCC8hbT",
        "colab_type": "text"
      },
      "source": [
        "This is using funcation read data csv from pandas. It's so simple"
      ]
    },
    {
      "cell_type": "code",
      "metadata": {
        "id": "5nU8hbjE7bjO",
        "colab_type": "code",
        "outputId": "76cb41ba-c67e-4a7e-d4dd-b0a3e60945ee",
        "colab": {
          "base_uri": "https://localhost:8080/",
          "height": 241
        }
      },
      "source": [
        "# Read data that had been dowloaded\n",
        "dataframe = pd.read_csv(dataset_path)\n",
        "dataframe.head()"
      ],
      "execution_count": 4,
      "outputs": [
        {
          "output_type": "execute_result",
          "data": {
            "text/html": [
              "<div>\n",
              "<style scoped>\n",
              "    .dataframe tbody tr th:only-of-type {\n",
              "        vertical-align: middle;\n",
              "    }\n",
              "\n",
              "    .dataframe tbody tr th {\n",
              "        vertical-align: top;\n",
              "    }\n",
              "\n",
              "    .dataframe thead th {\n",
              "        text-align: right;\n",
              "    }\n",
              "</style>\n",
              "<table border=\"1\" class=\"dataframe\">\n",
              "  <thead>\n",
              "    <tr style=\"text-align: right;\">\n",
              "      <th></th>\n",
              "      <th>id</th>\n",
              "      <th>diagnosis</th>\n",
              "      <th>radius_mean</th>\n",
              "      <th>texture_mean</th>\n",
              "      <th>perimeter_mean</th>\n",
              "      <th>area_mean</th>\n",
              "      <th>smoothness_mean</th>\n",
              "      <th>compactness_mean</th>\n",
              "      <th>concavity_mean</th>\n",
              "      <th>concave points_mean</th>\n",
              "      <th>symmetry_mean</th>\n",
              "      <th>fractal_dimension_mean</th>\n",
              "      <th>radius_se</th>\n",
              "      <th>texture_se</th>\n",
              "      <th>perimeter_se</th>\n",
              "      <th>area_se</th>\n",
              "      <th>smoothness_se</th>\n",
              "      <th>compactness_se</th>\n",
              "      <th>concavity_se</th>\n",
              "      <th>concave points_se</th>\n",
              "      <th>symmetry_se</th>\n",
              "      <th>fractal_dimension_se</th>\n",
              "      <th>radius_worst</th>\n",
              "      <th>texture_worst</th>\n",
              "      <th>perimeter_worst</th>\n",
              "      <th>area_worst</th>\n",
              "      <th>smoothness_worst</th>\n",
              "      <th>compactness_worst</th>\n",
              "      <th>concavity_worst</th>\n",
              "      <th>concave points_worst</th>\n",
              "      <th>symmetry_worst</th>\n",
              "      <th>fractal_dimension_worst</th>\n",
              "    </tr>\n",
              "  </thead>\n",
              "  <tbody>\n",
              "    <tr>\n",
              "      <th>0</th>\n",
              "      <td>842302</td>\n",
              "      <td>M</td>\n",
              "      <td>17.99</td>\n",
              "      <td>10.38</td>\n",
              "      <td>122.80</td>\n",
              "      <td>1001.0</td>\n",
              "      <td>1.184</td>\n",
              "      <td>2.776</td>\n",
              "      <td>3.001</td>\n",
              "      <td>1.471</td>\n",
              "      <td>2.419</td>\n",
              "      <td>7.871</td>\n",
              "      <td>1.095</td>\n",
              "      <td>9.053</td>\n",
              "      <td>8.589</td>\n",
              "      <td>153.40</td>\n",
              "      <td>6.399</td>\n",
              "      <td>4.904</td>\n",
              "      <td>5.373</td>\n",
              "      <td>1.587</td>\n",
              "      <td>3.003</td>\n",
              "      <td>6.193</td>\n",
              "      <td>25.38</td>\n",
              "      <td>17.33</td>\n",
              "      <td>184.60</td>\n",
              "      <td>2019.0</td>\n",
              "      <td>1.622</td>\n",
              "      <td>6.656</td>\n",
              "      <td>7.119</td>\n",
              "      <td>2.654</td>\n",
              "      <td>4.601</td>\n",
              "      <td>1.189</td>\n",
              "    </tr>\n",
              "    <tr>\n",
              "      <th>1</th>\n",
              "      <td>842517</td>\n",
              "      <td>M</td>\n",
              "      <td>20.57</td>\n",
              "      <td>17.77</td>\n",
              "      <td>132.90</td>\n",
              "      <td>1326.0</td>\n",
              "      <td>8.474</td>\n",
              "      <td>7.864</td>\n",
              "      <td>869.000</td>\n",
              "      <td>7.017</td>\n",
              "      <td>1.812</td>\n",
              "      <td>5.667</td>\n",
              "      <td>5.435</td>\n",
              "      <td>7.339</td>\n",
              "      <td>3.398</td>\n",
              "      <td>74.08</td>\n",
              "      <td>5.225</td>\n",
              "      <td>1.308</td>\n",
              "      <td>186.000</td>\n",
              "      <td>134.000</td>\n",
              "      <td>1.389</td>\n",
              "      <td>3.532</td>\n",
              "      <td>24.99</td>\n",
              "      <td>23.41</td>\n",
              "      <td>158.80</td>\n",
              "      <td>1956.0</td>\n",
              "      <td>1.238</td>\n",
              "      <td>1.866</td>\n",
              "      <td>2.416</td>\n",
              "      <td>186.000</td>\n",
              "      <td>275.000</td>\n",
              "      <td>8.902</td>\n",
              "    </tr>\n",
              "    <tr>\n",
              "      <th>2</th>\n",
              "      <td>84300903</td>\n",
              "      <td>M</td>\n",
              "      <td>19.69</td>\n",
              "      <td>21.25</td>\n",
              "      <td>130.00</td>\n",
              "      <td>1203.0</td>\n",
              "      <td>1.096</td>\n",
              "      <td>1.599</td>\n",
              "      <td>1.974</td>\n",
              "      <td>1.279</td>\n",
              "      <td>2.069</td>\n",
              "      <td>5.999</td>\n",
              "      <td>7.456</td>\n",
              "      <td>7.869</td>\n",
              "      <td>4.585</td>\n",
              "      <td>94.03</td>\n",
              "      <td>615.000</td>\n",
              "      <td>4.006</td>\n",
              "      <td>3.832</td>\n",
              "      <td>2.058</td>\n",
              "      <td>225.000</td>\n",
              "      <td>4.571</td>\n",
              "      <td>23.57</td>\n",
              "      <td>25.53</td>\n",
              "      <td>152.50</td>\n",
              "      <td>1709.0</td>\n",
              "      <td>1.444</td>\n",
              "      <td>4.245</td>\n",
              "      <td>4.504</td>\n",
              "      <td>243.000</td>\n",
              "      <td>3.613</td>\n",
              "      <td>8.758</td>\n",
              "    </tr>\n",
              "    <tr>\n",
              "      <th>3</th>\n",
              "      <td>84348301</td>\n",
              "      <td>M</td>\n",
              "      <td>11.42</td>\n",
              "      <td>20.38</td>\n",
              "      <td>77.58</td>\n",
              "      <td>386.1</td>\n",
              "      <td>1.425</td>\n",
              "      <td>2.839</td>\n",
              "      <td>2.414</td>\n",
              "      <td>1.052</td>\n",
              "      <td>2.597</td>\n",
              "      <td>9.744</td>\n",
              "      <td>4.956</td>\n",
              "      <td>1.156</td>\n",
              "      <td>3.445</td>\n",
              "      <td>27.23</td>\n",
              "      <td>911.000</td>\n",
              "      <td>7.458</td>\n",
              "      <td>5.661</td>\n",
              "      <td>1.867</td>\n",
              "      <td>5.963</td>\n",
              "      <td>9.208</td>\n",
              "      <td>14.91</td>\n",
              "      <td>26.50</td>\n",
              "      <td>98.87</td>\n",
              "      <td>567.7</td>\n",
              "      <td>2.098</td>\n",
              "      <td>8.663</td>\n",
              "      <td>6.869</td>\n",
              "      <td>2.575</td>\n",
              "      <td>6.638</td>\n",
              "      <td>173.000</td>\n",
              "    </tr>\n",
              "    <tr>\n",
              "      <th>4</th>\n",
              "      <td>84358402</td>\n",
              "      <td>M</td>\n",
              "      <td>20.29</td>\n",
              "      <td>14.34</td>\n",
              "      <td>135.10</td>\n",
              "      <td>1297.0</td>\n",
              "      <td>1.003</td>\n",
              "      <td>1.328</td>\n",
              "      <td>198.000</td>\n",
              "      <td>1.043</td>\n",
              "      <td>1.809</td>\n",
              "      <td>5.883</td>\n",
              "      <td>7.572</td>\n",
              "      <td>7.813</td>\n",
              "      <td>5.438</td>\n",
              "      <td>94.44</td>\n",
              "      <td>1.149</td>\n",
              "      <td>2.461</td>\n",
              "      <td>5.688</td>\n",
              "      <td>1.885</td>\n",
              "      <td>1.756</td>\n",
              "      <td>5.115</td>\n",
              "      <td>22.54</td>\n",
              "      <td>16.67</td>\n",
              "      <td>152.20</td>\n",
              "      <td>1575.0</td>\n",
              "      <td>1.374</td>\n",
              "      <td>205.000</td>\n",
              "      <td>0.400</td>\n",
              "      <td>1.625</td>\n",
              "      <td>2.364</td>\n",
              "      <td>7.678</td>\n",
              "    </tr>\n",
              "  </tbody>\n",
              "</table>\n",
              "</div>"
            ],
            "text/plain": [
              "         id diagnosis  ...  symmetry_worst  fractal_dimension_worst\n",
              "0    842302         M  ...           4.601                    1.189\n",
              "1    842517         M  ...         275.000                    8.902\n",
              "2  84300903         M  ...           3.613                    8.758\n",
              "3  84348301         M  ...           6.638                  173.000\n",
              "4  84358402         M  ...           2.364                    7.678\n",
              "\n",
              "[5 rows x 32 columns]"
            ]
          },
          "metadata": {
            "tags": []
          },
          "execution_count": 4
        }
      ]
    },
    {
      "cell_type": "markdown",
      "metadata": {
        "id": "9iV_m0W57_wy",
        "colab_type": "text"
      },
      "source": [
        "Get all the columns in dataset"
      ]
    },
    {
      "cell_type": "code",
      "metadata": {
        "id": "6gFt12Yn8ED_",
        "colab_type": "code",
        "outputId": "32c0a999-340e-40ba-f09d-c2ae47f76c9d",
        "colab": {
          "base_uri": "https://localhost:8080/",
          "height": 187
        }
      },
      "source": [
        "dataframe.columns"
      ],
      "execution_count": 5,
      "outputs": [
        {
          "output_type": "execute_result",
          "data": {
            "text/plain": [
              "Index(['id', 'diagnosis', 'radius_mean', 'texture_mean', 'perimeter_mean',\n",
              "       'area_mean', 'smoothness_mean', 'compactness_mean', 'concavity_mean',\n",
              "       'concave points_mean', 'symmetry_mean', 'fractal_dimension_mean',\n",
              "       'radius_se', 'texture_se', 'perimeter_se', 'area_se', 'smoothness_se',\n",
              "       'compactness_se', 'concavity_se', 'concave points_se', 'symmetry_se',\n",
              "       'fractal_dimension_se', 'radius_worst', 'texture_worst',\n",
              "       'perimeter_worst', 'area_worst', 'smoothness_worst',\n",
              "       'compactness_worst', 'concavity_worst', 'concave points_worst',\n",
              "       'symmetry_worst', 'fractal_dimension_worst'],\n",
              "      dtype='object')"
            ]
          },
          "metadata": {
            "tags": []
          },
          "execution_count": 5
        }
      ]
    },
    {
      "cell_type": "markdown",
      "metadata": {
        "id": "yYTlsMcR8ExL",
        "colab_type": "text"
      },
      "source": [
        "There are some columns that have space in their name. So we rename that columns' name so there is no space in the name"
      ]
    },
    {
      "cell_type": "code",
      "metadata": {
        "id": "kEOil3Aw8QtF",
        "colab_type": "code",
        "colab": {}
      },
      "source": [
        "dataframe.rename(columns={'concave points_mean': 'concave_points_mean',\n",
        "                          'concave points_se' : 'concave_points_se',\n",
        "                          'concave points_worst' : 'concave_points_worst'},\n",
        "                 inplace=True)"
      ],
      "execution_count": 0,
      "outputs": []
    },
    {
      "cell_type": "markdown",
      "metadata": {
        "id": "SbnA0ffDyzKY",
        "colab_type": "text"
      },
      "source": [
        "Based on the table above, **id** won't be used as feature for classification problem. So we remove the **id**"
      ]
    },
    {
      "cell_type": "code",
      "metadata": {
        "id": "iu7PN7rqywz_",
        "colab_type": "code",
        "outputId": "47f433c5-9758-4b56-d1d7-b749f5f9a629",
        "colab": {
          "base_uri": "https://localhost:8080/",
          "height": 34
        }
      },
      "source": [
        "dataframe.drop('id', axis=1, inplace=True)  # dropping the 'id' column\n",
        "\n",
        "print(\"Row, Col\", dataframe.shape)          # (row,col)"
      ],
      "execution_count": 7,
      "outputs": [
        {
          "output_type": "stream",
          "text": [
            "Row, Col (569, 31)\n"
          ],
          "name": "stdout"
        }
      ]
    },
    {
      "cell_type": "markdown",
      "metadata": {
        "id": "0QFP6j2PzVmF",
        "colab_type": "text"
      },
      "source": [
        "For diagnosis, we change the label as 1 and 0 :\n",
        "- Benign : 0\n",
        "- Malignant : 1"
      ]
    },
    {
      "cell_type": "code",
      "metadata": {
        "id": "2GpLZKypzV9z",
        "colab_type": "code",
        "outputId": "fa4a0912-6476-4640-edcf-83babb67c475",
        "colab": {
          "base_uri": "https://localhost:8080/",
          "height": 224
        }
      },
      "source": [
        "dataframe['diagnosis'] = dataframe['diagnosis'].map({'M':1, 'B':0})\n",
        "\n",
        "dataframe.head()"
      ],
      "execution_count": 8,
      "outputs": [
        {
          "output_type": "execute_result",
          "data": {
            "text/html": [
              "<div>\n",
              "<style scoped>\n",
              "    .dataframe tbody tr th:only-of-type {\n",
              "        vertical-align: middle;\n",
              "    }\n",
              "\n",
              "    .dataframe tbody tr th {\n",
              "        vertical-align: top;\n",
              "    }\n",
              "\n",
              "    .dataframe thead th {\n",
              "        text-align: right;\n",
              "    }\n",
              "</style>\n",
              "<table border=\"1\" class=\"dataframe\">\n",
              "  <thead>\n",
              "    <tr style=\"text-align: right;\">\n",
              "      <th></th>\n",
              "      <th>diagnosis</th>\n",
              "      <th>radius_mean</th>\n",
              "      <th>texture_mean</th>\n",
              "      <th>perimeter_mean</th>\n",
              "      <th>area_mean</th>\n",
              "      <th>smoothness_mean</th>\n",
              "      <th>compactness_mean</th>\n",
              "      <th>concavity_mean</th>\n",
              "      <th>concave_points_mean</th>\n",
              "      <th>symmetry_mean</th>\n",
              "      <th>fractal_dimension_mean</th>\n",
              "      <th>radius_se</th>\n",
              "      <th>texture_se</th>\n",
              "      <th>perimeter_se</th>\n",
              "      <th>area_se</th>\n",
              "      <th>smoothness_se</th>\n",
              "      <th>compactness_se</th>\n",
              "      <th>concavity_se</th>\n",
              "      <th>concave_points_se</th>\n",
              "      <th>symmetry_se</th>\n",
              "      <th>fractal_dimension_se</th>\n",
              "      <th>radius_worst</th>\n",
              "      <th>texture_worst</th>\n",
              "      <th>perimeter_worst</th>\n",
              "      <th>area_worst</th>\n",
              "      <th>smoothness_worst</th>\n",
              "      <th>compactness_worst</th>\n",
              "      <th>concavity_worst</th>\n",
              "      <th>concave_points_worst</th>\n",
              "      <th>symmetry_worst</th>\n",
              "      <th>fractal_dimension_worst</th>\n",
              "    </tr>\n",
              "  </thead>\n",
              "  <tbody>\n",
              "    <tr>\n",
              "      <th>0</th>\n",
              "      <td>1</td>\n",
              "      <td>17.99</td>\n",
              "      <td>10.38</td>\n",
              "      <td>122.80</td>\n",
              "      <td>1001.0</td>\n",
              "      <td>1.184</td>\n",
              "      <td>2.776</td>\n",
              "      <td>3.001</td>\n",
              "      <td>1.471</td>\n",
              "      <td>2.419</td>\n",
              "      <td>7.871</td>\n",
              "      <td>1.095</td>\n",
              "      <td>9.053</td>\n",
              "      <td>8.589</td>\n",
              "      <td>153.40</td>\n",
              "      <td>6.399</td>\n",
              "      <td>4.904</td>\n",
              "      <td>5.373</td>\n",
              "      <td>1.587</td>\n",
              "      <td>3.003</td>\n",
              "      <td>6.193</td>\n",
              "      <td>25.38</td>\n",
              "      <td>17.33</td>\n",
              "      <td>184.60</td>\n",
              "      <td>2019.0</td>\n",
              "      <td>1.622</td>\n",
              "      <td>6.656</td>\n",
              "      <td>7.119</td>\n",
              "      <td>2.654</td>\n",
              "      <td>4.601</td>\n",
              "      <td>1.189</td>\n",
              "    </tr>\n",
              "    <tr>\n",
              "      <th>1</th>\n",
              "      <td>1</td>\n",
              "      <td>20.57</td>\n",
              "      <td>17.77</td>\n",
              "      <td>132.90</td>\n",
              "      <td>1326.0</td>\n",
              "      <td>8.474</td>\n",
              "      <td>7.864</td>\n",
              "      <td>869.000</td>\n",
              "      <td>7.017</td>\n",
              "      <td>1.812</td>\n",
              "      <td>5.667</td>\n",
              "      <td>5.435</td>\n",
              "      <td>7.339</td>\n",
              "      <td>3.398</td>\n",
              "      <td>74.08</td>\n",
              "      <td>5.225</td>\n",
              "      <td>1.308</td>\n",
              "      <td>186.000</td>\n",
              "      <td>134.000</td>\n",
              "      <td>1.389</td>\n",
              "      <td>3.532</td>\n",
              "      <td>24.99</td>\n",
              "      <td>23.41</td>\n",
              "      <td>158.80</td>\n",
              "      <td>1956.0</td>\n",
              "      <td>1.238</td>\n",
              "      <td>1.866</td>\n",
              "      <td>2.416</td>\n",
              "      <td>186.000</td>\n",
              "      <td>275.000</td>\n",
              "      <td>8.902</td>\n",
              "    </tr>\n",
              "    <tr>\n",
              "      <th>2</th>\n",
              "      <td>1</td>\n",
              "      <td>19.69</td>\n",
              "      <td>21.25</td>\n",
              "      <td>130.00</td>\n",
              "      <td>1203.0</td>\n",
              "      <td>1.096</td>\n",
              "      <td>1.599</td>\n",
              "      <td>1.974</td>\n",
              "      <td>1.279</td>\n",
              "      <td>2.069</td>\n",
              "      <td>5.999</td>\n",
              "      <td>7.456</td>\n",
              "      <td>7.869</td>\n",
              "      <td>4.585</td>\n",
              "      <td>94.03</td>\n",
              "      <td>615.000</td>\n",
              "      <td>4.006</td>\n",
              "      <td>3.832</td>\n",
              "      <td>2.058</td>\n",
              "      <td>225.000</td>\n",
              "      <td>4.571</td>\n",
              "      <td>23.57</td>\n",
              "      <td>25.53</td>\n",
              "      <td>152.50</td>\n",
              "      <td>1709.0</td>\n",
              "      <td>1.444</td>\n",
              "      <td>4.245</td>\n",
              "      <td>4.504</td>\n",
              "      <td>243.000</td>\n",
              "      <td>3.613</td>\n",
              "      <td>8.758</td>\n",
              "    </tr>\n",
              "    <tr>\n",
              "      <th>3</th>\n",
              "      <td>1</td>\n",
              "      <td>11.42</td>\n",
              "      <td>20.38</td>\n",
              "      <td>77.58</td>\n",
              "      <td>386.1</td>\n",
              "      <td>1.425</td>\n",
              "      <td>2.839</td>\n",
              "      <td>2.414</td>\n",
              "      <td>1.052</td>\n",
              "      <td>2.597</td>\n",
              "      <td>9.744</td>\n",
              "      <td>4.956</td>\n",
              "      <td>1.156</td>\n",
              "      <td>3.445</td>\n",
              "      <td>27.23</td>\n",
              "      <td>911.000</td>\n",
              "      <td>7.458</td>\n",
              "      <td>5.661</td>\n",
              "      <td>1.867</td>\n",
              "      <td>5.963</td>\n",
              "      <td>9.208</td>\n",
              "      <td>14.91</td>\n",
              "      <td>26.50</td>\n",
              "      <td>98.87</td>\n",
              "      <td>567.7</td>\n",
              "      <td>2.098</td>\n",
              "      <td>8.663</td>\n",
              "      <td>6.869</td>\n",
              "      <td>2.575</td>\n",
              "      <td>6.638</td>\n",
              "      <td>173.000</td>\n",
              "    </tr>\n",
              "    <tr>\n",
              "      <th>4</th>\n",
              "      <td>1</td>\n",
              "      <td>20.29</td>\n",
              "      <td>14.34</td>\n",
              "      <td>135.10</td>\n",
              "      <td>1297.0</td>\n",
              "      <td>1.003</td>\n",
              "      <td>1.328</td>\n",
              "      <td>198.000</td>\n",
              "      <td>1.043</td>\n",
              "      <td>1.809</td>\n",
              "      <td>5.883</td>\n",
              "      <td>7.572</td>\n",
              "      <td>7.813</td>\n",
              "      <td>5.438</td>\n",
              "      <td>94.44</td>\n",
              "      <td>1.149</td>\n",
              "      <td>2.461</td>\n",
              "      <td>5.688</td>\n",
              "      <td>1.885</td>\n",
              "      <td>1.756</td>\n",
              "      <td>5.115</td>\n",
              "      <td>22.54</td>\n",
              "      <td>16.67</td>\n",
              "      <td>152.20</td>\n",
              "      <td>1575.0</td>\n",
              "      <td>1.374</td>\n",
              "      <td>205.000</td>\n",
              "      <td>0.400</td>\n",
              "      <td>1.625</td>\n",
              "      <td>2.364</td>\n",
              "      <td>7.678</td>\n",
              "    </tr>\n",
              "  </tbody>\n",
              "</table>\n",
              "</div>"
            ],
            "text/plain": [
              "   diagnosis  radius_mean  ...  symmetry_worst  fractal_dimension_worst\n",
              "0          1        17.99  ...           4.601                    1.189\n",
              "1          1        20.57  ...         275.000                    8.902\n",
              "2          1        19.69  ...           3.613                    8.758\n",
              "3          1        11.42  ...           6.638                  173.000\n",
              "4          1        20.29  ...           2.364                    7.678\n",
              "\n",
              "[5 rows x 31 columns]"
            ]
          },
          "metadata": {
            "tags": []
          },
          "execution_count": 8
        }
      ]
    },
    {
      "cell_type": "markdown",
      "metadata": {
        "id": "4EGVs5AM8nWH",
        "colab_type": "text"
      },
      "source": [
        "In classification, you must have 3 types of data. Those are train data, validation data, and test data."
      ]
    },
    {
      "cell_type": "code",
      "metadata": {
        "id": "XXeNHsC77e-a",
        "colab_type": "code",
        "outputId": "5dddd90b-a0be-4b6d-e21a-f924bce1f35f",
        "colab": {
          "base_uri": "https://localhost:8080/",
          "height": 68
        }
      },
      "source": [
        "# First, separate data into 2 types\n",
        "train, test = train_test_split(dataframe, \n",
        "                               test_size=0.2,\n",
        "                               stratify=dataframe['diagnosis'])     # split data into same ratio based on diagnosis\n",
        "\n",
        "print('Length of\\n\\tTrain Data\\t: ', len(train),\n",
        "      '\\n\\tTest Data\\t: ', len(test))"
      ],
      "execution_count": 9,
      "outputs": [
        {
          "output_type": "stream",
          "text": [
            "Length of\n",
            "\tTrain Data\t:  455 \n",
            "\tTest Data\t:  114\n"
          ],
          "name": "stdout"
        }
      ]
    },
    {
      "cell_type": "markdown",
      "metadata": {
        "id": "DAYfDgeMD-eK",
        "colab_type": "text"
      },
      "source": [
        "# **Inspect Data**"
      ]
    },
    {
      "cell_type": "code",
      "metadata": {
        "id": "RF017YCBfchz",
        "colab_type": "code",
        "outputId": "e530fea0-ea35-4a39-a0d4-eda68e363c0c",
        "colab": {
          "base_uri": "https://localhost:8080/",
          "height": 629
        }
      },
      "source": [
        "train.info()"
      ],
      "execution_count": 10,
      "outputs": [
        {
          "output_type": "stream",
          "text": [
            "<class 'pandas.core.frame.DataFrame'>\n",
            "Int64Index: 455 entries, 26 to 226\n",
            "Data columns (total 31 columns):\n",
            "diagnosis                  455 non-null int64\n",
            "radius_mean                455 non-null float64\n",
            "texture_mean               455 non-null float64\n",
            "perimeter_mean             455 non-null float64\n",
            "area_mean                  455 non-null float64\n",
            "smoothness_mean            455 non-null float64\n",
            "compactness_mean           455 non-null float64\n",
            "concavity_mean             455 non-null float64\n",
            "concave_points_mean        455 non-null float64\n",
            "symmetry_mean              455 non-null float64\n",
            "fractal_dimension_mean     455 non-null float64\n",
            "radius_se                  455 non-null float64\n",
            "texture_se                 455 non-null float64\n",
            "perimeter_se               455 non-null float64\n",
            "area_se                    455 non-null float64\n",
            "smoothness_se              455 non-null float64\n",
            "compactness_se             455 non-null float64\n",
            "concavity_se               455 non-null float64\n",
            "concave_points_se          455 non-null float64\n",
            "symmetry_se                455 non-null float64\n",
            "fractal_dimension_se       455 non-null float64\n",
            "radius_worst               455 non-null float64\n",
            "texture_worst              455 non-null float64\n",
            "perimeter_worst            455 non-null float64\n",
            "area_worst                 455 non-null float64\n",
            "smoothness_worst           455 non-null float64\n",
            "compactness_worst          455 non-null float64\n",
            "concavity_worst            455 non-null float64\n",
            "concave_points_worst       455 non-null float64\n",
            "symmetry_worst             455 non-null float64\n",
            "fractal_dimension_worst    455 non-null float64\n",
            "dtypes: float64(30), int64(1)\n",
            "memory usage: 113.8 KB\n"
          ],
          "name": "stdout"
        }
      ]
    },
    {
      "cell_type": "code",
      "metadata": {
        "id": "3uTwl2V9esKE",
        "colab_type": "code",
        "outputId": "e39ff8ba-4a76-4870-a979-048c40cc5e59",
        "colab": {
          "base_uri": "https://localhost:8080/",
          "height": 317
        }
      },
      "source": [
        "train.describe()"
      ],
      "execution_count": 11,
      "outputs": [
        {
          "output_type": "execute_result",
          "data": {
            "text/html": [
              "<div>\n",
              "<style scoped>\n",
              "    .dataframe tbody tr th:only-of-type {\n",
              "        vertical-align: middle;\n",
              "    }\n",
              "\n",
              "    .dataframe tbody tr th {\n",
              "        vertical-align: top;\n",
              "    }\n",
              "\n",
              "    .dataframe thead th {\n",
              "        text-align: right;\n",
              "    }\n",
              "</style>\n",
              "<table border=\"1\" class=\"dataframe\">\n",
              "  <thead>\n",
              "    <tr style=\"text-align: right;\">\n",
              "      <th></th>\n",
              "      <th>diagnosis</th>\n",
              "      <th>radius_mean</th>\n",
              "      <th>texture_mean</th>\n",
              "      <th>perimeter_mean</th>\n",
              "      <th>area_mean</th>\n",
              "      <th>smoothness_mean</th>\n",
              "      <th>compactness_mean</th>\n",
              "      <th>concavity_mean</th>\n",
              "      <th>concave_points_mean</th>\n",
              "      <th>symmetry_mean</th>\n",
              "      <th>fractal_dimension_mean</th>\n",
              "      <th>radius_se</th>\n",
              "      <th>texture_se</th>\n",
              "      <th>perimeter_se</th>\n",
              "      <th>area_se</th>\n",
              "      <th>smoothness_se</th>\n",
              "      <th>compactness_se</th>\n",
              "      <th>concavity_se</th>\n",
              "      <th>concave_points_se</th>\n",
              "      <th>symmetry_se</th>\n",
              "      <th>fractal_dimension_se</th>\n",
              "      <th>radius_worst</th>\n",
              "      <th>texture_worst</th>\n",
              "      <th>perimeter_worst</th>\n",
              "      <th>area_worst</th>\n",
              "      <th>smoothness_worst</th>\n",
              "      <th>compactness_worst</th>\n",
              "      <th>concavity_worst</th>\n",
              "      <th>concave_points_worst</th>\n",
              "      <th>symmetry_worst</th>\n",
              "      <th>fractal_dimension_worst</th>\n",
              "    </tr>\n",
              "  </thead>\n",
              "  <tbody>\n",
              "    <tr>\n",
              "      <th>count</th>\n",
              "      <td>455.000000</td>\n",
              "      <td>455.000000</td>\n",
              "      <td>455.000000</td>\n",
              "      <td>455.000000</td>\n",
              "      <td>455.000000</td>\n",
              "      <td>455.000000</td>\n",
              "      <td>455.000000</td>\n",
              "      <td>455.000000</td>\n",
              "      <td>455.000000</td>\n",
              "      <td>455.000000</td>\n",
              "      <td>455.000000</td>\n",
              "      <td>455.000000</td>\n",
              "      <td>455.000000</td>\n",
              "      <td>455.000000</td>\n",
              "      <td>455.000000</td>\n",
              "      <td>455.000000</td>\n",
              "      <td>455.000000</td>\n",
              "      <td>455.000000</td>\n",
              "      <td>455.000000</td>\n",
              "      <td>455.000000</td>\n",
              "      <td>455.000000</td>\n",
              "      <td>455.000000</td>\n",
              "      <td>455.000000</td>\n",
              "      <td>455.000000</td>\n",
              "      <td>455.000000</td>\n",
              "      <td>455.000000</td>\n",
              "      <td>455.000000</td>\n",
              "      <td>455.000000</td>\n",
              "      <td>455.000000</td>\n",
              "      <td>455.000000</td>\n",
              "      <td>455.000000</td>\n",
              "    </tr>\n",
              "    <tr>\n",
              "      <th>mean</th>\n",
              "      <td>0.373626</td>\n",
              "      <td>14.145842</td>\n",
              "      <td>19.259407</td>\n",
              "      <td>92.092681</td>\n",
              "      <td>657.451648</td>\n",
              "      <td>51.735987</td>\n",
              "      <td>31.497868</td>\n",
              "      <td>44.408600</td>\n",
              "      <td>33.948242</td>\n",
              "      <td>20.019505</td>\n",
              "      <td>67.589125</td>\n",
              "      <td>33.165409</td>\n",
              "      <td>27.016631</td>\n",
              "      <td>8.704154</td>\n",
              "      <td>40.543853</td>\n",
              "      <td>47.988673</td>\n",
              "      <td>25.928433</td>\n",
              "      <td>29.115215</td>\n",
              "      <td>43.739042</td>\n",
              "      <td>21.839037</td>\n",
              "      <td>32.827851</td>\n",
              "      <td>16.277905</td>\n",
              "      <td>25.640044</td>\n",
              "      <td>107.315407</td>\n",
              "      <td>882.069890</td>\n",
              "      <td>14.626545</td>\n",
              "      <td>36.694431</td>\n",
              "      <td>36.916092</td>\n",
              "      <td>47.088780</td>\n",
              "      <td>32.683068</td>\n",
              "      <td>61.953185</td>\n",
              "    </tr>\n",
              "    <tr>\n",
              "      <th>std</th>\n",
              "      <td>0.484299</td>\n",
              "      <td>3.565489</td>\n",
              "      <td>4.072930</td>\n",
              "      <td>24.527442</td>\n",
              "      <td>356.304908</td>\n",
              "      <td>190.797650</td>\n",
              "      <td>125.808246</td>\n",
              "      <td>154.401944</td>\n",
              "      <td>113.337180</td>\n",
              "      <td>55.955023</td>\n",
              "      <td>187.005658</td>\n",
              "      <td>104.796893</td>\n",
              "      <td>133.909551</td>\n",
              "      <td>70.304768</td>\n",
              "      <td>47.697032</td>\n",
              "      <td>158.794954</td>\n",
              "      <td>98.567581</td>\n",
              "      <td>109.522117</td>\n",
              "      <td>155.203222</td>\n",
              "      <td>61.472103</td>\n",
              "      <td>108.841650</td>\n",
              "      <td>4.854804</td>\n",
              "      <td>5.992365</td>\n",
              "      <td>33.626799</td>\n",
              "      <td>571.644038</td>\n",
              "      <td>59.055765</td>\n",
              "      <td>122.735912</td>\n",
              "      <td>123.069436</td>\n",
              "      <td>162.694226</td>\n",
              "      <td>90.229631</td>\n",
              "      <td>201.428992</td>\n",
              "    </tr>\n",
              "    <tr>\n",
              "      <th>min</th>\n",
              "      <td>0.000000</td>\n",
              "      <td>6.981000</td>\n",
              "      <td>9.710000</td>\n",
              "      <td>43.790000</td>\n",
              "      <td>143.500000</td>\n",
              "      <td>0.100000</td>\n",
              "      <td>0.060000</td>\n",
              "      <td>0.000000</td>\n",
              "      <td>0.000000</td>\n",
              "      <td>0.180000</td>\n",
              "      <td>0.060000</td>\n",
              "      <td>0.210000</td>\n",
              "      <td>0.780000</td>\n",
              "      <td>1.011000</td>\n",
              "      <td>6.802000</td>\n",
              "      <td>0.010000</td>\n",
              "      <td>1.003000</td>\n",
              "      <td>0.000000</td>\n",
              "      <td>0.000000</td>\n",
              "      <td>1.013000</td>\n",
              "      <td>1.002000</td>\n",
              "      <td>7.930000</td>\n",
              "      <td>12.020000</td>\n",
              "      <td>50.410000</td>\n",
              "      <td>185.200000</td>\n",
              "      <td>0.150000</td>\n",
              "      <td>0.100000</td>\n",
              "      <td>0.000000</td>\n",
              "      <td>0.000000</td>\n",
              "      <td>0.230000</td>\n",
              "      <td>0.120000</td>\n",
              "    </tr>\n",
              "    <tr>\n",
              "      <th>25%</th>\n",
              "      <td>0.000000</td>\n",
              "      <td>11.705000</td>\n",
              "      <td>16.390000</td>\n",
              "      <td>75.265000</td>\n",
              "      <td>420.400000</td>\n",
              "      <td>1.138000</td>\n",
              "      <td>1.407500</td>\n",
              "      <td>1.646500</td>\n",
              "      <td>1.988000</td>\n",
              "      <td>1.634500</td>\n",
              "      <td>5.824500</td>\n",
              "      <td>2.195000</td>\n",
              "      <td>1.331500</td>\n",
              "      <td>1.687500</td>\n",
              "      <td>17.855000</td>\n",
              "      <td>4.468000</td>\n",
              "      <td>1.727000</td>\n",
              "      <td>1.868500</td>\n",
              "      <td>1.340000</td>\n",
              "      <td>1.555000</td>\n",
              "      <td>2.261500</td>\n",
              "      <td>12.995000</td>\n",
              "      <td>21.140000</td>\n",
              "      <td>84.035000</td>\n",
              "      <td>515.550000</td>\n",
              "      <td>1.224000</td>\n",
              "      <td>1.848000</td>\n",
              "      <td>1.923500</td>\n",
              "      <td>1.555500</td>\n",
              "      <td>2.524000</td>\n",
              "      <td>6.597500</td>\n",
              "    </tr>\n",
              "    <tr>\n",
              "      <th>50%</th>\n",
              "      <td>0.000000</td>\n",
              "      <td>13.300000</td>\n",
              "      <td>18.890000</td>\n",
              "      <td>86.240000</td>\n",
              "      <td>546.300000</td>\n",
              "      <td>8.313000</td>\n",
              "      <td>4.302000</td>\n",
              "      <td>3.112000</td>\n",
              "      <td>3.738000</td>\n",
              "      <td>1.809000</td>\n",
              "      <td>6.222000</td>\n",
              "      <td>3.242000</td>\n",
              "      <td>1.909000</td>\n",
              "      <td>2.362000</td>\n",
              "      <td>24.320000</td>\n",
              "      <td>5.783000</td>\n",
              "      <td>2.809000</td>\n",
              "      <td>3.109000</td>\n",
              "      <td>2.139000</td>\n",
              "      <td>1.977000</td>\n",
              "      <td>3.359000</td>\n",
              "      <td>14.970000</td>\n",
              "      <td>25.450000</td>\n",
              "      <td>97.820000</td>\n",
              "      <td>686.600000</td>\n",
              "      <td>1.374000</td>\n",
              "      <td>2.884000</td>\n",
              "      <td>3.439000</td>\n",
              "      <td>2.564000</td>\n",
              "      <td>2.878000</td>\n",
              "      <td>7.628000</td>\n",
              "    </tr>\n",
              "    <tr>\n",
              "      <th>75%</th>\n",
              "      <td>1.000000</td>\n",
              "      <td>16.025000</td>\n",
              "      <td>21.640000</td>\n",
              "      <td>104.200000</td>\n",
              "      <td>795.500000</td>\n",
              "      <td>9.392500</td>\n",
              "      <td>7.578500</td>\n",
              "      <td>6.245000</td>\n",
              "      <td>7.497500</td>\n",
              "      <td>2.075000</td>\n",
              "      <td>6.903500</td>\n",
              "      <td>5.206000</td>\n",
              "      <td>7.355500</td>\n",
              "      <td>3.549000</td>\n",
              "      <td>45.410000</td>\n",
              "      <td>7.531000</td>\n",
              "      <td>5.005500</td>\n",
              "      <td>5.230000</td>\n",
              "      <td>7.691000</td>\n",
              "      <td>2.759500</td>\n",
              "      <td>4.976000</td>\n",
              "      <td>19.025000</td>\n",
              "      <td>29.295000</td>\n",
              "      <td>126.500000</td>\n",
              "      <td>1091.500000</td>\n",
              "      <td>1.579000</td>\n",
              "      <td>5.211000</td>\n",
              "      <td>5.583500</td>\n",
              "      <td>7.883000</td>\n",
              "      <td>3.351000</td>\n",
              "      <td>8.545000</td>\n",
              "    </tr>\n",
              "    <tr>\n",
              "      <th>max</th>\n",
              "      <td>1.000000</td>\n",
              "      <td>28.110000</td>\n",
              "      <td>33.560000</td>\n",
              "      <td>188.500000</td>\n",
              "      <td>2501.000000</td>\n",
              "      <td>997.000000</td>\n",
              "      <td>958.000000</td>\n",
              "      <td>973.000000</td>\n",
              "      <td>974.000000</td>\n",
              "      <td>304.000000</td>\n",
              "      <td>898.000000</td>\n",
              "      <td>726.000000</td>\n",
              "      <td>976.000000</td>\n",
              "      <td>968.000000</td>\n",
              "      <td>542.200000</td>\n",
              "      <td>968.000000</td>\n",
              "      <td>911.000000</td>\n",
              "      <td>996.000000</td>\n",
              "      <td>956.000000</td>\n",
              "      <td>388.000000</td>\n",
              "      <td>866.000000</td>\n",
              "      <td>36.040000</td>\n",
              "      <td>49.540000</td>\n",
              "      <td>251.200000</td>\n",
              "      <td>4254.000000</td>\n",
              "      <td>997.000000</td>\n",
              "      <td>937.000000</td>\n",
              "      <td>935.000000</td>\n",
              "      <td>991.000000</td>\n",
              "      <td>544.000000</td>\n",
              "      <td>997.000000</td>\n",
              "    </tr>\n",
              "  </tbody>\n",
              "</table>\n",
              "</div>"
            ],
            "text/plain": [
              "        diagnosis  radius_mean  ...  symmetry_worst  fractal_dimension_worst\n",
              "count  455.000000   455.000000  ...      455.000000               455.000000\n",
              "mean     0.373626    14.145842  ...       32.683068                61.953185\n",
              "std      0.484299     3.565489  ...       90.229631               201.428992\n",
              "min      0.000000     6.981000  ...        0.230000                 0.120000\n",
              "25%      0.000000    11.705000  ...        2.524000                 6.597500\n",
              "50%      0.000000    13.300000  ...        2.878000                 7.628000\n",
              "75%      1.000000    16.025000  ...        3.351000                 8.545000\n",
              "max      1.000000    28.110000  ...      544.000000               997.000000\n",
              "\n",
              "[8 rows x 31 columns]"
            ]
          },
          "metadata": {
            "tags": []
          },
          "execution_count": 11
        }
      ]
    },
    {
      "cell_type": "code",
      "metadata": {
        "id": "MmVdhLR-YfFs",
        "colab_type": "code",
        "outputId": "08cb0b55-e652-4e40-d0f8-35c29b4d70d7",
        "colab": {
          "base_uri": "https://localhost:8080/",
          "height": 389
        }
      },
      "source": [
        "colors_list = ['lightgreen', 'crimson']\n",
        "explode_list = [0.1, 0]     # ratio for each class with which to offset each wedge.\n",
        "\n",
        "train['diagnosis'].value_counts().plot(kind='pie',\n",
        "                                       figsize=(6, 6),\n",
        "                                       autopct='%1.1f%%', \n",
        "                                       startangle=90,    \n",
        "                                       shadow=True,       \n",
        "                                       labels=None,         # turn off labels on pie chart\n",
        "                                       pctdistance=0.5,     # the ratio between the center of each pie slice and the start of the text generated by autopct \n",
        "                                       fontsize=15,\n",
        "                                       colors=colors_list,  # add custom colors\n",
        "                                       explode=explode_list \n",
        "                                       )\n",
        "\n",
        "# scale the title up by 5% to match pctdistance\n",
        "plt.title('Percentage of Malignant and Benign Case in Train Set', y = 1.05) \n",
        "\n",
        "# add legend\n",
        "plt.legend(labels=train['diagnosis'].value_counts().index, loc='upper left') \n",
        "\n",
        "plt.show()"
      ],
      "execution_count": 12,
      "outputs": [
        {
          "output_type": "display_data",
          "data": {
            "image/png": "[encoded data removed]",
            "text/plain": [
              "<Figure size 432x432 with 1 Axes>"
            ]
          },
          "metadata": {
            "tags": []
          }
        }
      ]
    },
    {
      "cell_type": "markdown",
      "metadata": {
        "id": "aMZjzPk8ERjl",
        "colab_type": "text"
      },
      "source": [
        "Choose one criteria column from the data"
      ]
    },
    {
      "cell_type": "code",
      "metadata": {
        "id": "PmdoB9UjEDVf",
        "colab_type": "code",
        "outputId": "953c7ac3-6834-4184-db8a-5e90524238cf",
        "colab": {
          "base_uri": "https://localhost:8080/",
          "height": 584
        }
      },
      "source": [
        "# Create plot to display data\n",
        "sns.pairplot(train[[\"diagnosis\", \"radius_mean\",\t\"radius_se\", \"radius_worst\"]],\n",
        "             hue = 'diagnosis', \n",
        "             diag_kind=\"kde\")"
      ],
      "execution_count": 13,
      "outputs": [
        {
          "output_type": "execute_result",
          "data": {
            "text/plain": [
              "<seaborn.axisgrid.PairGrid at 0x7f2165abfcc0>"
            ]
          },
          "metadata": {
            "tags": []
          },
          "execution_count": 13
        },
        {
          "output_type": "display_data",
          "data": {
            "image/png": "[encoded data removed]",
            "text/plain": [
              "<Figure size 595.5x540 with 12 Axes>"
            ]
          },
          "metadata": {
            "tags": []
          }
        }
      ]
    },
    {
      "cell_type": "markdown",
      "metadata": {
        "id": "G6VZ_8QS8rIY",
        "colab_type": "text"
      },
      "source": [
        "Split train data to train set and val set"
      ]
    },
    {
      "cell_type": "code",
      "metadata": {
        "id": "_6NhoXOB5POH",
        "colab_type": "code",
        "outputId": "ee39fdea-4136-464a-cd7f-eafbc2721615",
        "colab": {
          "base_uri": "https://localhost:8080/",
          "height": 68
        }
      },
      "source": [
        "train, val = train_test_split(train, \n",
        "                              test_size=0.2, \n",
        "                              stratify=train['diagnosis'])\n",
        "\n",
        "print('Length of\\n\\tTrain Data\\t: ', len(train),\n",
        "      '\\n\\tTest Data\\t: ', len(val))"
      ],
      "execution_count": 14,
      "outputs": [
        {
          "output_type": "stream",
          "text": [
            "Length of\n",
            "\tTrain Data\t:  364 \n",
            "\tTest Data\t:  91\n"
          ],
          "name": "stdout"
        }
      ]
    },
    {
      "cell_type": "code",
      "metadata": {
        "id": "XU1hP-vQ_kyC",
        "colab_type": "code",
        "colab": {}
      },
      "source": [
        "# A utility method to create a tf.data dataset from a Pandas Dataframe\n",
        "def df_to_dataset(dataframe, shuffle=True, batch_size=32):\n",
        "    dataframe = dataframe.copy()\n",
        "    labels = dataframe.pop('diagnosis')\n",
        "\n",
        "    ds = tf.data.Dataset.from_tensor_slices((dict(dataframe), labels))\n",
        "\n",
        "    if shuffle:\n",
        "        ds = ds.shuffle(buffer_size=len(dataframe))\n",
        "        \n",
        "    return ds.batch(batch_size)"
      ],
      "execution_count": 0,
      "outputs": []
    },
    {
      "cell_type": "code",
      "metadata": {
        "id": "pYRrFRdr_5F2",
        "colab_type": "code",
        "colab": {}
      },
      "source": [
        "train_cols = list(train.columns)\n",
        "train_cols.remove('diagnosis')\n",
        "feature_columns = []\n",
        "\n",
        "# numeric cols\n",
        "for header in train_cols:\n",
        "    feature_columns.append(tf.feature_column.numeric_column(header))"
      ],
      "execution_count": 0,
      "outputs": []
    },
    {
      "cell_type": "code",
      "metadata": {
        "id": "Wy4F4egaACzV",
        "colab_type": "code",
        "colab": {}
      },
      "source": [
        "feature_layer = tf.keras.layers.DenseFeatures(feature_columns)"
      ],
      "execution_count": 0,
      "outputs": []
    },
    {
      "cell_type": "code",
      "metadata": {
        "id": "UaAeaZyaAFmF",
        "colab_type": "code",
        "colab": {}
      },
      "source": [
        "batch_size = 32\n",
        "\n",
        "train_ds = df_to_dataset(train, batch_size=batch_size)\n",
        "val_ds = df_to_dataset(val, shuffle=False, batch_size=batch_size)\n",
        "test_ds = df_to_dataset(test, shuffle=False, batch_size=batch_size)"
      ],
      "execution_count": 0,
      "outputs": []
    },
    {
      "cell_type": "code",
      "metadata": {
        "id": "69nWKrJIAUCF",
        "colab_type": "code",
        "outputId": "aac6cfd1-c81b-40d5-acf4-c7d60c089827",
        "colab": {
          "base_uri": "https://localhost:8080/",
          "height": 836
        }
      },
      "source": [
        "model = tf.keras.Sequential([\n",
        "    feature_layer,\n",
        "    layers.Dense(128, activation='relu'),\n",
        "    layers.Dense(128, activation='relu'),\n",
        "    layers.Dense(1)\n",
        "])\n",
        "\n",
        "history = model.compile(optimizer='adam',\n",
        "              loss=tf.keras.losses.BinaryCrossentropy(from_logits=True),\n",
        "              metrics=['accuracy'])\n",
        "\n",
        "model.fit(train_ds,\n",
        "          validation_data=val_ds,\n",
        "          epochs=20)"
      ],
      "execution_count": 19,
      "outputs": [
        {
          "output_type": "stream",
          "text": [
            "Epoch 1/20\n",
            "WARNING:tensorflow:Layer dense_features is casting an input tensor from dtype float64 to the layer's dtype of float32, which is new behavior in TensorFlow 2.  The layer has dtype float32 because it's dtype defaults to floatx.\n",
            "\n",
            "If you intended to run this layer in float32, you can safely ignore this warning. If in doubt, this warning is likely only an issue if you are porting a TensorFlow 1.X model to TensorFlow 2.\n",
            "\n",
            "To change all layers to have dtype float64 by default, call `tf.keras.backend.set_floatx('float64')`. To change just this layer, pass dtype='float64' to the layer constructor. If you are the author of this layer, you can disable autocasting by passing autocast=False to the base Layer constructor.\n",
            "\n",
            "12/12 [==============================] - 0s 39ms/step - loss: 10.2895 - accuracy: 0.6209 - val_loss: 6.6415 - val_accuracy: 0.5934\n",
            "Epoch 2/20\n",
            "12/12 [==============================] - 0s 5ms/step - loss: 2.7845 - accuracy: 0.8269 - val_loss: 3.9687 - val_accuracy: 0.8022\n",
            "Epoch 3/20\n",
            "12/12 [==============================] - 0s 4ms/step - loss: 2.2164 - accuracy: 0.8352 - val_loss: 2.9136 - val_accuracy: 0.8242\n",
            "Epoch 4/20\n",
            "12/12 [==============================] - 0s 5ms/step - loss: 2.7143 - accuracy: 0.8187 - val_loss: 4.5736 - val_accuracy: 0.7253\n",
            "Epoch 5/20\n",
            "12/12 [==============================] - 0s 5ms/step - loss: 2.7927 - accuracy: 0.7967 - val_loss: 3.8819 - val_accuracy: 0.8352\n",
            "Epoch 6/20\n",
            "12/12 [==============================] - 0s 6ms/step - loss: 0.8264 - accuracy: 0.9231 - val_loss: 3.6831 - val_accuracy: 0.7582\n",
            "Epoch 7/20\n",
            "12/12 [==============================] - 0s 5ms/step - loss: 0.5333 - accuracy: 0.9231 - val_loss: 3.4898 - val_accuracy: 0.8462\n",
            "Epoch 8/20\n",
            "12/12 [==============================] - 0s 5ms/step - loss: 0.3612 - accuracy: 0.9423 - val_loss: 2.9502 - val_accuracy: 0.8132\n",
            "Epoch 9/20\n",
            "12/12 [==============================] - 0s 5ms/step - loss: 0.4356 - accuracy: 0.9423 - val_loss: 2.6817 - val_accuracy: 0.8242\n",
            "Epoch 10/20\n",
            "12/12 [==============================] - 0s 5ms/step - loss: 0.3974 - accuracy: 0.9341 - val_loss: 2.9502 - val_accuracy: 0.8462\n",
            "Epoch 11/20\n",
            "12/12 [==============================] - 0s 5ms/step - loss: 0.2917 - accuracy: 0.9560 - val_loss: 2.4891 - val_accuracy: 0.8352\n",
            "Epoch 12/20\n",
            "12/12 [==============================] - 0s 5ms/step - loss: 0.2217 - accuracy: 0.9560 - val_loss: 3.0022 - val_accuracy: 0.8571\n",
            "Epoch 13/20\n",
            "12/12 [==============================] - 0s 5ms/step - loss: 0.2948 - accuracy: 0.9505 - val_loss: 2.8656 - val_accuracy: 0.8462\n",
            "Epoch 14/20\n",
            "12/12 [==============================] - 0s 5ms/step - loss: 0.6678 - accuracy: 0.9313 - val_loss: 2.7449 - val_accuracy: 0.7802\n",
            "Epoch 15/20\n",
            "12/12 [==============================] - 0s 4ms/step - loss: 1.2367 - accuracy: 0.8736 - val_loss: 4.0869 - val_accuracy: 0.7473\n",
            "Epoch 16/20\n",
            "12/12 [==============================] - 0s 5ms/step - loss: 0.3805 - accuracy: 0.9258 - val_loss: 3.2878 - val_accuracy: 0.7473\n",
            "Epoch 17/20\n",
            "12/12 [==============================] - 0s 5ms/step - loss: 0.5136 - accuracy: 0.9368 - val_loss: 2.9826 - val_accuracy: 0.7912\n",
            "Epoch 18/20\n",
            "12/12 [==============================] - 0s 5ms/step - loss: 0.2359 - accuracy: 0.9533 - val_loss: 2.6512 - val_accuracy: 0.8022\n",
            "Epoch 19/20\n",
            "12/12 [==============================] - 0s 5ms/step - loss: 0.3412 - accuracy: 0.9368 - val_loss: 2.8429 - val_accuracy: 0.7582\n",
            "Epoch 20/20\n",
            "12/12 [==============================] - 0s 5ms/step - loss: 0.2037 - accuracy: 0.9588 - val_loss: 2.5423 - val_accuracy: 0.8571\n"
          ],
          "name": "stdout"
        },
        {
          "output_type": "execute_result",
          "data": {
            "text/plain": [
              "<tensorflow.python.keras.callbacks.History at 0x7f2162971b38>"
            ]
          },
          "metadata": {
            "tags": []
          },
          "execution_count": 19
        }
      ]
    },
    {
      "cell_type": "code",
      "metadata": {
        "id": "CNyRPPpNAY7Q",
        "colab_type": "code",
        "outputId": "34d89fc8-6f29-4ffc-8393-aaf1107696ce",
        "colab": {
          "base_uri": "https://localhost:8080/",
          "height": 68
        }
      },
      "source": [
        "loss, acc = model.evaluate(test_ds)\n",
        "print('Loss\\t\\t:', loss, \n",
        "      '\\nAccuracy\\t:', acc)"
      ],
      "execution_count": 20,
      "outputs": [
        {
          "output_type": "stream",
          "text": [
            "4/4 [==============================] - 0s 3ms/step - loss: 0.8856 - accuracy: 0.8947\n",
            "Loss\t\t: 0.8856209516525269 \n",
            "Accuracy\t: 0.8947368264198303\n"
          ],
          "name": "stdout"
        }
      ]
    },
    {
      "cell_type": "code",
      "metadata": {
        "id": "ciNta2ZCKDS3",
        "colab_type": "code",
        "colab": {
          "base_uri": "https://localhost:8080/",
          "height": 187
        },
        "outputId": "41a78ad5-3505-4c0d-ddad-74c66f9a52dc"
      },
      "source": [
        "predictions = model.predict(test_ds)\n",
        "# Show some results\n",
        "for prediction, survived in zip(predictions[:10], list(test_ds)[0][1][:10]):\n",
        "  print(\"Predicted survival\\t: {:.2%}\\t\".format(prediction[0]),\n",
        "        \" | Actual outcome\\t: \",\n",
        "        (\"Malignant\" if bool(survived) else \"Benign\"))"
      ],
      "execution_count": 21,
      "outputs": [
        {
          "output_type": "stream",
          "text": [
            "Predicted survival\t: -2164.80%\t  | Actual outcome\t:  Benign\n",
            "Predicted survival\t: -1402.70%\t  | Actual outcome\t:  Benign\n",
            "Predicted survival\t: -1534.22%\t  | Actual outcome\t:  Benign\n",
            "Predicted survival\t: 1866.41%\t  | Actual outcome\t:  Malignant\n",
            "Predicted survival\t: -921.57%\t  | Actual outcome\t:  Benign\n",
            "Predicted survival\t: -5500.32%\t  | Actual outcome\t:  Benign\n",
            "Predicted survival\t: -7876.39%\t  | Actual outcome\t:  Benign\n",
            "Predicted survival\t: 8492.21%\t  | Actual outcome\t:  Malignant\n",
            "Predicted survival\t: 1081.54%\t  | Actual outcome\t:  Benign\n",
            "Predicted survival\t: 552.41%\t  | Actual outcome\t:  Malignant\n"
          ],
          "name": "stdout"
        }
      ]
    }
  ]
}