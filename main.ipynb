{
  "nbformat": 4,
  "nbformat_minor": 0,
  "metadata": {
    "colab": {
      "name": "main.ipynb",
      "provenance": [],
      "collapsed_sections": [],
      "include_colab_link": true
    },
    "kernelspec": {
      "name": "python3",
      "display_name": "Python 3"
    }
  },
  "cells": [
    {
      "cell_type": "markdown",
      "metadata": {
        "id": "view-in-github",
        "colab_type": "text"
      },
      "source": [
        "<a href=\"https://colab.research.google.com/github/kvnchandra/ml-assignment-bangkit/blob/master/main.ipynb\" target=\"_parent\"><img src=\"https://colab.research.google.com/assets/colab-badge.svg\" alt=\"Open In Colab\"/></a>"
      ]
    },
    {
      "cell_type": "markdown",
      "metadata": {
        "id": "0X85ZBYzGAm3",
        "colab_type": "text"
      },
      "source": [
        "# **Predicting Breast Cancer Diagnostic**\n",
        "\n",
        "\n",
        "---\n",
        "\n",
        "\n",
        "*Bangkit Academy 2020 : DPS-1 #05-W05-First Machine Learning Project - MLCC*\n",
        "\n",
        "Team members :\n",
        "1.   Kevin Chandra\n",
        "2.   Oktavia Citra\n",
        "3.   Gani Nur Fadli\n",
        "\n",
        "We use data from [kaggle.com ](https://https://www.kaggle.com/) with the title \"Breast Cancer Wisconsin (Diagnostic) Data Set\". We want to predict whether the cancer is benign or malignant of breast cancer patients. We can build this program because we've learned a lot from [Machine Learning Crash Course](https://developers.google.com/machine-learning/crash-course) and [TensorFlow Website](https://www.tensorflow.org/tutorials/)\n",
        "\n",
        "***Here the step by step and code bellow!***\n"
      ]
    },
    {
      "cell_type": "markdown",
      "metadata": {
        "id": "98SN36rVJWJS",
        "colab_type": "text"
      },
      "source": [
        "# **Setup**"
      ]
    },
    {
      "cell_type": "markdown",
      "metadata": {
        "id": "7bWhxa4YCXjK",
        "colab_type": "text"
      },
      "source": [
        "identification tensorflow newest version, so there is no error with the caption \"tensorflow is already loaded. please restart the runtime to change versions.\""
      ]
    },
    {
      "cell_type": "code",
      "metadata": {
        "id": "NA5H98LMJx6W",
        "colab_type": "code",
        "colab": {}
      },
      "source": [
        "try:\n",
        "  # %tensorflow_version only exists in Colab.\n",
        "  %tensorflow_version 2.x\n",
        "except Exception:\n",
        "  pass"
      ],
      "execution_count": 0,
      "outputs": []
    },
    {
      "cell_type": "markdown",
      "metadata": {
        "id": "IDP3oI8-CTku",
        "colab_type": "text"
      },
      "source": [
        "import all modules and library that you need in the top"
      ]
    },
    {
      "cell_type": "code",
      "metadata": {
        "id": "bxPJYuj8CLne",
        "colab_type": "code",
        "colab": {}
      },
      "source": [
        "# Import relevant modules\n",
        "from __future__ import absolute_import, division, print_function, unicode_literals\n",
        "import functools\n",
        "import numpy as np\n",
        "import pandas as pd\n",
        "import tensorflow as tf\n",
        "import matplotlib.pyplot as plt\n",
        "import seaborn as sns\n",
        "from tensorflow import keras\n",
        "from sklearn.model_selection import train_test_split"
      ],
      "execution_count": 0,
      "outputs": []
    },
    {
      "cell_type": "markdown",
      "metadata": {
        "id": "JKza2PuZ_3Zq",
        "colab_type": "text"
      },
      "source": [
        "# **Initial Data**"
      ]
    },
    {
      "cell_type": "markdown",
      "metadata": {
        "id": "depUMkhu7ibb",
        "colab_type": "text"
      },
      "source": [
        "If you have data.csv and you want to publish on web, you can use feature Google Spreadsheet. You just need to copy the link that had been generated"
      ]
    },
    {
      "cell_type": "code",
      "metadata": {
        "id": "pAzlaEJD7Qhn",
        "colab_type": "code",
        "outputId": "1b765b2f-efd1-423e-e31c-1fbe11de504e",
        "colab": {
          "base_uri": "https://localhost:8080/",
          "height": 34
        }
      },
      "source": [
        "# Download data using URL then save as \"data.csv\"\n",
        "URL = \"https://docs.google.com/spreadsheets/d/e/2PACX-1vQwPxotnLsgXuZt6tIXlAANttT3pxhP4ph0FhSjwvGUXfGKcnFRiqJORQg_9lBC77AH7QaxYypQ24nX/pub?output=csv\"\n",
        "dataset_path = keras.utils.get_file(\"data.csv\", URL)\n",
        "dataset_path"
      ],
      "execution_count": 16,
      "outputs": [
        {
          "output_type": "execute_result",
          "data": {
            "text/plain": [
              "'/root/.keras/datasets/data.csv'"
            ]
          },
          "metadata": {
            "tags": []
          },
          "execution_count": 16
        }
      ]
    },
    {
      "cell_type": "markdown",
      "metadata": {
        "id": "0QHdNMCC8hbT",
        "colab_type": "text"
      },
      "source": [
        "This is using funcation read data csv from pandas. It's so simple"
      ]
    },
    {
      "cell_type": "code",
      "metadata": {
        "id": "5nU8hbjE7bjO",
        "colab_type": "code",
        "outputId": "d48e7001-21d2-42d6-a356-1dcdda120709",
        "colab": {
          "base_uri": "https://localhost:8080/",
          "height": 232
        }
      },
      "source": [
        "# Read data that had been dowloaded\n",
        "dataframe = pd.read_csv(dataset_path)\n",
        "dataframe.head()"
      ],
      "execution_count": 17,
      "outputs": [
        {
          "output_type": "execute_result",
          "data": {
            "text/html": [
              "<div>\n",
              "<style scoped>\n",
              "    .dataframe tbody tr th:only-of-type {\n",
              "        vertical-align: middle;\n",
              "    }\n",
              "\n",
              "    .dataframe tbody tr th {\n",
              "        vertical-align: top;\n",
              "    }\n",
              "\n",
              "    .dataframe thead th {\n",
              "        text-align: right;\n",
              "    }\n",
              "</style>\n",
              "<table border=\"1\" class=\"dataframe\">\n",
              "  <thead>\n",
              "    <tr style=\"text-align: right;\">\n",
              "      <th></th>\n",
              "      <th>id</th>\n",
              "      <th>diagnosis</th>\n",
              "      <th>radius_mean</th>\n",
              "      <th>texture_mean</th>\n",
              "      <th>perimeter_mean</th>\n",
              "      <th>area_mean</th>\n",
              "      <th>smoothness_mean</th>\n",
              "      <th>compactness_mean</th>\n",
              "      <th>concavity_mean</th>\n",
              "      <th>concave points_mean</th>\n",
              "      <th>symmetry_mean</th>\n",
              "      <th>fractal_dimension_mean</th>\n",
              "      <th>radius_se</th>\n",
              "      <th>texture_se</th>\n",
              "      <th>perimeter_se</th>\n",
              "      <th>area_se</th>\n",
              "      <th>smoothness_se</th>\n",
              "      <th>compactness_se</th>\n",
              "      <th>concavity_se</th>\n",
              "      <th>concave points_se</th>\n",
              "      <th>symmetry_se</th>\n",
              "      <th>fractal_dimension_se</th>\n",
              "      <th>radius_worst</th>\n",
              "      <th>texture_worst</th>\n",
              "      <th>perimeter_worst</th>\n",
              "      <th>area_worst</th>\n",
              "      <th>smoothness_worst</th>\n",
              "      <th>compactness_worst</th>\n",
              "      <th>concavity_worst</th>\n",
              "      <th>concave points_worst</th>\n",
              "      <th>symmetry_worst</th>\n",
              "      <th>fractal_dimension_worst</th>\n",
              "    </tr>\n",
              "  </thead>\n",
              "  <tbody>\n",
              "    <tr>\n",
              "      <th>0</th>\n",
              "      <td>842302</td>\n",
              "      <td>M</td>\n",
              "      <td>17.99</td>\n",
              "      <td>10.38</td>\n",
              "      <td>122.80</td>\n",
              "      <td>1001.0</td>\n",
              "      <td>1.184</td>\n",
              "      <td>2.776</td>\n",
              "      <td>3.001</td>\n",
              "      <td>1.471</td>\n",
              "      <td>2.419</td>\n",
              "      <td>7.871</td>\n",
              "      <td>1.095</td>\n",
              "      <td>9.053</td>\n",
              "      <td>8.589</td>\n",
              "      <td>153.40</td>\n",
              "      <td>6.399</td>\n",
              "      <td>4.904</td>\n",
              "      <td>5.373</td>\n",
              "      <td>1.587</td>\n",
              "      <td>3.003</td>\n",
              "      <td>6.193</td>\n",
              "      <td>25.38</td>\n",
              "      <td>17.33</td>\n",
              "      <td>184.60</td>\n",
              "      <td>2019.0</td>\n",
              "      <td>1.622</td>\n",
              "      <td>6.656</td>\n",
              "      <td>7.119</td>\n",
              "      <td>2.654</td>\n",
              "      <td>4.601</td>\n",
              "      <td>1.189</td>\n",
              "    </tr>\n",
              "    <tr>\n",
              "      <th>1</th>\n",
              "      <td>842517</td>\n",
              "      <td>M</td>\n",
              "      <td>20.57</td>\n",
              "      <td>17.77</td>\n",
              "      <td>132.90</td>\n",
              "      <td>1326.0</td>\n",
              "      <td>8.474</td>\n",
              "      <td>7.864</td>\n",
              "      <td>869.000</td>\n",
              "      <td>7.017</td>\n",
              "      <td>1.812</td>\n",
              "      <td>5.667</td>\n",
              "      <td>5.435</td>\n",
              "      <td>7.339</td>\n",
              "      <td>3.398</td>\n",
              "      <td>74.08</td>\n",
              "      <td>5.225</td>\n",
              "      <td>1.308</td>\n",
              "      <td>186.000</td>\n",
              "      <td>134.000</td>\n",
              "      <td>1.389</td>\n",
              "      <td>3.532</td>\n",
              "      <td>24.99</td>\n",
              "      <td>23.41</td>\n",
              "      <td>158.80</td>\n",
              "      <td>1956.0</td>\n",
              "      <td>1.238</td>\n",
              "      <td>1.866</td>\n",
              "      <td>2.416</td>\n",
              "      <td>186.000</td>\n",
              "      <td>275.000</td>\n",
              "      <td>8.902</td>\n",
              "    </tr>\n",
              "    <tr>\n",
              "      <th>2</th>\n",
              "      <td>84300903</td>\n",
              "      <td>M</td>\n",
              "      <td>19.69</td>\n",
              "      <td>21.25</td>\n",
              "      <td>130.00</td>\n",
              "      <td>1203.0</td>\n",
              "      <td>1.096</td>\n",
              "      <td>1.599</td>\n",
              "      <td>1.974</td>\n",
              "      <td>1.279</td>\n",
              "      <td>2.069</td>\n",
              "      <td>5.999</td>\n",
              "      <td>7.456</td>\n",
              "      <td>7.869</td>\n",
              "      <td>4.585</td>\n",
              "      <td>94.03</td>\n",
              "      <td>615.000</td>\n",
              "      <td>4.006</td>\n",
              "      <td>3.832</td>\n",
              "      <td>2.058</td>\n",
              "      <td>225.000</td>\n",
              "      <td>4.571</td>\n",
              "      <td>23.57</td>\n",
              "      <td>25.53</td>\n",
              "      <td>152.50</td>\n",
              "      <td>1709.0</td>\n",
              "      <td>1.444</td>\n",
              "      <td>4.245</td>\n",
              "      <td>4.504</td>\n",
              "      <td>243.000</td>\n",
              "      <td>3.613</td>\n",
              "      <td>8.758</td>\n",
              "    </tr>\n",
              "    <tr>\n",
              "      <th>3</th>\n",
              "      <td>84348301</td>\n",
              "      <td>M</td>\n",
              "      <td>11.42</td>\n",
              "      <td>20.38</td>\n",
              "      <td>77.58</td>\n",
              "      <td>386.1</td>\n",
              "      <td>1.425</td>\n",
              "      <td>2.839</td>\n",
              "      <td>2.414</td>\n",
              "      <td>1.052</td>\n",
              "      <td>2.597</td>\n",
              "      <td>9.744</td>\n",
              "      <td>4.956</td>\n",
              "      <td>1.156</td>\n",
              "      <td>3.445</td>\n",
              "      <td>27.23</td>\n",
              "      <td>911.000</td>\n",
              "      <td>7.458</td>\n",
              "      <td>5.661</td>\n",
              "      <td>1.867</td>\n",
              "      <td>5.963</td>\n",
              "      <td>9.208</td>\n",
              "      <td>14.91</td>\n",
              "      <td>26.50</td>\n",
              "      <td>98.87</td>\n",
              "      <td>567.7</td>\n",
              "      <td>2.098</td>\n",
              "      <td>8.663</td>\n",
              "      <td>6.869</td>\n",
              "      <td>2.575</td>\n",
              "      <td>6.638</td>\n",
              "      <td>173.000</td>\n",
              "    </tr>\n",
              "    <tr>\n",
              "      <th>4</th>\n",
              "      <td>84358402</td>\n",
              "      <td>M</td>\n",
              "      <td>20.29</td>\n",
              "      <td>14.34</td>\n",
              "      <td>135.10</td>\n",
              "      <td>1297.0</td>\n",
              "      <td>1.003</td>\n",
              "      <td>1.328</td>\n",
              "      <td>198.000</td>\n",
              "      <td>1.043</td>\n",
              "      <td>1.809</td>\n",
              "      <td>5.883</td>\n",
              "      <td>7.572</td>\n",
              "      <td>7.813</td>\n",
              "      <td>5.438</td>\n",
              "      <td>94.44</td>\n",
              "      <td>1.149</td>\n",
              "      <td>2.461</td>\n",
              "      <td>5.688</td>\n",
              "      <td>1.885</td>\n",
              "      <td>1.756</td>\n",
              "      <td>5.115</td>\n",
              "      <td>22.54</td>\n",
              "      <td>16.67</td>\n",
              "      <td>152.20</td>\n",
              "      <td>1575.0</td>\n",
              "      <td>1.374</td>\n",
              "      <td>205.000</td>\n",
              "      <td>0.400</td>\n",
              "      <td>1.625</td>\n",
              "      <td>2.364</td>\n",
              "      <td>7.678</td>\n",
              "    </tr>\n",
              "  </tbody>\n",
              "</table>\n",
              "</div>"
            ],
            "text/plain": [
              "         id diagnosis  ...  symmetry_worst  fractal_dimension_worst\n",
              "0    842302         M  ...           4.601                    1.189\n",
              "1    842517         M  ...         275.000                    8.902\n",
              "2  84300903         M  ...           3.613                    8.758\n",
              "3  84348301         M  ...           6.638                  173.000\n",
              "4  84358402         M  ...           2.364                    7.678\n",
              "\n",
              "[5 rows x 32 columns]"
            ]
          },
          "metadata": {
            "tags": []
          },
          "execution_count": 17
        }
      ]
    },
    {
      "cell_type": "markdown",
      "metadata": {
        "id": "9iV_m0W57_wy",
        "colab_type": "text"
      },
      "source": [
        "Get all the columns in dataset"
      ]
    },
    {
      "cell_type": "code",
      "metadata": {
        "id": "6gFt12Yn8ED_",
        "colab_type": "code",
        "colab": {
          "base_uri": "https://localhost:8080/",
          "height": 185
        },
        "outputId": "837d5c49-ddf9-4b50-e820-9832577f35a4"
      },
      "source": [
        "dataframe.columns"
      ],
      "execution_count": 18,
      "outputs": [
        {
          "output_type": "execute_result",
          "data": {
            "text/plain": [
              "Index(['id', 'diagnosis', 'radius_mean', 'texture_mean', 'perimeter_mean',\n",
              "       'area_mean', 'smoothness_mean', 'compactness_mean', 'concavity_mean',\n",
              "       'concave points_mean', 'symmetry_mean', 'fractal_dimension_mean',\n",
              "       'radius_se', 'texture_se', 'perimeter_se', 'area_se', 'smoothness_se',\n",
              "       'compactness_se', 'concavity_se', 'concave points_se', 'symmetry_se',\n",
              "       'fractal_dimension_se', 'radius_worst', 'texture_worst',\n",
              "       'perimeter_worst', 'area_worst', 'smoothness_worst',\n",
              "       'compactness_worst', 'concavity_worst', 'concave points_worst',\n",
              "       'symmetry_worst', 'fractal_dimension_worst'],\n",
              "      dtype='object')"
            ]
          },
          "metadata": {
            "tags": []
          },
          "execution_count": 18
        }
      ]
    },
    {
      "cell_type": "markdown",
      "metadata": {
        "id": "yYTlsMcR8ExL",
        "colab_type": "text"
      },
      "source": [
        "There are some columns that have space in their name. So we rename that columns' name so there is no space in the name"
      ]
    },
    {
      "cell_type": "code",
      "metadata": {
        "id": "kEOil3Aw8QtF",
        "colab_type": "code",
        "colab": {}
      },
      "source": [
        "dataframe.rename(columns={'concave points_mean': 'concave_points_mean',\n",
        "                          'concave points_se' : 'concave_points_se',\n",
        "                          'concave points_worst' : 'concave_points_worst'},\n",
        "                 inplace=True)"
      ],
      "execution_count": 0,
      "outputs": []
    },
    {
      "cell_type": "markdown",
      "metadata": {
        "id": "SbnA0ffDyzKY",
        "colab_type": "text"
      },
      "source": [
        "Based on the table above, **id** won't be used as feature for classification problem. So we remove the **id**"
      ]
    },
    {
      "cell_type": "code",
      "metadata": {
        "id": "iu7PN7rqywz_",
        "colab_type": "code",
        "outputId": "daf1601e-3e9b-4f58-de2f-a4f6c1439a50",
        "colab": {
          "base_uri": "https://localhost:8080/",
          "height": 34
        }
      },
      "source": [
        "dataframe.drop('id', axis=1, inplace=True)  # dropping the 'id' column\n",
        "\n",
        "print(\"Row, Col\", dataframe.shape)          # (row,col)"
      ],
      "execution_count": 20,
      "outputs": [
        {
          "output_type": "stream",
          "text": [
            "Row, Col (569, 31)\n"
          ],
          "name": "stdout"
        }
      ]
    },
    {
      "cell_type": "markdown",
      "metadata": {
        "id": "0QFP6j2PzVmF",
        "colab_type": "text"
      },
      "source": [
        "For diagnosis, we change the label as 1 and 0 :\n",
        "- Benign : 0\n",
        "- Malignant : 1"
      ]
    },
    {
      "cell_type": "code",
      "metadata": {
        "id": "2GpLZKypzV9z",
        "colab_type": "code",
        "outputId": "6381dfb1-5772-4642-ee1d-e7d438876f73",
        "colab": {
          "base_uri": "https://localhost:8080/",
          "height": 215
        }
      },
      "source": [
        "dataframe['diagnosis'] = dataframe['diagnosis'].map({'M':1, 'B':0})\n",
        "\n",
        "dataframe.head()"
      ],
      "execution_count": 21,
      "outputs": [
        {
          "output_type": "execute_result",
          "data": {
            "text/html": [
              "<div>\n",
              "<style scoped>\n",
              "    .dataframe tbody tr th:only-of-type {\n",
              "        vertical-align: middle;\n",
              "    }\n",
              "\n",
              "    .dataframe tbody tr th {\n",
              "        vertical-align: top;\n",
              "    }\n",
              "\n",
              "    .dataframe thead th {\n",
              "        text-align: right;\n",
              "    }\n",
              "</style>\n",
              "<table border=\"1\" class=\"dataframe\">\n",
              "  <thead>\n",
              "    <tr style=\"text-align: right;\">\n",
              "      <th></th>\n",
              "      <th>diagnosis</th>\n",
              "      <th>radius_mean</th>\n",
              "      <th>texture_mean</th>\n",
              "      <th>perimeter_mean</th>\n",
              "      <th>area_mean</th>\n",
              "      <th>smoothness_mean</th>\n",
              "      <th>compactness_mean</th>\n",
              "      <th>concavity_mean</th>\n",
              "      <th>concave_points_mean</th>\n",
              "      <th>symmetry_mean</th>\n",
              "      <th>fractal_dimension_mean</th>\n",
              "      <th>radius_se</th>\n",
              "      <th>texture_se</th>\n",
              "      <th>perimeter_se</th>\n",
              "      <th>area_se</th>\n",
              "      <th>smoothness_se</th>\n",
              "      <th>compactness_se</th>\n",
              "      <th>concavity_se</th>\n",
              "      <th>concave_points_se</th>\n",
              "      <th>symmetry_se</th>\n",
              "      <th>fractal_dimension_se</th>\n",
              "      <th>radius_worst</th>\n",
              "      <th>texture_worst</th>\n",
              "      <th>perimeter_worst</th>\n",
              "      <th>area_worst</th>\n",
              "      <th>smoothness_worst</th>\n",
              "      <th>compactness_worst</th>\n",
              "      <th>concavity_worst</th>\n",
              "      <th>concave_points_worst</th>\n",
              "      <th>symmetry_worst</th>\n",
              "      <th>fractal_dimension_worst</th>\n",
              "    </tr>\n",
              "  </thead>\n",
              "  <tbody>\n",
              "    <tr>\n",
              "      <th>0</th>\n",
              "      <td>1</td>\n",
              "      <td>17.99</td>\n",
              "      <td>10.38</td>\n",
              "      <td>122.80</td>\n",
              "      <td>1001.0</td>\n",
              "      <td>1.184</td>\n",
              "      <td>2.776</td>\n",
              "      <td>3.001</td>\n",
              "      <td>1.471</td>\n",
              "      <td>2.419</td>\n",
              "      <td>7.871</td>\n",
              "      <td>1.095</td>\n",
              "      <td>9.053</td>\n",
              "      <td>8.589</td>\n",
              "      <td>153.40</td>\n",
              "      <td>6.399</td>\n",
              "      <td>4.904</td>\n",
              "      <td>5.373</td>\n",
              "      <td>1.587</td>\n",
              "      <td>3.003</td>\n",
              "      <td>6.193</td>\n",
              "      <td>25.38</td>\n",
              "      <td>17.33</td>\n",
              "      <td>184.60</td>\n",
              "      <td>2019.0</td>\n",
              "      <td>1.622</td>\n",
              "      <td>6.656</td>\n",
              "      <td>7.119</td>\n",
              "      <td>2.654</td>\n",
              "      <td>4.601</td>\n",
              "      <td>1.189</td>\n",
              "    </tr>\n",
              "    <tr>\n",
              "      <th>1</th>\n",
              "      <td>1</td>\n",
              "      <td>20.57</td>\n",
              "      <td>17.77</td>\n",
              "      <td>132.90</td>\n",
              "      <td>1326.0</td>\n",
              "      <td>8.474</td>\n",
              "      <td>7.864</td>\n",
              "      <td>869.000</td>\n",
              "      <td>7.017</td>\n",
              "      <td>1.812</td>\n",
              "      <td>5.667</td>\n",
              "      <td>5.435</td>\n",
              "      <td>7.339</td>\n",
              "      <td>3.398</td>\n",
              "      <td>74.08</td>\n",
              "      <td>5.225</td>\n",
              "      <td>1.308</td>\n",
              "      <td>186.000</td>\n",
              "      <td>134.000</td>\n",
              "      <td>1.389</td>\n",
              "      <td>3.532</td>\n",
              "      <td>24.99</td>\n",
              "      <td>23.41</td>\n",
              "      <td>158.80</td>\n",
              "      <td>1956.0</td>\n",
              "      <td>1.238</td>\n",
              "      <td>1.866</td>\n",
              "      <td>2.416</td>\n",
              "      <td>186.000</td>\n",
              "      <td>275.000</td>\n",
              "      <td>8.902</td>\n",
              "    </tr>\n",
              "    <tr>\n",
              "      <th>2</th>\n",
              "      <td>1</td>\n",
              "      <td>19.69</td>\n",
              "      <td>21.25</td>\n",
              "      <td>130.00</td>\n",
              "      <td>1203.0</td>\n",
              "      <td>1.096</td>\n",
              "      <td>1.599</td>\n",
              "      <td>1.974</td>\n",
              "      <td>1.279</td>\n",
              "      <td>2.069</td>\n",
              "      <td>5.999</td>\n",
              "      <td>7.456</td>\n",
              "      <td>7.869</td>\n",
              "      <td>4.585</td>\n",
              "      <td>94.03</td>\n",
              "      <td>615.000</td>\n",
              "      <td>4.006</td>\n",
              "      <td>3.832</td>\n",
              "      <td>2.058</td>\n",
              "      <td>225.000</td>\n",
              "      <td>4.571</td>\n",
              "      <td>23.57</td>\n",
              "      <td>25.53</td>\n",
              "      <td>152.50</td>\n",
              "      <td>1709.0</td>\n",
              "      <td>1.444</td>\n",
              "      <td>4.245</td>\n",
              "      <td>4.504</td>\n",
              "      <td>243.000</td>\n",
              "      <td>3.613</td>\n",
              "      <td>8.758</td>\n",
              "    </tr>\n",
              "    <tr>\n",
              "      <th>3</th>\n",
              "      <td>1</td>\n",
              "      <td>11.42</td>\n",
              "      <td>20.38</td>\n",
              "      <td>77.58</td>\n",
              "      <td>386.1</td>\n",
              "      <td>1.425</td>\n",
              "      <td>2.839</td>\n",
              "      <td>2.414</td>\n",
              "      <td>1.052</td>\n",
              "      <td>2.597</td>\n",
              "      <td>9.744</td>\n",
              "      <td>4.956</td>\n",
              "      <td>1.156</td>\n",
              "      <td>3.445</td>\n",
              "      <td>27.23</td>\n",
              "      <td>911.000</td>\n",
              "      <td>7.458</td>\n",
              "      <td>5.661</td>\n",
              "      <td>1.867</td>\n",
              "      <td>5.963</td>\n",
              "      <td>9.208</td>\n",
              "      <td>14.91</td>\n",
              "      <td>26.50</td>\n",
              "      <td>98.87</td>\n",
              "      <td>567.7</td>\n",
              "      <td>2.098</td>\n",
              "      <td>8.663</td>\n",
              "      <td>6.869</td>\n",
              "      <td>2.575</td>\n",
              "      <td>6.638</td>\n",
              "      <td>173.000</td>\n",
              "    </tr>\n",
              "    <tr>\n",
              "      <th>4</th>\n",
              "      <td>1</td>\n",
              "      <td>20.29</td>\n",
              "      <td>14.34</td>\n",
              "      <td>135.10</td>\n",
              "      <td>1297.0</td>\n",
              "      <td>1.003</td>\n",
              "      <td>1.328</td>\n",
              "      <td>198.000</td>\n",
              "      <td>1.043</td>\n",
              "      <td>1.809</td>\n",
              "      <td>5.883</td>\n",
              "      <td>7.572</td>\n",
              "      <td>7.813</td>\n",
              "      <td>5.438</td>\n",
              "      <td>94.44</td>\n",
              "      <td>1.149</td>\n",
              "      <td>2.461</td>\n",
              "      <td>5.688</td>\n",
              "      <td>1.885</td>\n",
              "      <td>1.756</td>\n",
              "      <td>5.115</td>\n",
              "      <td>22.54</td>\n",
              "      <td>16.67</td>\n",
              "      <td>152.20</td>\n",
              "      <td>1575.0</td>\n",
              "      <td>1.374</td>\n",
              "      <td>205.000</td>\n",
              "      <td>0.400</td>\n",
              "      <td>1.625</td>\n",
              "      <td>2.364</td>\n",
              "      <td>7.678</td>\n",
              "    </tr>\n",
              "  </tbody>\n",
              "</table>\n",
              "</div>"
            ],
            "text/plain": [
              "   diagnosis  radius_mean  ...  symmetry_worst  fractal_dimension_worst\n",
              "0          1        17.99  ...           4.601                    1.189\n",
              "1          1        20.57  ...         275.000                    8.902\n",
              "2          1        19.69  ...           3.613                    8.758\n",
              "3          1        11.42  ...           6.638                  173.000\n",
              "4          1        20.29  ...           2.364                    7.678\n",
              "\n",
              "[5 rows x 31 columns]"
            ]
          },
          "metadata": {
            "tags": []
          },
          "execution_count": 21
        }
      ]
    },
    {
      "cell_type": "markdown",
      "metadata": {
        "id": "4EGVs5AM8nWH",
        "colab_type": "text"
      },
      "source": [
        "In classification, you must have 3 types of data. Those are train data, validation data, and test data."
      ]
    },
    {
      "cell_type": "code",
      "metadata": {
        "id": "XXeNHsC77e-a",
        "colab_type": "code",
        "outputId": "2e4250e0-b7b9-4f0c-b62c-c37f53914f85",
        "colab": {
          "base_uri": "https://localhost:8080/",
          "height": 67
        }
      },
      "source": [
        "# Separate data into 3 types\n",
        "train, test = train_test_split(dataframe, \n",
        "                               test_size=0.2,\n",
        "                               stratify=dataframe['diagnosis'])     # split data into same ratio based on diagnosis\n",
        "\n",
        "print('Length of\\n\\tTrain Data\\t: ', len(train),\n",
        "      '\\n\\tTest Data\\t: ', len(test))"
      ],
      "execution_count": 22,
      "outputs": [
        {
          "output_type": "stream",
          "text": [
            "Length of\n",
            "\tTrain Data\t:  455 \n",
            "\tTest Data\t:  114\n"
          ],
          "name": "stdout"
        }
      ]
    },
    {
      "cell_type": "markdown",
      "metadata": {
        "id": "DAYfDgeMD-eK",
        "colab_type": "text"
      },
      "source": [
        "# **Inspect Data**"
      ]
    },
    {
      "cell_type": "code",
      "metadata": {
        "id": "RF017YCBfchz",
        "colab_type": "code",
        "outputId": "a94a8113-3ceb-4647-ba20-f823d7bda938",
        "colab": {
          "base_uri": "https://localhost:8080/",
          "height": 622
        }
      },
      "source": [
        "train.info()"
      ],
      "execution_count": 23,
      "outputs": [
        {
          "output_type": "stream",
          "text": [
            "<class 'pandas.core.frame.DataFrame'>\n",
            "Int64Index: 455 entries, 297 to 33\n",
            "Data columns (total 31 columns):\n",
            "diagnosis                  455 non-null int64\n",
            "radius_mean                455 non-null float64\n",
            "texture_mean               455 non-null float64\n",
            "perimeter_mean             455 non-null float64\n",
            "area_mean                  455 non-null float64\n",
            "smoothness_mean            455 non-null float64\n",
            "compactness_mean           455 non-null float64\n",
            "concavity_mean             455 non-null float64\n",
            "concave_points_mean        455 non-null float64\n",
            "symmetry_mean              455 non-null float64\n",
            "fractal_dimension_mean     455 non-null float64\n",
            "radius_se                  455 non-null float64\n",
            "texture_se                 455 non-null float64\n",
            "perimeter_se               455 non-null float64\n",
            "area_se                    455 non-null float64\n",
            "smoothness_se              455 non-null float64\n",
            "compactness_se             455 non-null float64\n",
            "concavity_se               455 non-null float64\n",
            "concave_points_se          455 non-null float64\n",
            "symmetry_se                455 non-null float64\n",
            "fractal_dimension_se       455 non-null float64\n",
            "radius_worst               455 non-null float64\n",
            "texture_worst              455 non-null float64\n",
            "perimeter_worst            455 non-null float64\n",
            "area_worst                 455 non-null float64\n",
            "smoothness_worst           455 non-null float64\n",
            "compactness_worst          455 non-null float64\n",
            "concavity_worst            455 non-null float64\n",
            "concave_points_worst       455 non-null float64\n",
            "symmetry_worst             455 non-null float64\n",
            "fractal_dimension_worst    455 non-null float64\n",
            "dtypes: float64(30), int64(1)\n",
            "memory usage: 113.8 KB\n"
          ],
          "name": "stdout"
        }
      ]
    },
    {
      "cell_type": "code",
      "metadata": {
        "id": "3uTwl2V9esKE",
        "colab_type": "code",
        "outputId": "d9fadad0-526a-4685-de64-9e826c6f0c8d",
        "colab": {
          "base_uri": "https://localhost:8080/",
          "height": 304
        }
      },
      "source": [
        "train.describe()"
      ],
      "execution_count": 24,
      "outputs": [
        {
          "output_type": "execute_result",
          "data": {
            "text/html": [
              "<div>\n",
              "<style scoped>\n",
              "    .dataframe tbody tr th:only-of-type {\n",
              "        vertical-align: middle;\n",
              "    }\n",
              "\n",
              "    .dataframe tbody tr th {\n",
              "        vertical-align: top;\n",
              "    }\n",
              "\n",
              "    .dataframe thead th {\n",
              "        text-align: right;\n",
              "    }\n",
              "</style>\n",
              "<table border=\"1\" class=\"dataframe\">\n",
              "  <thead>\n",
              "    <tr style=\"text-align: right;\">\n",
              "      <th></th>\n",
              "      <th>diagnosis</th>\n",
              "      <th>radius_mean</th>\n",
              "      <th>texture_mean</th>\n",
              "      <th>perimeter_mean</th>\n",
              "      <th>area_mean</th>\n",
              "      <th>smoothness_mean</th>\n",
              "      <th>compactness_mean</th>\n",
              "      <th>concavity_mean</th>\n",
              "      <th>concave_points_mean</th>\n",
              "      <th>symmetry_mean</th>\n",
              "      <th>fractal_dimension_mean</th>\n",
              "      <th>radius_se</th>\n",
              "      <th>texture_se</th>\n",
              "      <th>perimeter_se</th>\n",
              "      <th>area_se</th>\n",
              "      <th>smoothness_se</th>\n",
              "      <th>compactness_se</th>\n",
              "      <th>concavity_se</th>\n",
              "      <th>concave_points_se</th>\n",
              "      <th>symmetry_se</th>\n",
              "      <th>fractal_dimension_se</th>\n",
              "      <th>radius_worst</th>\n",
              "      <th>texture_worst</th>\n",
              "      <th>perimeter_worst</th>\n",
              "      <th>area_worst</th>\n",
              "      <th>smoothness_worst</th>\n",
              "      <th>compactness_worst</th>\n",
              "      <th>concavity_worst</th>\n",
              "      <th>concave_points_worst</th>\n",
              "      <th>symmetry_worst</th>\n",
              "      <th>fractal_dimension_worst</th>\n",
              "    </tr>\n",
              "  </thead>\n",
              "  <tbody>\n",
              "    <tr>\n",
              "      <th>count</th>\n",
              "      <td>455.000000</td>\n",
              "      <td>455.000000</td>\n",
              "      <td>455.000000</td>\n",
              "      <td>455.000000</td>\n",
              "      <td>455.000000</td>\n",
              "      <td>455.000000</td>\n",
              "      <td>455.000000</td>\n",
              "      <td>455.000000</td>\n",
              "      <td>455.000000</td>\n",
              "      <td>455.000000</td>\n",
              "      <td>455.000000</td>\n",
              "      <td>455.000000</td>\n",
              "      <td>455.000000</td>\n",
              "      <td>455.000000</td>\n",
              "      <td>455.000000</td>\n",
              "      <td>455.000000</td>\n",
              "      <td>455.000000</td>\n",
              "      <td>455.000000</td>\n",
              "      <td>455.000000</td>\n",
              "      <td>455.000000</td>\n",
              "      <td>455.000000</td>\n",
              "      <td>455.000000</td>\n",
              "      <td>455.000000</td>\n",
              "      <td>455.000000</td>\n",
              "      <td>455.000000</td>\n",
              "      <td>455.000000</td>\n",
              "      <td>455.000000</td>\n",
              "      <td>455.000000</td>\n",
              "      <td>455.000000</td>\n",
              "      <td>455.000000</td>\n",
              "      <td>455.000000</td>\n",
              "    </tr>\n",
              "    <tr>\n",
              "      <th>mean</th>\n",
              "      <td>0.373626</td>\n",
              "      <td>14.183316</td>\n",
              "      <td>19.321165</td>\n",
              "      <td>92.311275</td>\n",
              "      <td>661.470549</td>\n",
              "      <td>54.158886</td>\n",
              "      <td>30.322453</td>\n",
              "      <td>40.241774</td>\n",
              "      <td>39.000257</td>\n",
              "      <td>17.674321</td>\n",
              "      <td>66.405338</td>\n",
              "      <td>30.767624</td>\n",
              "      <td>23.884607</td>\n",
              "      <td>7.098154</td>\n",
              "      <td>41.103132</td>\n",
              "      <td>47.551393</td>\n",
              "      <td>28.458642</td>\n",
              "      <td>32.550218</td>\n",
              "      <td>38.773143</td>\n",
              "      <td>21.027747</td>\n",
              "      <td>30.247582</td>\n",
              "      <td>16.329642</td>\n",
              "      <td>25.759736</td>\n",
              "      <td>107.596396</td>\n",
              "      <td>887.906154</td>\n",
              "      <td>13.971422</td>\n",
              "      <td>31.224459</td>\n",
              "      <td>32.827037</td>\n",
              "      <td>51.855993</td>\n",
              "      <td>35.135708</td>\n",
              "      <td>57.346374</td>\n",
              "    </tr>\n",
              "    <tr>\n",
              "      <th>std</th>\n",
              "      <td>0.484299</td>\n",
              "      <td>3.581356</td>\n",
              "      <td>4.243650</td>\n",
              "      <td>24.659941</td>\n",
              "      <td>357.238957</td>\n",
              "      <td>194.449981</td>\n",
              "      <td>118.898680</td>\n",
              "      <td>144.577454</td>\n",
              "      <td>129.492601</td>\n",
              "      <td>51.845944</td>\n",
              "      <td>186.093379</td>\n",
              "      <td>101.037846</td>\n",
              "      <td>124.765016</td>\n",
              "      <td>60.880744</td>\n",
              "      <td>47.362432</td>\n",
              "      <td>160.381867</td>\n",
              "      <td>105.360480</td>\n",
              "      <td>118.631144</td>\n",
              "      <td>140.676212</td>\n",
              "      <td>61.270144</td>\n",
              "      <td>102.872969</td>\n",
              "      <td>4.879352</td>\n",
              "      <td>6.008747</td>\n",
              "      <td>33.929979</td>\n",
              "      <td>570.088612</td>\n",
              "      <td>58.377163</td>\n",
              "      <td>108.818931</td>\n",
              "      <td>113.997723</td>\n",
              "      <td>169.227823</td>\n",
              "      <td>93.528502</td>\n",
              "      <td>193.453560</td>\n",
              "    </tr>\n",
              "    <tr>\n",
              "      <th>min</th>\n",
              "      <td>0.000000</td>\n",
              "      <td>6.981000</td>\n",
              "      <td>9.710000</td>\n",
              "      <td>43.790000</td>\n",
              "      <td>143.500000</td>\n",
              "      <td>0.110000</td>\n",
              "      <td>0.060000</td>\n",
              "      <td>0.000000</td>\n",
              "      <td>0.000000</td>\n",
              "      <td>0.180000</td>\n",
              "      <td>0.060000</td>\n",
              "      <td>0.210000</td>\n",
              "      <td>0.780000</td>\n",
              "      <td>1.011000</td>\n",
              "      <td>7.228000</td>\n",
              "      <td>0.010000</td>\n",
              "      <td>1.003000</td>\n",
              "      <td>0.000000</td>\n",
              "      <td>0.000000</td>\n",
              "      <td>1.013000</td>\n",
              "      <td>1.008000</td>\n",
              "      <td>7.930000</td>\n",
              "      <td>12.020000</td>\n",
              "      <td>50.410000</td>\n",
              "      <td>185.200000</td>\n",
              "      <td>0.130000</td>\n",
              "      <td>0.100000</td>\n",
              "      <td>0.000000</td>\n",
              "      <td>0.000000</td>\n",
              "      <td>0.240000</td>\n",
              "      <td>0.120000</td>\n",
              "    </tr>\n",
              "    <tr>\n",
              "      <th>25%</th>\n",
              "      <td>0.000000</td>\n",
              "      <td>11.710000</td>\n",
              "      <td>16.400000</td>\n",
              "      <td>75.100000</td>\n",
              "      <td>420.650000</td>\n",
              "      <td>1.152000</td>\n",
              "      <td>1.450500</td>\n",
              "      <td>1.751500</td>\n",
              "      <td>1.988500</td>\n",
              "      <td>1.619000</td>\n",
              "      <td>5.794500</td>\n",
              "      <td>2.252000</td>\n",
              "      <td>1.319000</td>\n",
              "      <td>1.692500</td>\n",
              "      <td>17.670000</td>\n",
              "      <td>4.567000</td>\n",
              "      <td>1.738500</td>\n",
              "      <td>1.842000</td>\n",
              "      <td>1.364500</td>\n",
              "      <td>1.541000</td>\n",
              "      <td>2.241000</td>\n",
              "      <td>13.050000</td>\n",
              "      <td>21.395000</td>\n",
              "      <td>84.440000</td>\n",
              "      <td>516.150000</td>\n",
              "      <td>1.218500</td>\n",
              "      <td>1.841000</td>\n",
              "      <td>1.888000</td>\n",
              "      <td>1.589000</td>\n",
              "      <td>2.520000</td>\n",
              "      <td>6.640000</td>\n",
              "    </tr>\n",
              "    <tr>\n",
              "      <th>50%</th>\n",
              "      <td>0.000000</td>\n",
              "      <td>13.340000</td>\n",
              "      <td>18.820000</td>\n",
              "      <td>86.100000</td>\n",
              "      <td>546.400000</td>\n",
              "      <td>8.363000</td>\n",
              "      <td>4.726000</td>\n",
              "      <td>3.201000</td>\n",
              "      <td>3.716000</td>\n",
              "      <td>1.811000</td>\n",
              "      <td>6.222000</td>\n",
              "      <td>3.242000</td>\n",
              "      <td>1.905000</td>\n",
              "      <td>2.355000</td>\n",
              "      <td>24.720000</td>\n",
              "      <td>6.001000</td>\n",
              "      <td>2.839000</td>\n",
              "      <td>3.125000</td>\n",
              "      <td>2.536000</td>\n",
              "      <td>1.958000</td>\n",
              "      <td>3.338000</td>\n",
              "      <td>14.910000</td>\n",
              "      <td>25.450000</td>\n",
              "      <td>97.190000</td>\n",
              "      <td>680.600000</td>\n",
              "      <td>1.368000</td>\n",
              "      <td>2.772000</td>\n",
              "      <td>3.344000</td>\n",
              "      <td>2.796000</td>\n",
              "      <td>2.889000</td>\n",
              "      <td>7.632000</td>\n",
              "    </tr>\n",
              "    <tr>\n",
              "      <th>75%</th>\n",
              "      <td>1.000000</td>\n",
              "      <td>16.150000</td>\n",
              "      <td>21.810000</td>\n",
              "      <td>106.750000</td>\n",
              "      <td>808.500000</td>\n",
              "      <td>9.381000</td>\n",
              "      <td>7.696000</td>\n",
              "      <td>6.265000</td>\n",
              "      <td>7.741500</td>\n",
              "      <td>2.017000</td>\n",
              "      <td>6.878000</td>\n",
              "      <td>5.378000</td>\n",
              "      <td>7.174500</td>\n",
              "      <td>3.624500</td>\n",
              "      <td>45.460000</td>\n",
              "      <td>7.802500</td>\n",
              "      <td>5.312000</td>\n",
              "      <td>5.378000</td>\n",
              "      <td>7.960500</td>\n",
              "      <td>2.706000</td>\n",
              "      <td>4.785500</td>\n",
              "      <td>19.425000</td>\n",
              "      <td>29.765000</td>\n",
              "      <td>128.350000</td>\n",
              "      <td>1159.000000</td>\n",
              "      <td>1.562500</td>\n",
              "      <td>4.837500</td>\n",
              "      <td>5.781000</td>\n",
              "      <td>7.956500</td>\n",
              "      <td>3.320500</td>\n",
              "      <td>8.576500</td>\n",
              "    </tr>\n",
              "    <tr>\n",
              "      <th>max</th>\n",
              "      <td>1.000000</td>\n",
              "      <td>28.110000</td>\n",
              "      <td>39.280000</td>\n",
              "      <td>188.500000</td>\n",
              "      <td>2501.000000</td>\n",
              "      <td>995.000000</td>\n",
              "      <td>958.000000</td>\n",
              "      <td>973.000000</td>\n",
              "      <td>974.000000</td>\n",
              "      <td>235.000000</td>\n",
              "      <td>898.000000</td>\n",
              "      <td>726.000000</td>\n",
              "      <td>967.000000</td>\n",
              "      <td>968.000000</td>\n",
              "      <td>542.200000</td>\n",
              "      <td>968.000000</td>\n",
              "      <td>911.000000</td>\n",
              "      <td>996.000000</td>\n",
              "      <td>952.000000</td>\n",
              "      <td>388.000000</td>\n",
              "      <td>761.000000</td>\n",
              "      <td>36.040000</td>\n",
              "      <td>49.540000</td>\n",
              "      <td>251.200000</td>\n",
              "      <td>4254.000000</td>\n",
              "      <td>997.000000</td>\n",
              "      <td>937.000000</td>\n",
              "      <td>846.000000</td>\n",
              "      <td>991.000000</td>\n",
              "      <td>544.000000</td>\n",
              "      <td>997.000000</td>\n",
              "    </tr>\n",
              "  </tbody>\n",
              "</table>\n",
              "</div>"
            ],
            "text/plain": [
              "        diagnosis  radius_mean  ...  symmetry_worst  fractal_dimension_worst\n",
              "count  455.000000   455.000000  ...      455.000000               455.000000\n",
              "mean     0.373626    14.183316  ...       35.135708                57.346374\n",
              "std      0.484299     3.581356  ...       93.528502               193.453560\n",
              "min      0.000000     6.981000  ...        0.240000                 0.120000\n",
              "25%      0.000000    11.710000  ...        2.520000                 6.640000\n",
              "50%      0.000000    13.340000  ...        2.889000                 7.632000\n",
              "75%      1.000000    16.150000  ...        3.320500                 8.576500\n",
              "max      1.000000    28.110000  ...      544.000000               997.000000\n",
              "\n",
              "[8 rows x 31 columns]"
            ]
          },
          "metadata": {
            "tags": []
          },
          "execution_count": 24
        }
      ]
    },
    {
      "cell_type": "code",
      "metadata": {
        "id": "MmVdhLR-YfFs",
        "colab_type": "code",
        "outputId": "52c716d6-fa47-4d83-d6cc-7e3410e57b23",
        "colab": {
          "base_uri": "https://localhost:8080/",
          "height": 389
        }
      },
      "source": [
        "colors_list = ['lightgreen', 'crimson']\n",
        "explode_list = [0.1, 0]     # ratio for each class with which to offset each wedge.\n",
        "\n",
        "train['diagnosis'].value_counts().plot(kind='pie',\n",
        "                                       figsize=(6, 6),\n",
        "                                       autopct='%1.1f%%', \n",
        "                                       startangle=90,    \n",
        "                                       shadow=True,       \n",
        "                                       labels=None,         # turn off labels on pie chart\n",
        "                                       pctdistance=0.5,     # the ratio between the center of each pie slice and the start of the text generated by autopct \n",
        "                                       fontsize=15,\n",
        "                                       colors=colors_list,  # add custom colors\n",
        "                                       explode=explode_list \n",
        "                                       )\n",
        "\n",
        "# scale the title up by 5% to match pctdistance\n",
        "plt.title('Percentage of Malignant and Benign Case in Train Set', y = 1.05) \n",
        "\n",
        "# add legend\n",
        "plt.legend(labels=train['diagnosis'].value_counts().index, loc='upper left') \n",
        "\n",
        "plt.show()"
      ],
      "execution_count": 25,
      "outputs": [
        {
          "output_type": "display_data",
          "data": {
            "image/png": "[encoded data removed]",
            "text/plain": [
              "<Figure size 432x432 with 1 Axes>"
            ]
          },
          "metadata": {
            "tags": []
          }
        }
      ]
    },
    {
      "cell_type": "markdown",
      "metadata": {
        "id": "aMZjzPk8ERjl",
        "colab_type": "text"
      },
      "source": [
        "Choose one criteria column from the data"
      ]
    },
    {
      "cell_type": "code",
      "metadata": {
        "id": "PmdoB9UjEDVf",
        "colab_type": "code",
        "outputId": "ab0c047b-50ef-4ee1-ea04-9ba5dfc2f2f2",
        "colab": {
          "base_uri": "https://localhost:8080/",
          "height": 584
        }
      },
      "source": [
        "# Create plot to display data\n",
        "sns.pairplot(train[[\"diagnosis\", \"radius_mean\",\t\"radius_se\", \"radius_worst\"]],\n",
        "             hue = 'diagnosis', \n",
        "             diag_kind=\"kde\")"
      ],
      "execution_count": 26,
      "outputs": [
        {
          "output_type": "execute_result",
          "data": {
            "text/plain": [
              "<seaborn.axisgrid.PairGrid at 0x7fc329ab4390>"
            ]
          },
          "metadata": {
            "tags": []
          },
          "execution_count": 26
        },
        {
          "output_type": "display_data",
          "data": {
            "image/png": "[encoded data removed]",
            "text/plain": [
              "<Figure size 595.5x540 with 12 Axes>"
            ]
          },
          "metadata": {
            "tags": []
          }
        }
      ]
    },
    {
      "cell_type": "markdown",
      "metadata": {
        "id": "G6VZ_8QS8rIY",
        "colab_type": "text"
      },
      "source": [
        "Split train data to train set and val set"
      ]
    },
    {
      "cell_type": "code",
      "metadata": {
        "id": "_6NhoXOB5POH",
        "colab_type": "code",
        "colab": {
          "base_uri": "https://localhost:8080/",
          "height": 67
        },
        "outputId": "78dc2141-534a-4af3-9683-5daac7507baf"
      },
      "source": [
        "train, val = train_test_split(train, \n",
        "                              test_size=0.2, \n",
        "                              stratify=train['diagnosis'])\n",
        "\n",
        "print('Length of\\n\\tTrain Data\\t: ', len(train),\n",
        "      '\\n\\tTest Data\\t: ', len(val))"
      ],
      "execution_count": 27,
      "outputs": [
        {
          "output_type": "stream",
          "text": [
            "Length of\n",
            "\tTrain Data\t:  364 \n",
            "\tTest Data\t:  91\n"
          ],
          "name": "stdout"
        }
      ]
    }
  ]
}