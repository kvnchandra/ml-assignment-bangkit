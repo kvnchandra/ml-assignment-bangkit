{
  "nbformat": 4,
  "nbformat_minor": 0,
  "metadata": {
    "colab": {
      "name": "main.ipynb",
      "provenance": [],
      "collapsed_sections": [],
      "include_colab_link": true
    },
    "kernelspec": {
      "name": "python3",
      "display_name": "Python 3"
    }
  },
  "cells": [
    {
      "cell_type": "markdown",
      "metadata": {
        "id": "view-in-github",
        "colab_type": "text"
      },
      "source": [
        "<a href=\"https://colab.research.google.com/github/kvnchandra/ml-assignment-bangkit/blob/master/main.ipynb\" target=\"_parent\"><img src=\"https://colab.research.google.com/assets/colab-badge.svg\" alt=\"Open In Colab\"/></a>"
      ]
    },
    {
      "cell_type": "markdown",
      "metadata": {
        "id": "0X85ZBYzGAm3",
        "colab_type": "text"
      },
      "source": [
        "# **Predicting Breast Cancer Diagnostic**\n",
        "\n",
        "\n",
        "---\n",
        "\n",
        "\n",
        "*Bangkit Academy 2020 : DPS-1 #05-W05-First Machine Learning Project - MLCC*\n",
        "\n",
        "Team members :\n",
        "1.   Kevin Chandra\n",
        "2.   Oktavia Citra\n",
        "3.   Gani Nur Fadli\n",
        "\n",
        "We use data from [kaggle.com ](https://https://www.kaggle.com/) with the title \"Breast Cancer Wisconsin (Diagnostic) Data Set\". We want to predict whether the cancer is benign or malignant of breast cancer patients. We can build this program because we've learned a lot from [Machine Learning Crash Course](https://developers.google.com/machine-learning/crash-course) and [TensorFlow Website](https://www.tensorflow.org/tutorials/)\n",
        "\n",
        "***Here the step by step and code bellow!***\n"
      ]
    },
    {
      "cell_type": "markdown",
      "metadata": {
        "id": "98SN36rVJWJS",
        "colab_type": "text"
      },
      "source": [
        "# **Setup**"
      ]
    },
    {
      "cell_type": "markdown",
      "metadata": {
        "id": "7bWhxa4YCXjK",
        "colab_type": "text"
      },
      "source": [
        "identification tensorflow newest version, so there is no error with the caption \"tensorflow is already loaded. please restart the runtime to change versions.\""
      ]
    },
    {
      "cell_type": "code",
      "metadata": {
        "id": "NA5H98LMJx6W",
        "colab_type": "code",
        "colab": {}
      },
      "source": [
        "try:\n",
        "  # %tensorflow_version only exists in Colab.\n",
        "  %tensorflow_version 2.x\n",
        "except Exception:\n",
        "  pass"
      ],
      "execution_count": 0,
      "outputs": []
    },
    {
      "cell_type": "markdown",
      "metadata": {
        "id": "IDP3oI8-CTku",
        "colab_type": "text"
      },
      "source": [
        "import all modules and library that you need in the top"
      ]
    },
    {
      "cell_type": "code",
      "metadata": {
        "id": "bxPJYuj8CLne",
        "colab_type": "code",
        "colab": {}
      },
      "source": [
        "# Import relevant modules\n",
        "from __future__ import absolute_import, division, print_function, unicode_literals\n",
        "import functools\n",
        "import numpy as np\n",
        "import pandas as pd\n",
        "import tensorflow as tf\n",
        "import matplotlib.pyplot as plt\n",
        "import seaborn as sns\n",
        "from tensorflow import keras\n",
        "from sklearn.model_selection import train_test_split"
      ],
      "execution_count": 0,
      "outputs": []
    },
    {
      "cell_type": "markdown",
      "metadata": {
        "id": "JKza2PuZ_3Zq",
        "colab_type": "text"
      },
      "source": [
        "# **Initial Data**"
      ]
    },
    {
      "cell_type": "markdown",
      "metadata": {
        "id": "depUMkhu7ibb",
        "colab_type": "text"
      },
      "source": [
        "If you have data.csv and you want to publish on web, you can use feature Google Spreadsheet. You just need to copy the link that had been generated"
      ]
    },
    {
      "cell_type": "code",
      "metadata": {
        "id": "pAzlaEJD7Qhn",
        "colab_type": "code",
        "outputId": "b46f919d-3cf8-499c-f3b9-7a34963004aa",
        "colab": {
          "base_uri": "https://localhost:8080/",
          "height": 50
        }
      },
      "source": [
        "# Download data using URL then save as \"data.csv\"\n",
        "URL = \"https://docs.google.com/spreadsheets/d/e/2PACX-1vQwPxotnLsgXuZt6tIXlAANttT3pxhP4ph0FhSjwvGUXfGKcnFRiqJORQg_9lBC77AH7QaxYypQ24nX/pub?output=csv\"\n",
        "dataset_path = keras.utils.get_file(\"data.csv\", URL)\n",
        "dataset_path"
      ],
      "execution_count": 3,
      "outputs": [
        {
          "output_type": "stream",
          "text": [
            "Downloading data from https://docs.google.com/spreadsheets/d/e/2PACX-1vQwPxotnLsgXuZt6tIXlAANttT3pxhP4ph0FhSjwvGUXfGKcnFRiqJORQg_9lBC77AH7QaxYypQ24nX/pub?output=csv\n",
            "   8192/Unknown - 0s 0us/step"
          ],
          "name": "stdout"
        },
        {
          "output_type": "execute_result",
          "data": {
            "text/plain": [
              "'/root/.keras/datasets/data.csv'"
            ]
          },
          "metadata": {
            "tags": []
          },
          "execution_count": 3
        }
      ]
    },
    {
      "cell_type": "markdown",
      "metadata": {
        "id": "0QHdNMCC8hbT",
        "colab_type": "text"
      },
      "source": [
        "This is using funcation read data csv from pandas. It's so simple"
      ]
    },
    {
      "cell_type": "code",
      "metadata": {
        "id": "5nU8hbjE7bjO",
        "colab_type": "code",
        "outputId": "2aaf049c-69ea-4343-fb9c-653e6d59a061",
        "colab": {
          "base_uri": "https://localhost:8080/",
          "height": 232
        }
      },
      "source": [
        "# Read data that had been dowloaded\n",
        "dataframe = pd.read_csv(dataset_path)\n",
        "dataframe.head()"
      ],
      "execution_count": 4,
      "outputs": [
        {
          "output_type": "execute_result",
          "data": {
            "text/html": [
              "<div>\n",
              "<style scoped>\n",
              "    .dataframe tbody tr th:only-of-type {\n",
              "        vertical-align: middle;\n",
              "    }\n",
              "\n",
              "    .dataframe tbody tr th {\n",
              "        vertical-align: top;\n",
              "    }\n",
              "\n",
              "    .dataframe thead th {\n",
              "        text-align: right;\n",
              "    }\n",
              "</style>\n",
              "<table border=\"1\" class=\"dataframe\">\n",
              "  <thead>\n",
              "    <tr style=\"text-align: right;\">\n",
              "      <th></th>\n",
              "      <th>id</th>\n",
              "      <th>diagnosis</th>\n",
              "      <th>radius_mean</th>\n",
              "      <th>texture_mean</th>\n",
              "      <th>perimeter_mean</th>\n",
              "      <th>area_mean</th>\n",
              "      <th>smoothness_mean</th>\n",
              "      <th>compactness_mean</th>\n",
              "      <th>concavity_mean</th>\n",
              "      <th>concave points_mean</th>\n",
              "      <th>symmetry_mean</th>\n",
              "      <th>fractal_dimension_mean</th>\n",
              "      <th>radius_se</th>\n",
              "      <th>texture_se</th>\n",
              "      <th>perimeter_se</th>\n",
              "      <th>area_se</th>\n",
              "      <th>smoothness_se</th>\n",
              "      <th>compactness_se</th>\n",
              "      <th>concavity_se</th>\n",
              "      <th>concave points_se</th>\n",
              "      <th>symmetry_se</th>\n",
              "      <th>fractal_dimension_se</th>\n",
              "      <th>radius_worst</th>\n",
              "      <th>texture_worst</th>\n",
              "      <th>perimeter_worst</th>\n",
              "      <th>area_worst</th>\n",
              "      <th>smoothness_worst</th>\n",
              "      <th>compactness_worst</th>\n",
              "      <th>concavity_worst</th>\n",
              "      <th>concave points_worst</th>\n",
              "      <th>symmetry_worst</th>\n",
              "      <th>fractal_dimension_worst</th>\n",
              "    </tr>\n",
              "  </thead>\n",
              "  <tbody>\n",
              "    <tr>\n",
              "      <th>0</th>\n",
              "      <td>842302</td>\n",
              "      <td>M</td>\n",
              "      <td>17.99</td>\n",
              "      <td>10.38</td>\n",
              "      <td>122.80</td>\n",
              "      <td>1001.0</td>\n",
              "      <td>1.184</td>\n",
              "      <td>2.776</td>\n",
              "      <td>3.001</td>\n",
              "      <td>1.471</td>\n",
              "      <td>2.419</td>\n",
              "      <td>7.871</td>\n",
              "      <td>1.095</td>\n",
              "      <td>9.053</td>\n",
              "      <td>8.589</td>\n",
              "      <td>153.40</td>\n",
              "      <td>6.399</td>\n",
              "      <td>4.904</td>\n",
              "      <td>5.373</td>\n",
              "      <td>1.587</td>\n",
              "      <td>3.003</td>\n",
              "      <td>6.193</td>\n",
              "      <td>25.38</td>\n",
              "      <td>17.33</td>\n",
              "      <td>184.60</td>\n",
              "      <td>2019.0</td>\n",
              "      <td>1.622</td>\n",
              "      <td>6.656</td>\n",
              "      <td>7.119</td>\n",
              "      <td>2.654</td>\n",
              "      <td>4.601</td>\n",
              "      <td>1.189</td>\n",
              "    </tr>\n",
              "    <tr>\n",
              "      <th>1</th>\n",
              "      <td>842517</td>\n",
              "      <td>M</td>\n",
              "      <td>20.57</td>\n",
              "      <td>17.77</td>\n",
              "      <td>132.90</td>\n",
              "      <td>1326.0</td>\n",
              "      <td>8.474</td>\n",
              "      <td>7.864</td>\n",
              "      <td>869.000</td>\n",
              "      <td>7.017</td>\n",
              "      <td>1.812</td>\n",
              "      <td>5.667</td>\n",
              "      <td>5.435</td>\n",
              "      <td>7.339</td>\n",
              "      <td>3.398</td>\n",
              "      <td>74.08</td>\n",
              "      <td>5.225</td>\n",
              "      <td>1.308</td>\n",
              "      <td>186.000</td>\n",
              "      <td>134.000</td>\n",
              "      <td>1.389</td>\n",
              "      <td>3.532</td>\n",
              "      <td>24.99</td>\n",
              "      <td>23.41</td>\n",
              "      <td>158.80</td>\n",
              "      <td>1956.0</td>\n",
              "      <td>1.238</td>\n",
              "      <td>1.866</td>\n",
              "      <td>2.416</td>\n",
              "      <td>186.000</td>\n",
              "      <td>275.000</td>\n",
              "      <td>8.902</td>\n",
              "    </tr>\n",
              "    <tr>\n",
              "      <th>2</th>\n",
              "      <td>84300903</td>\n",
              "      <td>M</td>\n",
              "      <td>19.69</td>\n",
              "      <td>21.25</td>\n",
              "      <td>130.00</td>\n",
              "      <td>1203.0</td>\n",
              "      <td>1.096</td>\n",
              "      <td>1.599</td>\n",
              "      <td>1.974</td>\n",
              "      <td>1.279</td>\n",
              "      <td>2.069</td>\n",
              "      <td>5.999</td>\n",
              "      <td>7.456</td>\n",
              "      <td>7.869</td>\n",
              "      <td>4.585</td>\n",
              "      <td>94.03</td>\n",
              "      <td>615.000</td>\n",
              "      <td>4.006</td>\n",
              "      <td>3.832</td>\n",
              "      <td>2.058</td>\n",
              "      <td>225.000</td>\n",
              "      <td>4.571</td>\n",
              "      <td>23.57</td>\n",
              "      <td>25.53</td>\n",
              "      <td>152.50</td>\n",
              "      <td>1709.0</td>\n",
              "      <td>1.444</td>\n",
              "      <td>4.245</td>\n",
              "      <td>4.504</td>\n",
              "      <td>243.000</td>\n",
              "      <td>3.613</td>\n",
              "      <td>8.758</td>\n",
              "    </tr>\n",
              "    <tr>\n",
              "      <th>3</th>\n",
              "      <td>84348301</td>\n",
              "      <td>M</td>\n",
              "      <td>11.42</td>\n",
              "      <td>20.38</td>\n",
              "      <td>77.58</td>\n",
              "      <td>386.1</td>\n",
              "      <td>1.425</td>\n",
              "      <td>2.839</td>\n",
              "      <td>2.414</td>\n",
              "      <td>1.052</td>\n",
              "      <td>2.597</td>\n",
              "      <td>9.744</td>\n",
              "      <td>4.956</td>\n",
              "      <td>1.156</td>\n",
              "      <td>3.445</td>\n",
              "      <td>27.23</td>\n",
              "      <td>911.000</td>\n",
              "      <td>7.458</td>\n",
              "      <td>5.661</td>\n",
              "      <td>1.867</td>\n",
              "      <td>5.963</td>\n",
              "      <td>9.208</td>\n",
              "      <td>14.91</td>\n",
              "      <td>26.50</td>\n",
              "      <td>98.87</td>\n",
              "      <td>567.7</td>\n",
              "      <td>2.098</td>\n",
              "      <td>8.663</td>\n",
              "      <td>6.869</td>\n",
              "      <td>2.575</td>\n",
              "      <td>6.638</td>\n",
              "      <td>173.000</td>\n",
              "    </tr>\n",
              "    <tr>\n",
              "      <th>4</th>\n",
              "      <td>84358402</td>\n",
              "      <td>M</td>\n",
              "      <td>20.29</td>\n",
              "      <td>14.34</td>\n",
              "      <td>135.10</td>\n",
              "      <td>1297.0</td>\n",
              "      <td>1.003</td>\n",
              "      <td>1.328</td>\n",
              "      <td>198.000</td>\n",
              "      <td>1.043</td>\n",
              "      <td>1.809</td>\n",
              "      <td>5.883</td>\n",
              "      <td>7.572</td>\n",
              "      <td>7.813</td>\n",
              "      <td>5.438</td>\n",
              "      <td>94.44</td>\n",
              "      <td>1.149</td>\n",
              "      <td>2.461</td>\n",
              "      <td>5.688</td>\n",
              "      <td>1.885</td>\n",
              "      <td>1.756</td>\n",
              "      <td>5.115</td>\n",
              "      <td>22.54</td>\n",
              "      <td>16.67</td>\n",
              "      <td>152.20</td>\n",
              "      <td>1575.0</td>\n",
              "      <td>1.374</td>\n",
              "      <td>205.000</td>\n",
              "      <td>0.400</td>\n",
              "      <td>1.625</td>\n",
              "      <td>2.364</td>\n",
              "      <td>7.678</td>\n",
              "    </tr>\n",
              "  </tbody>\n",
              "</table>\n",
              "</div>"
            ],
            "text/plain": [
              "         id diagnosis  ...  symmetry_worst  fractal_dimension_worst\n",
              "0    842302         M  ...           4.601                    1.189\n",
              "1    842517         M  ...         275.000                    8.902\n",
              "2  84300903         M  ...           3.613                    8.758\n",
              "3  84348301         M  ...           6.638                  173.000\n",
              "4  84358402         M  ...           2.364                    7.678\n",
              "\n",
              "[5 rows x 32 columns]"
            ]
          },
          "metadata": {
            "tags": []
          },
          "execution_count": 4
        }
      ]
    },
    {
      "cell_type": "markdown",
      "metadata": {
        "id": "SbnA0ffDyzKY",
        "colab_type": "text"
      },
      "source": [
        "Based on the table above, **id** won't be used as feature for classification problem. So we remove the **id**"
      ]
    },
    {
      "cell_type": "code",
      "metadata": {
        "id": "iu7PN7rqywz_",
        "colab_type": "code",
        "outputId": "335c63b1-cba9-459d-ea78-93dc9a56c565",
        "colab": {
          "base_uri": "https://localhost:8080/",
          "height": 34
        }
      },
      "source": [
        "dataframe.drop('id', axis=1, inplace=True)  # dropping the 'id' column\n",
        "\n",
        "print(\"Row, Col\", dataframe.shape)          # (row,col)"
      ],
      "execution_count": 5,
      "outputs": [
        {
          "output_type": "stream",
          "text": [
            "Row, Col (569, 31)\n"
          ],
          "name": "stdout"
        }
      ]
    },
    {
      "cell_type": "markdown",
      "metadata": {
        "id": "0QFP6j2PzVmF",
        "colab_type": "text"
      },
      "source": [
        "For diagnosis, we change the label as 1 and 0 :\n",
        "- Benign : 0\n",
        "- Malignant : 1"
      ]
    },
    {
      "cell_type": "code",
      "metadata": {
        "id": "2GpLZKypzV9z",
        "colab_type": "code",
        "outputId": "0ddc15e1-c354-482e-a889-e7ad107c5bd8",
        "colab": {
          "base_uri": "https://localhost:8080/",
          "height": 232
        }
      },
      "source": [
        "dataframe['diagnosis'] = dataframe['diagnosis'].map({'M':1, 'B':0})\n",
        "\n",
        "dataframe.head()"
      ],
      "execution_count": 6,
      "outputs": [
        {
          "output_type": "execute_result",
          "data": {
            "text/html": [
              "<div>\n",
              "<style scoped>\n",
              "    .dataframe tbody tr th:only-of-type {\n",
              "        vertical-align: middle;\n",
              "    }\n",
              "\n",
              "    .dataframe tbody tr th {\n",
              "        vertical-align: top;\n",
              "    }\n",
              "\n",
              "    .dataframe thead th {\n",
              "        text-align: right;\n",
              "    }\n",
              "</style>\n",
              "<table border=\"1\" class=\"dataframe\">\n",
              "  <thead>\n",
              "    <tr style=\"text-align: right;\">\n",
              "      <th></th>\n",
              "      <th>diagnosis</th>\n",
              "      <th>radius_mean</th>\n",
              "      <th>texture_mean</th>\n",
              "      <th>perimeter_mean</th>\n",
              "      <th>area_mean</th>\n",
              "      <th>smoothness_mean</th>\n",
              "      <th>compactness_mean</th>\n",
              "      <th>concavity_mean</th>\n",
              "      <th>concave points_mean</th>\n",
              "      <th>symmetry_mean</th>\n",
              "      <th>fractal_dimension_mean</th>\n",
              "      <th>radius_se</th>\n",
              "      <th>texture_se</th>\n",
              "      <th>perimeter_se</th>\n",
              "      <th>area_se</th>\n",
              "      <th>smoothness_se</th>\n",
              "      <th>compactness_se</th>\n",
              "      <th>concavity_se</th>\n",
              "      <th>concave points_se</th>\n",
              "      <th>symmetry_se</th>\n",
              "      <th>fractal_dimension_se</th>\n",
              "      <th>radius_worst</th>\n",
              "      <th>texture_worst</th>\n",
              "      <th>perimeter_worst</th>\n",
              "      <th>area_worst</th>\n",
              "      <th>smoothness_worst</th>\n",
              "      <th>compactness_worst</th>\n",
              "      <th>concavity_worst</th>\n",
              "      <th>concave points_worst</th>\n",
              "      <th>symmetry_worst</th>\n",
              "      <th>fractal_dimension_worst</th>\n",
              "    </tr>\n",
              "  </thead>\n",
              "  <tbody>\n",
              "    <tr>\n",
              "      <th>0</th>\n",
              "      <td>1</td>\n",
              "      <td>17.99</td>\n",
              "      <td>10.38</td>\n",
              "      <td>122.80</td>\n",
              "      <td>1001.0</td>\n",
              "      <td>1.184</td>\n",
              "      <td>2.776</td>\n",
              "      <td>3.001</td>\n",
              "      <td>1.471</td>\n",
              "      <td>2.419</td>\n",
              "      <td>7.871</td>\n",
              "      <td>1.095</td>\n",
              "      <td>9.053</td>\n",
              "      <td>8.589</td>\n",
              "      <td>153.40</td>\n",
              "      <td>6.399</td>\n",
              "      <td>4.904</td>\n",
              "      <td>5.373</td>\n",
              "      <td>1.587</td>\n",
              "      <td>3.003</td>\n",
              "      <td>6.193</td>\n",
              "      <td>25.38</td>\n",
              "      <td>17.33</td>\n",
              "      <td>184.60</td>\n",
              "      <td>2019.0</td>\n",
              "      <td>1.622</td>\n",
              "      <td>6.656</td>\n",
              "      <td>7.119</td>\n",
              "      <td>2.654</td>\n",
              "      <td>4.601</td>\n",
              "      <td>1.189</td>\n",
              "    </tr>\n",
              "    <tr>\n",
              "      <th>1</th>\n",
              "      <td>1</td>\n",
              "      <td>20.57</td>\n",
              "      <td>17.77</td>\n",
              "      <td>132.90</td>\n",
              "      <td>1326.0</td>\n",
              "      <td>8.474</td>\n",
              "      <td>7.864</td>\n",
              "      <td>869.000</td>\n",
              "      <td>7.017</td>\n",
              "      <td>1.812</td>\n",
              "      <td>5.667</td>\n",
              "      <td>5.435</td>\n",
              "      <td>7.339</td>\n",
              "      <td>3.398</td>\n",
              "      <td>74.08</td>\n",
              "      <td>5.225</td>\n",
              "      <td>1.308</td>\n",
              "      <td>186.000</td>\n",
              "      <td>134.000</td>\n",
              "      <td>1.389</td>\n",
              "      <td>3.532</td>\n",
              "      <td>24.99</td>\n",
              "      <td>23.41</td>\n",
              "      <td>158.80</td>\n",
              "      <td>1956.0</td>\n",
              "      <td>1.238</td>\n",
              "      <td>1.866</td>\n",
              "      <td>2.416</td>\n",
              "      <td>186.000</td>\n",
              "      <td>275.000</td>\n",
              "      <td>8.902</td>\n",
              "    </tr>\n",
              "    <tr>\n",
              "      <th>2</th>\n",
              "      <td>1</td>\n",
              "      <td>19.69</td>\n",
              "      <td>21.25</td>\n",
              "      <td>130.00</td>\n",
              "      <td>1203.0</td>\n",
              "      <td>1.096</td>\n",
              "      <td>1.599</td>\n",
              "      <td>1.974</td>\n",
              "      <td>1.279</td>\n",
              "      <td>2.069</td>\n",
              "      <td>5.999</td>\n",
              "      <td>7.456</td>\n",
              "      <td>7.869</td>\n",
              "      <td>4.585</td>\n",
              "      <td>94.03</td>\n",
              "      <td>615.000</td>\n",
              "      <td>4.006</td>\n",
              "      <td>3.832</td>\n",
              "      <td>2.058</td>\n",
              "      <td>225.000</td>\n",
              "      <td>4.571</td>\n",
              "      <td>23.57</td>\n",
              "      <td>25.53</td>\n",
              "      <td>152.50</td>\n",
              "      <td>1709.0</td>\n",
              "      <td>1.444</td>\n",
              "      <td>4.245</td>\n",
              "      <td>4.504</td>\n",
              "      <td>243.000</td>\n",
              "      <td>3.613</td>\n",
              "      <td>8.758</td>\n",
              "    </tr>\n",
              "    <tr>\n",
              "      <th>3</th>\n",
              "      <td>1</td>\n",
              "      <td>11.42</td>\n",
              "      <td>20.38</td>\n",
              "      <td>77.58</td>\n",
              "      <td>386.1</td>\n",
              "      <td>1.425</td>\n",
              "      <td>2.839</td>\n",
              "      <td>2.414</td>\n",
              "      <td>1.052</td>\n",
              "      <td>2.597</td>\n",
              "      <td>9.744</td>\n",
              "      <td>4.956</td>\n",
              "      <td>1.156</td>\n",
              "      <td>3.445</td>\n",
              "      <td>27.23</td>\n",
              "      <td>911.000</td>\n",
              "      <td>7.458</td>\n",
              "      <td>5.661</td>\n",
              "      <td>1.867</td>\n",
              "      <td>5.963</td>\n",
              "      <td>9.208</td>\n",
              "      <td>14.91</td>\n",
              "      <td>26.50</td>\n",
              "      <td>98.87</td>\n",
              "      <td>567.7</td>\n",
              "      <td>2.098</td>\n",
              "      <td>8.663</td>\n",
              "      <td>6.869</td>\n",
              "      <td>2.575</td>\n",
              "      <td>6.638</td>\n",
              "      <td>173.000</td>\n",
              "    </tr>\n",
              "    <tr>\n",
              "      <th>4</th>\n",
              "      <td>1</td>\n",
              "      <td>20.29</td>\n",
              "      <td>14.34</td>\n",
              "      <td>135.10</td>\n",
              "      <td>1297.0</td>\n",
              "      <td>1.003</td>\n",
              "      <td>1.328</td>\n",
              "      <td>198.000</td>\n",
              "      <td>1.043</td>\n",
              "      <td>1.809</td>\n",
              "      <td>5.883</td>\n",
              "      <td>7.572</td>\n",
              "      <td>7.813</td>\n",
              "      <td>5.438</td>\n",
              "      <td>94.44</td>\n",
              "      <td>1.149</td>\n",
              "      <td>2.461</td>\n",
              "      <td>5.688</td>\n",
              "      <td>1.885</td>\n",
              "      <td>1.756</td>\n",
              "      <td>5.115</td>\n",
              "      <td>22.54</td>\n",
              "      <td>16.67</td>\n",
              "      <td>152.20</td>\n",
              "      <td>1575.0</td>\n",
              "      <td>1.374</td>\n",
              "      <td>205.000</td>\n",
              "      <td>0.400</td>\n",
              "      <td>1.625</td>\n",
              "      <td>2.364</td>\n",
              "      <td>7.678</td>\n",
              "    </tr>\n",
              "  </tbody>\n",
              "</table>\n",
              "</div>"
            ],
            "text/plain": [
              "   diagnosis  radius_mean  ...  symmetry_worst  fractal_dimension_worst\n",
              "0          1        17.99  ...           4.601                    1.189\n",
              "1          1        20.57  ...         275.000                    8.902\n",
              "2          1        19.69  ...           3.613                    8.758\n",
              "3          1        11.42  ...           6.638                  173.000\n",
              "4          1        20.29  ...           2.364                    7.678\n",
              "\n",
              "[5 rows x 31 columns]"
            ]
          },
          "metadata": {
            "tags": []
          },
          "execution_count": 6
        }
      ]
    },
    {
      "cell_type": "markdown",
      "metadata": {
        "id": "4EGVs5AM8nWH",
        "colab_type": "text"
      },
      "source": [
        "In classification, you must have 3 types of data. Those are train data, validation data, and test data."
      ]
    },
    {
      "cell_type": "code",
      "metadata": {
        "id": "XXeNHsC77e-a",
        "colab_type": "code",
        "outputId": "2c915cf8-326d-49b0-c020-9fade5c6bc6a",
        "colab": {
          "base_uri": "https://localhost:8080/",
          "height": 67
        }
      },
      "source": [
        "# Separate data into 3 types\n",
        "train, test = train_test_split(dataframe, \n",
        "                               test_size=0.2,\n",
        "                               stratify=dataframe['diagnosis'])     # split data into same ratio based on diagnosis\n",
        "\n",
        "print('Length of\\n\\tTrain Data\\t: ', len(train),\n",
        "      '\\n\\tTest Data\\t: ', len(test))"
      ],
      "execution_count": 7,
      "outputs": [
        {
          "output_type": "stream",
          "text": [
            "Length of\n",
            "\tTrain Data\t:  455 \n",
            "\tTest Data\t:  114\n"
          ],
          "name": "stdout"
        }
      ]
    },
    {
      "cell_type": "markdown",
      "metadata": {
        "id": "DAYfDgeMD-eK",
        "colab_type": "text"
      },
      "source": [
        "# **Inspect Data**"
      ]
    },
    {
      "cell_type": "markdown",
      "metadata": {
        "id": "aMZjzPk8ERjl",
        "colab_type": "text"
      },
      "source": [
        "Choose one criteria column from the data"
      ]
    },
    {
      "cell_type": "code",
      "metadata": {
        "id": "PmdoB9UjEDVf",
        "colab_type": "code",
        "outputId": "8cb4a34f-f78a-4b10-d8f0-5bb1e40dc140",
        "colab": {
          "base_uri": "https://localhost:8080/",
          "height": 764
        }
      },
      "source": [
        "# Create plot to display data\n",
        "sns.pairplot(train[[\"diagnosis\", \"radius_mean\",\t\"radius_se\", \"radius_worst\"]], \n",
        "             diag_kind=\"kde\")"
      ],
      "execution_count": 8,
      "outputs": [
        {
          "output_type": "execute_result",
          "data": {
            "text/plain": [
              "<seaborn.axisgrid.PairGrid at 0x7f0dc35c7c50>"
            ]
          },
          "metadata": {
            "tags": []
          },
          "execution_count": 8
        },
        {
          "output_type": "display_data",
          "data": {
            "image/png": "[encoded data removed]",
            "text/plain": [
              "<Figure size 720x720 with 20 Axes>"
            ]
          },
          "metadata": {
            "tags": []
          }
        }
      ]
    },
    {
      "cell_type": "code",
      "metadata": {
        "id": "_6NhoXOB5POH",
        "colab_type": "code",
        "colab": {}
      },
      "source": [
        ""
      ],
      "execution_count": 0,
      "outputs": []
    }
  ]
}